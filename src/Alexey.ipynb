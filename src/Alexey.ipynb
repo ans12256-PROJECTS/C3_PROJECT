{
 "cells": [
  {
   "cell_type": "code",
   "execution_count": null,
   "id": "d62df8e9",
   "metadata": {},
   "outputs": [],
   "source": [
    "# Empty file Memory: 107.2 MB"
   ]
  },
  {
   "cell_type": "code",
   "execution_count": 17,
   "id": "337a1256",
   "metadata": {},
   "outputs": [],
   "source": [
    "# https://towardsdatascience.com/working-with-sparse-data-sets-in-pandas-and-sklearn-d26c1cfbe067\n",
    "BYTES_TO_MB_DIV = 0.000001\n",
    "def print_memory_usage_of_data_frame(df):\n",
    "    mem = round(df.memory_usage().sum() * BYTES_TO_MB_DIV, 3) \n",
    "    print(\"Memory usage is \" + str(mem) + \" MB\")\n",
    "\n",
    "#  USAGE    \n",
    "# print_memory_usage_of_data_frame(data)"
   ]
  },
  {
   "cell_type": "code",
   "execution_count": 4,
   "id": "22499e1e",
   "metadata": {},
   "outputs": [
    {
     "data": {
      "text/plain": [
       "3.141592653589793"
      ]
     },
     "execution_count": 4,
     "metadata": {},
     "output_type": "execute_result"
    }
   ],
   "source": [
    "import math\n",
    "math.pi"
   ]
  },
  {
   "cell_type": "code",
   "execution_count": 1,
   "id": "211a76c8",
   "metadata": {},
   "outputs": [],
   "source": [
    "# https://en.wikipedia.org/wiki/Earth_radius\n",
    "# R_avg = 3,959 miles (3950~3963)\n",
    "# GPS local search subsample\n",
    "# given local coordinates, and radius, subsample df_places\n",
    "local = [47.85408756055844, -122.21958066838837] # Alexey's local USPS GPS from google maps\n",
    "# [latitude North-South, longitude East-West]; opposite order x(EW), y(NS) for geopandas\n",
    "radius = 5 # miles\n",
    "\n",
    "import math\n",
    "\n",
    "def check_gps(gps_list, radius):\n",
    "    '''\n",
    "    gps_list = [NS_gps, EW_gps] in decimal degrees (Google map right-click output)\n",
    "    exampe: [47.85408756055844, -122.21958066838837] - 98012 USPS\n",
    "    radius - desired radius of interest im miles\n",
    "    \n",
    "    https://en.wikipedia.org/wiki/Earth_radius\n",
    "    R_avg = 3,959 miles (3950~3963)\n",
    "\n",
    "    gps column in places.gps is in the form ['NS_latitudes','EW_longitudes']\n",
    "    Valid gps coordinates are NS +- 90.0, EW +- 180.0\n",
    "    There are incorrect NS 75755 (2.45%), EW 75369 (2.44%) of all data\n",
    "    let's do square first\n",
    "    IGNORE (BUG) flip through poles EW at exactly +-90.0, and +- at exactly 180.0\n",
    "    R_avg = 3959 miles, 1/4 equator-> pole 2*PI*R/4 = 90.0, or \n",
    "    PI*R/(180) = 1.0 in NS in miles\n",
    "    \n",
    "    Y_miles_NS_one_WAY_in_GPS_degrees = Y * 180/(PI * R_earth)\n",
    "    \n",
    "    R_ew = R_earth * cos(PI/180*NS_gps); R_earth at NS_gps = 0, 0 at NS_gps = +- 90.0\n",
    "    \n",
    "    X_miles_EW_one_WAY_in_GPS_degrees = X * 180/(PI * R_ew)\n",
    "    \n",
    "    import math\n",
    "    math.pi\n",
    "    3.141592653589793\n",
    "\n",
    "    '''\n",
    "    PI = math.pi  # 3.141592653589793\n",
    "    R_earth = 3959  # Average Earth radius\n",
    "    # Not GPS dependent going NS\n",
    "    Y_miles_NS_one_WAY_in_GPS_degrees = radius * 180/(PI * R_earth)\n",
    "    # GPS dependent on NS_gps - smaller EW circle\n",
    "    R_ew = R_earth * math.cos(PI/180*gps_list[0])\n",
    "    X_miles_EW_one_WAY_in_GPS_degrees = radius * 180/(PI * R_ew)\n",
    "    \n",
    "    return Y_miles_NS_one_WAY_in_GPS_degrees, X_miles_EW_one_WAY_in_GPS_degrees\n",
    "    "
   ]
  },
  {
   "cell_type": "code",
   "execution_count": 2,
   "id": "49d5fe34",
   "metadata": {},
   "outputs": [],
   "source": [
    "Y_NS_deg, X_EW_deg = check_gps([47.85408756055844, -122.21958066838837], 1.0)  # Google map 1.609344 km"
   ]
  },
  {
   "cell_type": "code",
   "execution_count": 13,
   "id": "d13b397c",
   "metadata": {},
   "outputs": [
    {
     "name": "stdout",
     "output_type": "stream",
     "text": [
      "Variable    Type         Data/Info\n",
      "----------------------------------\n",
      "X_EW_deg    float        0.021567561280927794\n",
      "Y_NS_deg    float        0.014472285807800536\n",
      "check_gps   function     <function check_gps at 0x7feab5631320>\n",
      "df_places   DataFrame                             <...>3114353 rows x 8 columns]\n",
      "local       list         n=2\n",
      "math        module       <module 'math' from '/Use<...>h.cpython-37m-darwin.so'>\n",
      "np          module       <module 'numpy' from '/Us<...>kages/numpy/__init__.py'>\n",
      "pd          module       <module 'pandas' from '/U<...>ages/pandas/__init__.py'>\n",
      "plt         module       <module 'matplotlib.pyplo<...>es/matplotlib/pyplot.py'>\n",
      "radius      int          5\n",
      "random      module       <module 'random' from '/U<...>lib/python3.7/random.py'>\n"
     ]
    }
   ],
   "source": [
    "whos"
   ]
  },
  {
   "cell_type": "code",
   "execution_count": 3,
   "id": "2108eb51",
   "metadata": {},
   "outputs": [
    {
     "name": "stdout",
     "output_type": "stream",
     "text": [
      "gPlusPlaceId_filter.json places_sub.json          reviews_sub.json\r\n",
      "places.json              places_sub_gps.json      users.json\r\n",
      "places_gps.json          reviews.json             users_sub.json\r\n"
     ]
    }
   ],
   "source": [
    "!ls data"
   ]
  },
  {
   "cell_type": "code",
   "execution_count": 5,
   "id": "c0a8ae17",
   "metadata": {},
   "outputs": [],
   "source": [
    "import numpy as np\n",
    "import pandas as pd"
   ]
  },
  {
   "cell_type": "code",
   "execution_count": 6,
   "id": "2d6a35a5",
   "metadata": {},
   "outputs": [
    {
     "name": "stdout",
     "output_type": "stream",
     "text": [
      "CPU times: user 40 s, sys: 5.37 s, total: 45.3 s\n",
      "Wall time: 48 s\n"
     ]
    }
   ],
   "source": [
    "%%time\n",
    "df=pd.read_json('data/places_gps.json')  # Wall time: 48 s"
   ]
  },
  {
   "cell_type": "code",
   "execution_count": 7,
   "id": "c9408414",
   "metadata": {},
   "outputs": [
    {
     "data": {
      "text/plain": [
       "(3087402, 9)"
      ]
     },
     "execution_count": 7,
     "metadata": {},
     "output_type": "execute_result"
    }
   ],
   "source": [
    "df.shape  # (3087402, 9)"
   ]
  },
  {
   "cell_type": "code",
   "execution_count": 8,
   "id": "ae18f5b8",
   "metadata": {},
   "outputs": [
    {
     "data": {
      "text/html": [
       "<div>\n",
       "<style scoped>\n",
       "    .dataframe tbody tr th:only-of-type {\n",
       "        vertical-align: middle;\n",
       "    }\n",
       "\n",
       "    .dataframe tbody tr th {\n",
       "        vertical-align: top;\n",
       "    }\n",
       "\n",
       "    .dataframe thead th {\n",
       "        text-align: right;\n",
       "    }\n",
       "</style>\n",
       "<table border=\"1\" class=\"dataframe\">\n",
       "  <thead>\n",
       "    <tr style=\"text-align: right;\">\n",
       "      <th></th>\n",
       "      <th>name</th>\n",
       "      <th>price</th>\n",
       "      <th>address</th>\n",
       "      <th>hours</th>\n",
       "      <th>phone</th>\n",
       "      <th>closed</th>\n",
       "      <th>gPlusPlaceId</th>\n",
       "      <th>Y_NS_latitudes</th>\n",
       "      <th>X_EW_longitudes</th>\n",
       "    </tr>\n",
       "  </thead>\n",
       "  <tbody>\n",
       "    <tr>\n",
       "      <th>0</th>\n",
       "      <td>Diamond Valley Lake Marina</td>\n",
       "      <td>None</td>\n",
       "      <td>[2615 Angler Ave, Hemet, CA 92545]</td>\n",
       "      <td>[[Monday, [['6:30 am--4:15 pm']]], [Tuesday, [...</td>\n",
       "      <td>(951) 926-7201</td>\n",
       "      <td>False</td>\n",
       "      <td>1.046995e+20</td>\n",
       "      <td>33.703804</td>\n",
       "      <td>-117.003209</td>\n",
       "    </tr>\n",
       "    <tr>\n",
       "      <th>1</th>\n",
       "      <td>Blue Ribbon Cleaners</td>\n",
       "      <td>None</td>\n",
       "      <td>[Parole, Annapolis, MD]</td>\n",
       "      <td>None</td>\n",
       "      <td>(410) 266-6123</td>\n",
       "      <td>False</td>\n",
       "      <td>1.030545e+20</td>\n",
       "      <td>38.979759</td>\n",
       "      <td>-76.547538</td>\n",
       "    </tr>\n",
       "    <tr>\n",
       "      <th>2</th>\n",
       "      <td>Portofino</td>\n",
       "      <td>None</td>\n",
       "      <td>[ул. Тутаева, 1, Nazran, Ingushetia, Russia, 3...</td>\n",
       "      <td>[[Monday, [['9:30 am--9:00 pm']]], [Tuesday, [...</td>\n",
       "      <td>8 (963) 173-38-38</td>\n",
       "      <td>False</td>\n",
       "      <td>1.098103e+20</td>\n",
       "      <td>43.227760</td>\n",
       "      <td>44.762726</td>\n",
       "    </tr>\n",
       "    <tr>\n",
       "      <th>3</th>\n",
       "      <td>T C's Referee Sports Bar</td>\n",
       "      <td>$$</td>\n",
       "      <td>[5322 W 26th St, Sioux Falls, SD 57106]</td>\n",
       "      <td>[[Monday, [['11:00 am--10:00 pm']]], [Tuesday,...</td>\n",
       "      <td>(605) 361-2208</td>\n",
       "      <td>False</td>\n",
       "      <td>1.003272e+20</td>\n",
       "      <td>43.529494</td>\n",
       "      <td>-96.792244</td>\n",
       "    </tr>\n",
       "    <tr>\n",
       "      <th>4</th>\n",
       "      <td>Carrefour - Palembang Square</td>\n",
       "      <td>None</td>\n",
       "      <td>[Jl. Angkatan 45, Kompleks Palembang Square, S...</td>\n",
       "      <td>[[Monday, [['8:00 am--9:00 pm']]], [Tuesday, [...</td>\n",
       "      <td>(0711) 359918</td>\n",
       "      <td>False</td>\n",
       "      <td>1.033685e+20</td>\n",
       "      <td>-2.976256</td>\n",
       "      <td>104.742662</td>\n",
       "    </tr>\n",
       "  </tbody>\n",
       "</table>\n",
       "</div>"
      ],
      "text/plain": [
       "                           name price  \\\n",
       "0    Diamond Valley Lake Marina  None   \n",
       "1          Blue Ribbon Cleaners  None   \n",
       "2                     Portofino  None   \n",
       "3      T C's Referee Sports Bar    $$   \n",
       "4  Carrefour - Palembang Square  None   \n",
       "\n",
       "                                             address  \\\n",
       "0                 [2615 Angler Ave, Hemet, CA 92545]   \n",
       "1                            [Parole, Annapolis, MD]   \n",
       "2  [ул. Тутаева, 1, Nazran, Ingushetia, Russia, 3...   \n",
       "3            [5322 W 26th St, Sioux Falls, SD 57106]   \n",
       "4  [Jl. Angkatan 45, Kompleks Palembang Square, S...   \n",
       "\n",
       "                                               hours              phone  \\\n",
       "0  [[Monday, [['6:30 am--4:15 pm']]], [Tuesday, [...     (951) 926-7201   \n",
       "1                                               None     (410) 266-6123   \n",
       "2  [[Monday, [['9:30 am--9:00 pm']]], [Tuesday, [...  8 (963) 173-38-38   \n",
       "3  [[Monday, [['11:00 am--10:00 pm']]], [Tuesday,...     (605) 361-2208   \n",
       "4  [[Monday, [['8:00 am--9:00 pm']]], [Tuesday, [...      (0711) 359918   \n",
       "\n",
       "   closed  gPlusPlaceId  Y_NS_latitudes  X_EW_longitudes  \n",
       "0   False  1.046995e+20       33.703804      -117.003209  \n",
       "1   False  1.030545e+20       38.979759       -76.547538  \n",
       "2   False  1.098103e+20       43.227760        44.762726  \n",
       "3   False  1.003272e+20       43.529494       -96.792244  \n",
       "4   False  1.033685e+20       -2.976256       104.742662  "
      ]
     },
     "execution_count": 8,
     "metadata": {},
     "output_type": "execute_result"
    }
   ],
   "source": [
    "df.head()"
   ]
  },
  {
   "cell_type": "code",
   "execution_count": 30,
   "id": "b4aa2c16",
   "metadata": {},
   "outputs": [
    {
     "name": "stdout",
     "output_type": "stream",
     "text": [
      "<class 'pandas.core.frame.DataFrame'>\n",
      "Int64Index: 3087402 entries, 0 to 3114352\n",
      "Data columns (total 9 columns):\n",
      " #   Column           Dtype  \n",
      "---  ------           -----  \n",
      " 0   name             object \n",
      " 1   price            object \n",
      " 2   address          object \n",
      " 3   hours            object \n",
      " 4   phone            object \n",
      " 5   closed           bool   \n",
      " 6   gPlusPlaceId     float64\n",
      " 7   Y_NS_latitudes   float64\n",
      " 8   X_EW_longitudes  float64\n",
      "dtypes: bool(1), float64(3), object(5)\n",
      "memory usage: 214.9+ MB\n"
     ]
    }
   ],
   "source": [
    "df.info()"
   ]
  },
  {
   "cell_type": "code",
   "execution_count": 10,
   "id": "f16f33e2",
   "metadata": {},
   "outputs": [],
   "source": [
    "# create subsample using current gps, save as subsample db for the model \n",
    "# use def \n",
    "curr_gps = [47.85408756055844, -122.21958066838837]\n",
    "radius = 50.0\n",
    "Y_NS_deg, X_EW_deg = check_gps(curr_gps, radius)  # Google map 1.609344 km\n",
    "Y_NS_deg, X_EW_deg\n",
    "# construct a filter based on given GPS +- box\n",
    "# AND notation as & https://pythoninoffice.com/filter-a-pandas-dataframe-or-and-not/\n",
    "gps_box = ((df.Y_NS_latitudes < curr_gps[0] + Y_NS_deg) & (df.Y_NS_latitudes > curr_gps[0] - Y_NS_deg)) & \\\n",
    "((df.X_EW_longitudes < curr_gps[1] + X_EW_deg) & (df.X_EW_longitudes > curr_gps[1] - X_EW_deg))"
   ]
  },
  {
   "cell_type": "code",
   "execution_count": 20,
   "id": "b879b590",
   "metadata": {},
   "outputs": [
    {
     "data": {
      "text/plain": [
       "array([[<AxesSubplot:title={'center':'Y_NS_latitudes'}>,\n",
       "        <AxesSubplot:title={'center':'X_EW_longitudes'}>]], dtype=object)"
      ]
     },
     "execution_count": 20,
     "metadata": {},
     "output_type": "execute_result"
    },
    {
     "data": {
      "image/png": "[encoded data removed]",
      "text/plain": [
       "<Figure size 432x288 with 2 Axes>"
      ]
     },
     "metadata": {
      "needs_background": "light"
     },
     "output_type": "display_data"
    }
   ],
   "source": [
    "df[['Y_NS_latitudes','X_EW_longitudes']].loc[gps_box].hist()\n",
    "# df[gps_box].Y_NS_latitudes.hist()"
   ]
  },
  {
   "cell_type": "code",
   "execution_count": 21,
   "id": "9794ae69",
   "metadata": {},
   "outputs": [
    {
     "data": {
      "text/html": [
       "<div>\n",
       "<style scoped>\n",
       "    .dataframe tbody tr th:only-of-type {\n",
       "        vertical-align: middle;\n",
       "    }\n",
       "\n",
       "    .dataframe tbody tr th {\n",
       "        vertical-align: top;\n",
       "    }\n",
       "\n",
       "    .dataframe thead th {\n",
       "        text-align: right;\n",
       "    }\n",
       "</style>\n",
       "<table border=\"1\" class=\"dataframe\">\n",
       "  <thead>\n",
       "    <tr style=\"text-align: right;\">\n",
       "      <th></th>\n",
       "      <th>gPlusPlaceId</th>\n",
       "    </tr>\n",
       "  </thead>\n",
       "  <tbody>\n",
       "    <tr>\n",
       "      <th>114</th>\n",
       "      <td>1.171118e+20</td>\n",
       "    </tr>\n",
       "    <tr>\n",
       "      <th>188</th>\n",
       "      <td>1.077787e+20</td>\n",
       "    </tr>\n",
       "    <tr>\n",
       "      <th>197</th>\n",
       "      <td>1.026709e+20</td>\n",
       "    </tr>\n",
       "    <tr>\n",
       "      <th>462</th>\n",
       "      <td>1.159807e+20</td>\n",
       "    </tr>\n",
       "    <tr>\n",
       "      <th>742</th>\n",
       "      <td>1.066260e+20</td>\n",
       "    </tr>\n",
       "  </tbody>\n",
       "</table>\n",
       "</div>"
      ],
      "text/plain": [
       "     gPlusPlaceId\n",
       "114  1.171118e+20\n",
       "188  1.077787e+20\n",
       "197  1.026709e+20\n",
       "462  1.159807e+20\n",
       "742  1.066260e+20"
      ]
     },
     "execution_count": 21,
     "metadata": {},
     "output_type": "execute_result"
    }
   ],
   "source": [
    "gPlusPlaceId_filter = df[gps_box].gPlusPlaceId.to_frame()\n",
    "gPlusPlaceId_filter.head()"
   ]
  },
  {
   "cell_type": "code",
   "execution_count": 29,
   "id": "966de64d",
   "metadata": {},
   "outputs": [
    {
     "data": {
      "text/plain": [
       "-9223372036854775808"
      ]
     },
     "execution_count": 29,
     "metadata": {},
     "output_type": "execute_result"
    }
   ],
   "source": [
    "df[gps_box].gPlusPlaceId.iloc[1].astype(int)"
   ]
  },
  {
   "cell_type": "code",
   "execution_count": 22,
   "id": "3afdec98",
   "metadata": {},
   "outputs": [
    {
     "name": "stdout",
     "output_type": "stream",
     "text": [
      "gPlusPlaceId_filter.json places_sub.json          reviews_sub.json\r\n",
      "places.json              places_sub_gps.json      users.json\r\n",
      "places_gps.json          reviews.json             users_sub.json\r\n"
     ]
    }
   ],
   "source": [
    "!ls data"
   ]
  },
  {
   "cell_type": "code",
   "execution_count": 23,
   "id": "da7db7ba",
   "metadata": {},
   "outputs": [],
   "source": [
    "gPlusPlaceId_filter.to_json('data/gPlusPlaceId_filter.json')"
   ]
  },
  {
   "cell_type": "code",
   "execution_count": 22,
   "id": "ff6b89d1",
   "metadata": {},
   "outputs": [
    {
     "data": {
      "text/html": [
       "<div>\n",
       "<style scoped>\n",
       "    .dataframe tbody tr th:only-of-type {\n",
       "        vertical-align: middle;\n",
       "    }\n",
       "\n",
       "    .dataframe tbody tr th {\n",
       "        vertical-align: top;\n",
       "    }\n",
       "\n",
       "    .dataframe thead th {\n",
       "        text-align: right;\n",
       "    }\n",
       "</style>\n",
       "<table border=\"1\" class=\"dataframe\">\n",
       "  <thead>\n",
       "    <tr style=\"text-align: right;\">\n",
       "      <th></th>\n",
       "      <th>NS_latitudes</th>\n",
       "      <th>EW_longitudes</th>\n",
       "    </tr>\n",
       "  </thead>\n",
       "  <tbody>\n",
       "    <tr>\n",
       "      <th>0</th>\n",
       "      <td>33.703804</td>\n",
       "      <td>-117.003209</td>\n",
       "    </tr>\n",
       "    <tr>\n",
       "      <th>1</th>\n",
       "      <td>38.979759</td>\n",
       "      <td>-76.547538</td>\n",
       "    </tr>\n",
       "    <tr>\n",
       "      <th>2</th>\n",
       "      <td>43.227760</td>\n",
       "      <td>44.762726</td>\n",
       "    </tr>\n",
       "    <tr>\n",
       "      <th>3</th>\n",
       "      <td>43.529494</td>\n",
       "      <td>-96.792244</td>\n",
       "    </tr>\n",
       "    <tr>\n",
       "      <th>4</th>\n",
       "      <td>-2.976256</td>\n",
       "      <td>104.742662</td>\n",
       "    </tr>\n",
       "  </tbody>\n",
       "</table>\n",
       "</div>"
      ],
      "text/plain": [
       "   NS_latitudes  EW_longitudes\n",
       "0     33.703804    -117.003209\n",
       "1     38.979759     -76.547538\n",
       "2     43.227760      44.762726\n",
       "3     43.529494     -96.792244\n",
       "4     -2.976256     104.742662"
      ]
     },
     "execution_count": 22,
     "metadata": {},
     "output_type": "execute_result"
    }
   ],
   "source": [
    "# gps = pd.DataFrame(df.gps.dropna().to_list(), columns = ['NS_latitudes','EW_longitudes']) #.str.split(',', expand=True)\n",
    "gps = pd.DataFrame(df_places.gps.dropna().to_list(), columns = ['NS_latitudes','EW_longitudes']) #.str.split(',', expand=True)\n",
    "gps.head()"
   ]
  },
  {
   "cell_type": "code",
   "execution_count": 28,
   "id": "2841005c",
   "metadata": {},
   "outputs": [
    {
     "data": {
      "text/plain": [
       "RangeIndex(start=0, stop=3087402, step=1)"
      ]
     },
     "execution_count": 28,
     "metadata": {},
     "output_type": "execute_result"
    }
   ],
   "source": [
    "gps.index"
   ]
  },
  {
   "cell_type": "code",
   "execution_count": 46,
   "id": "fe9aad75",
   "metadata": {},
   "outputs": [
    {
     "name": "stderr",
     "output_type": "stream",
     "text": [
      "/Users/alexey_imac/opt/anaconda3/envs/tf2/lib/python3.7/site-packages/pandas/core/indexing.py:1637: SettingWithCopyWarning: \n",
      "A value is trying to be set on a copy of a slice from a DataFrame\n",
      "\n",
      "See the caveats in the documentation: https://pandas.pydata.org/pandas-docs/stable/user_guide/indexing.html#returning-a-view-versus-a-copy\n",
      "  self._setitem_single_block(indexer, value, name)\n"
     ]
    }
   ],
   "source": [
    "df_places['NS_gps_latitudes']=np.nan\n",
    "df_places['NS_gps_latitudes'].loc[gps.index] = gps.NS_latitudes.values"
   ]
  },
  {
   "cell_type": "code",
   "execution_count": 47,
   "id": "d587a0f8",
   "metadata": {},
   "outputs": [],
   "source": [
    "df_places['EW_gps_longitudes']=np.nan\n",
    "df_places['EW_gps_longitudes'].loc[gps.index] = gps.EW_longitudes.values"
   ]
  },
  {
   "cell_type": "code",
   "execution_count": 50,
   "id": "d02065a9",
   "metadata": {},
   "outputs": [],
   "source": [
    "# df_places.drop(columns=['NS_gps_latitudes', 'EW_gps_latitudes', 'EW_gps_longitudes'], inplace=True)\n",
    "# df_places.drop(columns=['EW_gps_latitudes'])\n",
    "df_places.drop(columns=['NS_gps_latitudes', 'EW_gps_longitudes'], inplace=True)\n",
    "\n",
    "\n",
    "\n"
   ]
  },
  {
   "cell_type": "code",
   "execution_count": 55,
   "id": "f7992cff",
   "metadata": {},
   "outputs": [
    {
     "data": {
      "text/plain": [
       "array([33.703804, 38.979759, 43.22776 , ..., 21.04402 , 34.161776,\n",
       "        9.111594])"
      ]
     },
     "execution_count": 55,
     "metadata": {},
     "output_type": "execute_result"
    }
   ],
   "source": [
    "gps.NS_latitudes.values"
   ]
  },
  {
   "cell_type": "code",
   "execution_count": 59,
   "id": "daa79c5a",
   "metadata": {},
   "outputs": [
    {
     "data": {
      "text/html": [
       "<div>\n",
       "<style scoped>\n",
       "    .dataframe tbody tr th:only-of-type {\n",
       "        vertical-align: middle;\n",
       "    }\n",
       "\n",
       "    .dataframe tbody tr th {\n",
       "        vertical-align: top;\n",
       "    }\n",
       "\n",
       "    .dataframe thead th {\n",
       "        text-align: right;\n",
       "    }\n",
       "</style>\n",
       "<table border=\"1\" class=\"dataframe\">\n",
       "  <thead>\n",
       "    <tr style=\"text-align: right;\">\n",
       "      <th></th>\n",
       "      <th>name</th>\n",
       "      <th>price</th>\n",
       "      <th>address</th>\n",
       "      <th>hours</th>\n",
       "      <th>phone</th>\n",
       "      <th>closed</th>\n",
       "      <th>gPlusPlaceId</th>\n",
       "      <th>gps</th>\n",
       "      <th>NS_latitudes</th>\n",
       "      <th>EW_longitudes</th>\n",
       "    </tr>\n",
       "  </thead>\n",
       "  <tbody>\n",
       "    <tr>\n",
       "      <th>0</th>\n",
       "      <td>Diamond Valley Lake Marina</td>\n",
       "      <td>None</td>\n",
       "      <td>[2615 Angler Ave, Hemet, CA 92545]</td>\n",
       "      <td>[[Monday, [['6:30 am--4:15 pm']]], [Tuesday, [...</td>\n",
       "      <td>(951) 926-7201</td>\n",
       "      <td>False</td>\n",
       "      <td>1.046995e+20</td>\n",
       "      <td>[33.703804, -117.003209]</td>\n",
       "      <td>33.703804</td>\n",
       "      <td>-117.003209</td>\n",
       "    </tr>\n",
       "    <tr>\n",
       "      <th>1</th>\n",
       "      <td>Blue Ribbon Cleaners</td>\n",
       "      <td>None</td>\n",
       "      <td>[Parole, Annapolis, MD]</td>\n",
       "      <td>None</td>\n",
       "      <td>(410) 266-6123</td>\n",
       "      <td>False</td>\n",
       "      <td>1.030545e+20</td>\n",
       "      <td>[38.979759, -76.547538]</td>\n",
       "      <td>38.979759</td>\n",
       "      <td>-76.547538</td>\n",
       "    </tr>\n",
       "    <tr>\n",
       "      <th>2</th>\n",
       "      <td>Portofino</td>\n",
       "      <td>None</td>\n",
       "      <td>[ул. Тутаева, 1, Nazran, Ingushetia, Russia, 3...</td>\n",
       "      <td>[[Monday, [['9:30 am--9:00 pm']]], [Tuesday, [...</td>\n",
       "      <td>8 (963) 173-38-38</td>\n",
       "      <td>False</td>\n",
       "      <td>1.098103e+20</td>\n",
       "      <td>[43.22776, 44.762726]</td>\n",
       "      <td>43.227760</td>\n",
       "      <td>44.762726</td>\n",
       "    </tr>\n",
       "    <tr>\n",
       "      <th>3</th>\n",
       "      <td>T C's Referee Sports Bar</td>\n",
       "      <td>$$</td>\n",
       "      <td>[5322 W 26th St, Sioux Falls, SD 57106]</td>\n",
       "      <td>[[Monday, [['11:00 am--10:00 pm']]], [Tuesday,...</td>\n",
       "      <td>(605) 361-2208</td>\n",
       "      <td>False</td>\n",
       "      <td>1.003272e+20</td>\n",
       "      <td>[43.529494, -96.792244]</td>\n",
       "      <td>43.529494</td>\n",
       "      <td>-96.792244</td>\n",
       "    </tr>\n",
       "    <tr>\n",
       "      <th>4</th>\n",
       "      <td>Carrefour - Palembang Square</td>\n",
       "      <td>None</td>\n",
       "      <td>[Jl. Angkatan 45, Kompleks Palembang Square, S...</td>\n",
       "      <td>[[Monday, [['8:00 am--9:00 pm']]], [Tuesday, [...</td>\n",
       "      <td>(0711) 359918</td>\n",
       "      <td>False</td>\n",
       "      <td>1.033685e+20</td>\n",
       "      <td>[-2.976256, 104.742662]</td>\n",
       "      <td>-2.976256</td>\n",
       "      <td>104.742662</td>\n",
       "    </tr>\n",
       "    <tr>\n",
       "      <th>...</th>\n",
       "      <td>...</td>\n",
       "      <td>...</td>\n",
       "      <td>...</td>\n",
       "      <td>...</td>\n",
       "      <td>...</td>\n",
       "      <td>...</td>\n",
       "      <td>...</td>\n",
       "      <td>...</td>\n",
       "      <td>...</td>\n",
       "      <td>...</td>\n",
       "    </tr>\n",
       "    <tr>\n",
       "      <th>3087397</th>\n",
       "      <td>Caldian Hair Salon</td>\n",
       "      <td>None</td>\n",
       "      <td>[4633 N Kedzie Ave, Chicago, IL 60625]</td>\n",
       "      <td>None</td>\n",
       "      <td>(773) 539-1002</td>\n",
       "      <td>False</td>\n",
       "      <td>1.165809e+20</td>\n",
       "      <td>[41.965734, -87.708245]</td>\n",
       "      <td>25.018466</td>\n",
       "      <td>121.533798</td>\n",
       "    </tr>\n",
       "    <tr>\n",
       "      <th>3087398</th>\n",
       "      <td>DND Public Convenience</td>\n",
       "      <td>None</td>\n",
       "      <td>[Noida Toll Bridge, New Delhi, DL, India]</td>\n",
       "      <td>None</td>\n",
       "      <td>None</td>\n",
       "      <td>False</td>\n",
       "      <td>1.052226e+20</td>\n",
       "      <td>[28.575596, 77.283218]</td>\n",
       "      <td>38.175749</td>\n",
       "      <td>12.735448</td>\n",
       "    </tr>\n",
       "    <tr>\n",
       "      <th>3087399</th>\n",
       "      <td>Johnny Ray's Sultry Soul Food</td>\n",
       "      <td>None</td>\n",
       "      <td>[1141 Elden St, Herndon, VA 20170]</td>\n",
       "      <td>[[Monday, [['11:00 am--9:00 pm']]], [Tuesday, ...</td>\n",
       "      <td>(703) 657-2772</td>\n",
       "      <td>False</td>\n",
       "      <td>1.078538e+20</td>\n",
       "      <td>[38.964104, -77.397135]</td>\n",
       "      <td>21.044020</td>\n",
       "      <td>75.802731</td>\n",
       "    </tr>\n",
       "    <tr>\n",
       "      <th>3087400</th>\n",
       "      <td>Denver Tire &amp; Auto</td>\n",
       "      <td>None</td>\n",
       "      <td>[3309 N Hwy 16, Maiden, NC 28650]</td>\n",
       "      <td>[[Monday, [['8:00 am--5:30 pm']]], [Tuesday, [...</td>\n",
       "      <td>(704) 483-5111</td>\n",
       "      <td>False</td>\n",
       "      <td>1.088066e+20</td>\n",
       "      <td>[35.525826, -81.016541]</td>\n",
       "      <td>34.161776</td>\n",
       "      <td>-118.054231</td>\n",
       "    </tr>\n",
       "    <tr>\n",
       "      <th>3087401</th>\n",
       "      <td>Kroger Pharmacy</td>\n",
       "      <td>$$</td>\n",
       "      <td>[1050 Bridgewood Dr, Fort Worth, TX 76112]</td>\n",
       "      <td>None</td>\n",
       "      <td>(817) 446-6673</td>\n",
       "      <td>True</td>\n",
       "      <td>1.066200e+20</td>\n",
       "      <td>[32.765131, -97.219301]</td>\n",
       "      <td>9.111594</td>\n",
       "      <td>-81.846310</td>\n",
       "    </tr>\n",
       "  </tbody>\n",
       "</table>\n",
       "<p>3087402 rows × 10 columns</p>\n",
       "</div>"
      ],
      "text/plain": [
       "                                  name price  \\\n",
       "0           Diamond Valley Lake Marina  None   \n",
       "1                 Blue Ribbon Cleaners  None   \n",
       "2                            Portofino  None   \n",
       "3             T C's Referee Sports Bar    $$   \n",
       "4         Carrefour - Palembang Square  None   \n",
       "...                                ...   ...   \n",
       "3087397             Caldian Hair Salon  None   \n",
       "3087398         DND Public Convenience  None   \n",
       "3087399  Johnny Ray's Sultry Soul Food  None   \n",
       "3087400             Denver Tire & Auto  None   \n",
       "3087401                Kroger Pharmacy    $$   \n",
       "\n",
       "                                                   address  \\\n",
       "0                       [2615 Angler Ave, Hemet, CA 92545]   \n",
       "1                                  [Parole, Annapolis, MD]   \n",
       "2        [ул. Тутаева, 1, Nazran, Ingushetia, Russia, 3...   \n",
       "3                  [5322 W 26th St, Sioux Falls, SD 57106]   \n",
       "4        [Jl. Angkatan 45, Kompleks Palembang Square, S...   \n",
       "...                                                    ...   \n",
       "3087397             [4633 N Kedzie Ave, Chicago, IL 60625]   \n",
       "3087398          [Noida Toll Bridge, New Delhi, DL, India]   \n",
       "3087399                 [1141 Elden St, Herndon, VA 20170]   \n",
       "3087400                  [3309 N Hwy 16, Maiden, NC 28650]   \n",
       "3087401         [1050 Bridgewood Dr, Fort Worth, TX 76112]   \n",
       "\n",
       "                                                     hours              phone  \\\n",
       "0        [[Monday, [['6:30 am--4:15 pm']]], [Tuesday, [...     (951) 926-7201   \n",
       "1                                                     None     (410) 266-6123   \n",
       "2        [[Monday, [['9:30 am--9:00 pm']]], [Tuesday, [...  8 (963) 173-38-38   \n",
       "3        [[Monday, [['11:00 am--10:00 pm']]], [Tuesday,...     (605) 361-2208   \n",
       "4        [[Monday, [['8:00 am--9:00 pm']]], [Tuesday, [...      (0711) 359918   \n",
       "...                                                    ...                ...   \n",
       "3087397                                               None     (773) 539-1002   \n",
       "3087398                                               None               None   \n",
       "3087399  [[Monday, [['11:00 am--9:00 pm']]], [Tuesday, ...     (703) 657-2772   \n",
       "3087400  [[Monday, [['8:00 am--5:30 pm']]], [Tuesday, [...     (704) 483-5111   \n",
       "3087401                                               None     (817) 446-6673   \n",
       "\n",
       "         closed  gPlusPlaceId                       gps  NS_latitudes  \\\n",
       "0         False  1.046995e+20  [33.703804, -117.003209]     33.703804   \n",
       "1         False  1.030545e+20   [38.979759, -76.547538]     38.979759   \n",
       "2         False  1.098103e+20     [43.22776, 44.762726]     43.227760   \n",
       "3         False  1.003272e+20   [43.529494, -96.792244]     43.529494   \n",
       "4         False  1.033685e+20   [-2.976256, 104.742662]     -2.976256   \n",
       "...         ...           ...                       ...           ...   \n",
       "3087397   False  1.165809e+20   [41.965734, -87.708245]     25.018466   \n",
       "3087398   False  1.052226e+20    [28.575596, 77.283218]     38.175749   \n",
       "3087399   False  1.078538e+20   [38.964104, -77.397135]     21.044020   \n",
       "3087400   False  1.088066e+20   [35.525826, -81.016541]     34.161776   \n",
       "3087401    True  1.066200e+20   [32.765131, -97.219301]      9.111594   \n",
       "\n",
       "         EW_longitudes  \n",
       "0          -117.003209  \n",
       "1           -76.547538  \n",
       "2            44.762726  \n",
       "3           -96.792244  \n",
       "4           104.742662  \n",
       "...                ...  \n",
       "3087397     121.533798  \n",
       "3087398      12.735448  \n",
       "3087399      75.802731  \n",
       "3087400    -118.054231  \n",
       "3087401     -81.846310  \n",
       "\n",
       "[3087402 rows x 10 columns]"
      ]
     },
     "execution_count": 59,
     "metadata": {},
     "output_type": "execute_result"
    }
   ],
   "source": [
    "df_places.merge(gps, left_index=True, right_index=True)  #3087402 rows × 10 columns"
   ]
  },
  {
   "cell_type": "code",
   "execution_count": 97,
   "id": "d5488b83",
   "metadata": {},
   "outputs": [
    {
     "data": {
      "text/html": [
       "<div>\n",
       "<style scoped>\n",
       "    .dataframe tbody tr th:only-of-type {\n",
       "        vertical-align: middle;\n",
       "    }\n",
       "\n",
       "    .dataframe tbody tr th {\n",
       "        vertical-align: top;\n",
       "    }\n",
       "\n",
       "    .dataframe thead th {\n",
       "        text-align: right;\n",
       "    }\n",
       "</style>\n",
       "<table border=\"1\" class=\"dataframe\">\n",
       "  <thead>\n",
       "    <tr style=\"text-align: right;\">\n",
       "      <th></th>\n",
       "      <th>name</th>\n",
       "      <th>price</th>\n",
       "      <th>address</th>\n",
       "      <th>hours</th>\n",
       "      <th>phone</th>\n",
       "      <th>closed</th>\n",
       "      <th>gPlusPlaceId</th>\n",
       "      <th>gps</th>\n",
       "    </tr>\n",
       "  </thead>\n",
       "  <tbody>\n",
       "    <tr>\n",
       "      <th>0</th>\n",
       "      <td>Diamond Valley Lake Marina</td>\n",
       "      <td>None</td>\n",
       "      <td>[2615 Angler Ave, Hemet, CA 92545]</td>\n",
       "      <td>[[Monday, [['6:30 am--4:15 pm']]], [Tuesday, [...</td>\n",
       "      <td>(951) 926-7201</td>\n",
       "      <td>False</td>\n",
       "      <td>1.046995e+20</td>\n",
       "      <td>[33.703804, -117.003209]</td>\n",
       "    </tr>\n",
       "    <tr>\n",
       "      <th>1</th>\n",
       "      <td>Blue Ribbon Cleaners</td>\n",
       "      <td>None</td>\n",
       "      <td>[Parole, Annapolis, MD]</td>\n",
       "      <td>None</td>\n",
       "      <td>(410) 266-6123</td>\n",
       "      <td>False</td>\n",
       "      <td>1.030545e+20</td>\n",
       "      <td>[38.979759, -76.547538]</td>\n",
       "    </tr>\n",
       "    <tr>\n",
       "      <th>2</th>\n",
       "      <td>Portofino</td>\n",
       "      <td>None</td>\n",
       "      <td>[ул. Тутаева, 1, Nazran, Ingushetia, Russia, 3...</td>\n",
       "      <td>[[Monday, [['9:30 am--9:00 pm']]], [Tuesday, [...</td>\n",
       "      <td>8 (963) 173-38-38</td>\n",
       "      <td>False</td>\n",
       "      <td>1.098103e+20</td>\n",
       "      <td>[43.22776, 44.762726]</td>\n",
       "    </tr>\n",
       "    <tr>\n",
       "      <th>3</th>\n",
       "      <td>T C's Referee Sports Bar</td>\n",
       "      <td>$$</td>\n",
       "      <td>[5322 W 26th St, Sioux Falls, SD 57106]</td>\n",
       "      <td>[[Monday, [['11:00 am--10:00 pm']]], [Tuesday,...</td>\n",
       "      <td>(605) 361-2208</td>\n",
       "      <td>False</td>\n",
       "      <td>1.003272e+20</td>\n",
       "      <td>[43.529494, -96.792244]</td>\n",
       "    </tr>\n",
       "    <tr>\n",
       "      <th>4</th>\n",
       "      <td>Carrefour - Palembang Square</td>\n",
       "      <td>None</td>\n",
       "      <td>[Jl. Angkatan 45, Kompleks Palembang Square, S...</td>\n",
       "      <td>[[Monday, [['8:00 am--9:00 pm']]], [Tuesday, [...</td>\n",
       "      <td>(0711) 359918</td>\n",
       "      <td>False</td>\n",
       "      <td>1.033685e+20</td>\n",
       "      <td>[-2.976256, 104.742662]</td>\n",
       "    </tr>\n",
       "  </tbody>\n",
       "</table>\n",
       "</div>"
      ],
      "text/plain": [
       "                           name price  \\\n",
       "0    Diamond Valley Lake Marina  None   \n",
       "1          Blue Ribbon Cleaners  None   \n",
       "2                     Portofino  None   \n",
       "3      T C's Referee Sports Bar    $$   \n",
       "4  Carrefour - Palembang Square  None   \n",
       "\n",
       "                                             address  \\\n",
       "0                 [2615 Angler Ave, Hemet, CA 92545]   \n",
       "1                            [Parole, Annapolis, MD]   \n",
       "2  [ул. Тутаева, 1, Nazran, Ingushetia, Russia, 3...   \n",
       "3            [5322 W 26th St, Sioux Falls, SD 57106]   \n",
       "4  [Jl. Angkatan 45, Kompleks Palembang Square, S...   \n",
       "\n",
       "                                               hours              phone  \\\n",
       "0  [[Monday, [['6:30 am--4:15 pm']]], [Tuesday, [...     (951) 926-7201   \n",
       "1                                               None     (410) 266-6123   \n",
       "2  [[Monday, [['9:30 am--9:00 pm']]], [Tuesday, [...  8 (963) 173-38-38   \n",
       "3  [[Monday, [['11:00 am--10:00 pm']]], [Tuesday,...     (605) 361-2208   \n",
       "4  [[Monday, [['8:00 am--9:00 pm']]], [Tuesday, [...      (0711) 359918   \n",
       "\n",
       "   closed  gPlusPlaceId                       gps  \n",
       "0   False  1.046995e+20  [33.703804, -117.003209]  \n",
       "1   False  1.030545e+20   [38.979759, -76.547538]  \n",
       "2   False  1.098103e+20     [43.22776, 44.762726]  \n",
       "3   False  1.003272e+20   [43.529494, -96.792244]  \n",
       "4   False  1.033685e+20   [-2.976256, 104.742662]  "
      ]
     },
     "execution_count": 97,
     "metadata": {},
     "output_type": "execute_result"
    }
   ],
   "source": [
    "df_places.gps.dropna()\n",
    "filtered_df = df_places[df_places['gps'].notnull()]\n",
    "filtered_df.head()\n"
   ]
  },
  {
   "cell_type": "code",
   "execution_count": 104,
   "id": "0c9a24ca",
   "metadata": {},
   "outputs": [],
   "source": [
    "filtered_df = filtered_df.reindex(index=gps.index)"
   ]
  },
  {
   "cell_type": "code",
   "execution_count": 105,
   "id": "1b42f1be",
   "metadata": {},
   "outputs": [
    {
     "data": {
      "text/plain": [
       "RangeIndex(start=0, stop=3087402, step=1)"
      ]
     },
     "execution_count": 105,
     "metadata": {},
     "output_type": "execute_result"
    }
   ],
   "source": [
    "filtered_df.index"
   ]
  },
  {
   "cell_type": "code",
   "execution_count": 106,
   "id": "61f8e489",
   "metadata": {},
   "outputs": [
    {
     "data": {
      "text/plain": [
       "RangeIndex(start=0, stop=3087402, step=1)"
      ]
     },
     "execution_count": 106,
     "metadata": {},
     "output_type": "execute_result"
    }
   ],
   "source": [
    "gps.index"
   ]
  },
  {
   "cell_type": "code",
   "execution_count": 91,
   "id": "01995dea",
   "metadata": {},
   "outputs": [
    {
     "data": {
      "text/html": [
       "<div>\n",
       "<style scoped>\n",
       "    .dataframe tbody tr th:only-of-type {\n",
       "        vertical-align: middle;\n",
       "    }\n",
       "\n",
       "    .dataframe tbody tr th {\n",
       "        vertical-align: top;\n",
       "    }\n",
       "\n",
       "    .dataframe thead th {\n",
       "        text-align: right;\n",
       "    }\n",
       "</style>\n",
       "<table border=\"1\" class=\"dataframe\">\n",
       "  <thead>\n",
       "    <tr style=\"text-align: right;\">\n",
       "      <th></th>\n",
       "      <th>name</th>\n",
       "      <th>price</th>\n",
       "      <th>address</th>\n",
       "      <th>hours</th>\n",
       "      <th>phone</th>\n",
       "      <th>closed</th>\n",
       "      <th>gPlusPlaceId</th>\n",
       "      <th>gps</th>\n",
       "    </tr>\n",
       "  </thead>\n",
       "  <tbody>\n",
       "    <tr>\n",
       "      <th>0</th>\n",
       "      <td>Diamond Valley Lake Marina</td>\n",
       "      <td>None</td>\n",
       "      <td>[2615 Angler Ave, Hemet, CA 92545]</td>\n",
       "      <td>[[Monday, [['6:30 am--4:15 pm']]], [Tuesday, [...</td>\n",
       "      <td>(951) 926-7201</td>\n",
       "      <td>False</td>\n",
       "      <td>1.046995e+20</td>\n",
       "      <td>[33.703804, -117.003209]</td>\n",
       "    </tr>\n",
       "    <tr>\n",
       "      <th>1</th>\n",
       "      <td>Blue Ribbon Cleaners</td>\n",
       "      <td>None</td>\n",
       "      <td>[Parole, Annapolis, MD]</td>\n",
       "      <td>None</td>\n",
       "      <td>(410) 266-6123</td>\n",
       "      <td>False</td>\n",
       "      <td>1.030545e+20</td>\n",
       "      <td>[38.979759, -76.547538]</td>\n",
       "    </tr>\n",
       "    <tr>\n",
       "      <th>2</th>\n",
       "      <td>Portofino</td>\n",
       "      <td>None</td>\n",
       "      <td>[ул. Тутаева, 1, Nazran, Ingushetia, Russia, 3...</td>\n",
       "      <td>[[Monday, [['9:30 am--9:00 pm']]], [Tuesday, [...</td>\n",
       "      <td>8 (963) 173-38-38</td>\n",
       "      <td>False</td>\n",
       "      <td>1.098103e+20</td>\n",
       "      <td>[43.22776, 44.762726]</td>\n",
       "    </tr>\n",
       "    <tr>\n",
       "      <th>3</th>\n",
       "      <td>T C's Referee Sports Bar</td>\n",
       "      <td>$$</td>\n",
       "      <td>[5322 W 26th St, Sioux Falls, SD 57106]</td>\n",
       "      <td>[[Monday, [['11:00 am--10:00 pm']]], [Tuesday,...</td>\n",
       "      <td>(605) 361-2208</td>\n",
       "      <td>False</td>\n",
       "      <td>1.003272e+20</td>\n",
       "      <td>[43.529494, -96.792244]</td>\n",
       "    </tr>\n",
       "    <tr>\n",
       "      <th>4</th>\n",
       "      <td>Carrefour - Palembang Square</td>\n",
       "      <td>None</td>\n",
       "      <td>[Jl. Angkatan 45, Kompleks Palembang Square, S...</td>\n",
       "      <td>[[Monday, [['8:00 am--9:00 pm']]], [Tuesday, [...</td>\n",
       "      <td>(0711) 359918</td>\n",
       "      <td>False</td>\n",
       "      <td>1.033685e+20</td>\n",
       "      <td>[-2.976256, 104.742662]</td>\n",
       "    </tr>\n",
       "  </tbody>\n",
       "</table>\n",
       "</div>"
      ],
      "text/plain": [
       "                           name price  \\\n",
       "0    Diamond Valley Lake Marina  None   \n",
       "1          Blue Ribbon Cleaners  None   \n",
       "2                     Portofino  None   \n",
       "3      T C's Referee Sports Bar    $$   \n",
       "4  Carrefour - Palembang Square  None   \n",
       "\n",
       "                                             address  \\\n",
       "0                 [2615 Angler Ave, Hemet, CA 92545]   \n",
       "1                            [Parole, Annapolis, MD]   \n",
       "2  [ул. Тутаева, 1, Nazran, Ingushetia, Russia, 3...   \n",
       "3            [5322 W 26th St, Sioux Falls, SD 57106]   \n",
       "4  [Jl. Angkatan 45, Kompleks Palembang Square, S...   \n",
       "\n",
       "                                               hours              phone  \\\n",
       "0  [[Monday, [['6:30 am--4:15 pm']]], [Tuesday, [...     (951) 926-7201   \n",
       "1                                               None     (410) 266-6123   \n",
       "2  [[Monday, [['9:30 am--9:00 pm']]], [Tuesday, [...  8 (963) 173-38-38   \n",
       "3  [[Monday, [['11:00 am--10:00 pm']]], [Tuesday,...     (605) 361-2208   \n",
       "4  [[Monday, [['8:00 am--9:00 pm']]], [Tuesday, [...      (0711) 359918   \n",
       "\n",
       "   closed  gPlusPlaceId                       gps  \n",
       "0   False  1.046995e+20  [33.703804, -117.003209]  \n",
       "1   False  1.030545e+20   [38.979759, -76.547538]  \n",
       "2   False  1.098103e+20     [43.22776, 44.762726]  \n",
       "3   False  1.003272e+20   [43.529494, -96.792244]  \n",
       "4   False  1.033685e+20   [-2.976256, 104.742662]  "
      ]
     },
     "execution_count": 91,
     "metadata": {},
     "output_type": "execute_result"
    }
   ],
   "source": [
    "filtered_df.head()"
   ]
  },
  {
   "cell_type": "code",
   "execution_count": 108,
   "id": "841fba5e",
   "metadata": {},
   "outputs": [
    {
     "data": {
      "text/html": [
       "<div>\n",
       "<style scoped>\n",
       "    .dataframe tbody tr th:only-of-type {\n",
       "        vertical-align: middle;\n",
       "    }\n",
       "\n",
       "    .dataframe tbody tr th {\n",
       "        vertical-align: top;\n",
       "    }\n",
       "\n",
       "    .dataframe thead th {\n",
       "        text-align: right;\n",
       "    }\n",
       "</style>\n",
       "<table border=\"1\" class=\"dataframe\">\n",
       "  <thead>\n",
       "    <tr style=\"text-align: right;\">\n",
       "      <th></th>\n",
       "      <th>name</th>\n",
       "      <th>price</th>\n",
       "      <th>address</th>\n",
       "      <th>hours</th>\n",
       "      <th>phone</th>\n",
       "      <th>closed</th>\n",
       "      <th>gPlusPlaceId</th>\n",
       "      <th>gps</th>\n",
       "      <th>NS_latitudes</th>\n",
       "      <th>EW_longitudes</th>\n",
       "    </tr>\n",
       "  </thead>\n",
       "  <tbody>\n",
       "    <tr>\n",
       "      <th>0</th>\n",
       "      <td>Diamond Valley Lake Marina</td>\n",
       "      <td>None</td>\n",
       "      <td>[2615 Angler Ave, Hemet, CA 92545]</td>\n",
       "      <td>[[Monday, [['6:30 am--4:15 pm']]], [Tuesday, [...</td>\n",
       "      <td>(951) 926-7201</td>\n",
       "      <td>False</td>\n",
       "      <td>1.046995e+20</td>\n",
       "      <td>[33.703804, -117.003209]</td>\n",
       "      <td>33.703804</td>\n",
       "      <td>-117.003209</td>\n",
       "    </tr>\n",
       "    <tr>\n",
       "      <th>1</th>\n",
       "      <td>Blue Ribbon Cleaners</td>\n",
       "      <td>None</td>\n",
       "      <td>[Parole, Annapolis, MD]</td>\n",
       "      <td>None</td>\n",
       "      <td>(410) 266-6123</td>\n",
       "      <td>False</td>\n",
       "      <td>1.030545e+20</td>\n",
       "      <td>[38.979759, -76.547538]</td>\n",
       "      <td>38.979759</td>\n",
       "      <td>-76.547538</td>\n",
       "    </tr>\n",
       "    <tr>\n",
       "      <th>2</th>\n",
       "      <td>Portofino</td>\n",
       "      <td>None</td>\n",
       "      <td>[ул. Тутаева, 1, Nazran, Ingushetia, Russia, 3...</td>\n",
       "      <td>[[Monday, [['9:30 am--9:00 pm']]], [Tuesday, [...</td>\n",
       "      <td>8 (963) 173-38-38</td>\n",
       "      <td>False</td>\n",
       "      <td>1.098103e+20</td>\n",
       "      <td>[43.22776, 44.762726]</td>\n",
       "      <td>43.227760</td>\n",
       "      <td>44.762726</td>\n",
       "    </tr>\n",
       "    <tr>\n",
       "      <th>3</th>\n",
       "      <td>T C's Referee Sports Bar</td>\n",
       "      <td>$$</td>\n",
       "      <td>[5322 W 26th St, Sioux Falls, SD 57106]</td>\n",
       "      <td>[[Monday, [['11:00 am--10:00 pm']]], [Tuesday,...</td>\n",
       "      <td>(605) 361-2208</td>\n",
       "      <td>False</td>\n",
       "      <td>1.003272e+20</td>\n",
       "      <td>[43.529494, -96.792244]</td>\n",
       "      <td>43.529494</td>\n",
       "      <td>-96.792244</td>\n",
       "    </tr>\n",
       "    <tr>\n",
       "      <th>4</th>\n",
       "      <td>Carrefour - Palembang Square</td>\n",
       "      <td>None</td>\n",
       "      <td>[Jl. Angkatan 45, Kompleks Palembang Square, S...</td>\n",
       "      <td>[[Monday, [['8:00 am--9:00 pm']]], [Tuesday, [...</td>\n",
       "      <td>(0711) 359918</td>\n",
       "      <td>False</td>\n",
       "      <td>1.033685e+20</td>\n",
       "      <td>[-2.976256, 104.742662]</td>\n",
       "      <td>-2.976256</td>\n",
       "      <td>104.742662</td>\n",
       "    </tr>\n",
       "    <tr>\n",
       "      <th>...</th>\n",
       "      <td>...</td>\n",
       "      <td>...</td>\n",
       "      <td>...</td>\n",
       "      <td>...</td>\n",
       "      <td>...</td>\n",
       "      <td>...</td>\n",
       "      <td>...</td>\n",
       "      <td>...</td>\n",
       "      <td>...</td>\n",
       "      <td>...</td>\n",
       "    </tr>\n",
       "    <tr>\n",
       "      <th>3087397</th>\n",
       "      <td>Caldian Hair Salon</td>\n",
       "      <td>None</td>\n",
       "      <td>[4633 N Kedzie Ave, Chicago, IL 60625]</td>\n",
       "      <td>None</td>\n",
       "      <td>(773) 539-1002</td>\n",
       "      <td>False</td>\n",
       "      <td>1.165809e+20</td>\n",
       "      <td>[41.965734, -87.708245]</td>\n",
       "      <td>25.018466</td>\n",
       "      <td>121.533798</td>\n",
       "    </tr>\n",
       "    <tr>\n",
       "      <th>3087398</th>\n",
       "      <td>DND Public Convenience</td>\n",
       "      <td>None</td>\n",
       "      <td>[Noida Toll Bridge, New Delhi, DL, India]</td>\n",
       "      <td>None</td>\n",
       "      <td>None</td>\n",
       "      <td>False</td>\n",
       "      <td>1.052226e+20</td>\n",
       "      <td>[28.575596, 77.283218]</td>\n",
       "      <td>38.175749</td>\n",
       "      <td>12.735448</td>\n",
       "    </tr>\n",
       "    <tr>\n",
       "      <th>3087399</th>\n",
       "      <td>Johnny Ray's Sultry Soul Food</td>\n",
       "      <td>None</td>\n",
       "      <td>[1141 Elden St, Herndon, VA 20170]</td>\n",
       "      <td>[[Monday, [['11:00 am--9:00 pm']]], [Tuesday, ...</td>\n",
       "      <td>(703) 657-2772</td>\n",
       "      <td>False</td>\n",
       "      <td>1.078538e+20</td>\n",
       "      <td>[38.964104, -77.397135]</td>\n",
       "      <td>21.044020</td>\n",
       "      <td>75.802731</td>\n",
       "    </tr>\n",
       "    <tr>\n",
       "      <th>3087400</th>\n",
       "      <td>Denver Tire &amp; Auto</td>\n",
       "      <td>None</td>\n",
       "      <td>[3309 N Hwy 16, Maiden, NC 28650]</td>\n",
       "      <td>[[Monday, [['8:00 am--5:30 pm']]], [Tuesday, [...</td>\n",
       "      <td>(704) 483-5111</td>\n",
       "      <td>False</td>\n",
       "      <td>1.088066e+20</td>\n",
       "      <td>[35.525826, -81.016541]</td>\n",
       "      <td>34.161776</td>\n",
       "      <td>-118.054231</td>\n",
       "    </tr>\n",
       "    <tr>\n",
       "      <th>3087401</th>\n",
       "      <td>Kroger Pharmacy</td>\n",
       "      <td>$$</td>\n",
       "      <td>[1050 Bridgewood Dr, Fort Worth, TX 76112]</td>\n",
       "      <td>None</td>\n",
       "      <td>(817) 446-6673</td>\n",
       "      <td>True</td>\n",
       "      <td>1.066200e+20</td>\n",
       "      <td>[32.765131, -97.219301]</td>\n",
       "      <td>9.111594</td>\n",
       "      <td>-81.846310</td>\n",
       "    </tr>\n",
       "  </tbody>\n",
       "</table>\n",
       "<p>3087402 rows × 10 columns</p>\n",
       "</div>"
      ],
      "text/plain": [
       "                                  name price  \\\n",
       "0           Diamond Valley Lake Marina  None   \n",
       "1                 Blue Ribbon Cleaners  None   \n",
       "2                            Portofino  None   \n",
       "3             T C's Referee Sports Bar    $$   \n",
       "4         Carrefour - Palembang Square  None   \n",
       "...                                ...   ...   \n",
       "3087397             Caldian Hair Salon  None   \n",
       "3087398         DND Public Convenience  None   \n",
       "3087399  Johnny Ray's Sultry Soul Food  None   \n",
       "3087400             Denver Tire & Auto  None   \n",
       "3087401                Kroger Pharmacy    $$   \n",
       "\n",
       "                                                   address  \\\n",
       "0                       [2615 Angler Ave, Hemet, CA 92545]   \n",
       "1                                  [Parole, Annapolis, MD]   \n",
       "2        [ул. Тутаева, 1, Nazran, Ingushetia, Russia, 3...   \n",
       "3                  [5322 W 26th St, Sioux Falls, SD 57106]   \n",
       "4        [Jl. Angkatan 45, Kompleks Palembang Square, S...   \n",
       "...                                                    ...   \n",
       "3087397             [4633 N Kedzie Ave, Chicago, IL 60625]   \n",
       "3087398          [Noida Toll Bridge, New Delhi, DL, India]   \n",
       "3087399                 [1141 Elden St, Herndon, VA 20170]   \n",
       "3087400                  [3309 N Hwy 16, Maiden, NC 28650]   \n",
       "3087401         [1050 Bridgewood Dr, Fort Worth, TX 76112]   \n",
       "\n",
       "                                                     hours              phone  \\\n",
       "0        [[Monday, [['6:30 am--4:15 pm']]], [Tuesday, [...     (951) 926-7201   \n",
       "1                                                     None     (410) 266-6123   \n",
       "2        [[Monday, [['9:30 am--9:00 pm']]], [Tuesday, [...  8 (963) 173-38-38   \n",
       "3        [[Monday, [['11:00 am--10:00 pm']]], [Tuesday,...     (605) 361-2208   \n",
       "4        [[Monday, [['8:00 am--9:00 pm']]], [Tuesday, [...      (0711) 359918   \n",
       "...                                                    ...                ...   \n",
       "3087397                                               None     (773) 539-1002   \n",
       "3087398                                               None               None   \n",
       "3087399  [[Monday, [['11:00 am--9:00 pm']]], [Tuesday, ...     (703) 657-2772   \n",
       "3087400  [[Monday, [['8:00 am--5:30 pm']]], [Tuesday, [...     (704) 483-5111   \n",
       "3087401                                               None     (817) 446-6673   \n",
       "\n",
       "        closed  gPlusPlaceId                       gps  NS_latitudes  \\\n",
       "0        False  1.046995e+20  [33.703804, -117.003209]     33.703804   \n",
       "1        False  1.030545e+20   [38.979759, -76.547538]     38.979759   \n",
       "2        False  1.098103e+20     [43.22776, 44.762726]     43.227760   \n",
       "3        False  1.003272e+20   [43.529494, -96.792244]     43.529494   \n",
       "4        False  1.033685e+20   [-2.976256, 104.742662]     -2.976256   \n",
       "...        ...           ...                       ...           ...   \n",
       "3087397  False  1.165809e+20   [41.965734, -87.708245]     25.018466   \n",
       "3087398  False  1.052226e+20    [28.575596, 77.283218]     38.175749   \n",
       "3087399  False  1.078538e+20   [38.964104, -77.397135]     21.044020   \n",
       "3087400  False  1.088066e+20   [35.525826, -81.016541]     34.161776   \n",
       "3087401   True  1.066200e+20   [32.765131, -97.219301]      9.111594   \n",
       "\n",
       "         EW_longitudes  \n",
       "0          -117.003209  \n",
       "1           -76.547538  \n",
       "2            44.762726  \n",
       "3           -96.792244  \n",
       "4           104.742662  \n",
       "...                ...  \n",
       "3087397     121.533798  \n",
       "3087398      12.735448  \n",
       "3087399      75.802731  \n",
       "3087400    -118.054231  \n",
       "3087401     -81.846310  \n",
       "\n",
       "[3087402 rows x 10 columns]"
      ]
     },
     "execution_count": 108,
     "metadata": {},
     "output_type": "execute_result"
    }
   ],
   "source": [
    "filtered_df.merge(gps, left_index=True, right_index=True)"
   ]
  },
  {
   "cell_type": "code",
   "execution_count": 109,
   "id": "09595d6a",
   "metadata": {},
   "outputs": [
    {
     "data": {
      "text/plain": [
       "NS_latitudes      9.111594\n",
       "EW_longitudes   -81.846310\n",
       "Name: 3087401, dtype: float64"
      ]
     },
     "execution_count": 109,
     "metadata": {},
     "output_type": "execute_result"
    }
   ],
   "source": [
    "gps.loc[3087401]"
   ]
  },
  {
   "cell_type": "code",
   "execution_count": 202,
   "id": "fc2012a3",
   "metadata": {},
   "outputs": [
    {
     "name": "stdout",
     "output_type": "stream",
     "text": [
      "CPU times: user 56.5 s, sys: 1min 46s, total: 2min 42s\n",
      "Wall time: 3min 43s\n"
     ]
    }
   ],
   "source": [
    "%%time\n",
    "df = pd.read_json('data/places.json')  # Wall time: 1min"
   ]
  },
  {
   "cell_type": "code",
   "execution_count": 203,
   "id": "cb4b1851",
   "metadata": {},
   "outputs": [
    {
     "data": {
      "text/html": [
       "<div>\n",
       "<style scoped>\n",
       "    .dataframe tbody tr th:only-of-type {\n",
       "        vertical-align: middle;\n",
       "    }\n",
       "\n",
       "    .dataframe tbody tr th {\n",
       "        vertical-align: top;\n",
       "    }\n",
       "\n",
       "    .dataframe thead th {\n",
       "        text-align: right;\n",
       "    }\n",
       "</style>\n",
       "<table border=\"1\" class=\"dataframe\">\n",
       "  <thead>\n",
       "    <tr style=\"text-align: right;\">\n",
       "      <th></th>\n",
       "      <th>a</th>\n",
       "      <th>b</th>\n",
       "    </tr>\n",
       "  </thead>\n",
       "  <tbody>\n",
       "    <tr>\n",
       "      <th>0</th>\n",
       "      <td>1</td>\n",
       "      <td>3</td>\n",
       "    </tr>\n",
       "    <tr>\n",
       "      <th>1</th>\n",
       "      <td>2</td>\n",
       "      <td>4</td>\n",
       "    </tr>\n",
       "    <tr>\n",
       "      <th>2</th>\n",
       "      <td>3</td>\n",
       "      <td>5</td>\n",
       "    </tr>\n",
       "  </tbody>\n",
       "</table>\n",
       "</div>"
      ],
      "text/plain": [
       "   a  b\n",
       "0  1  3\n",
       "1  2  4\n",
       "2  3  5"
      ]
     },
     "execution_count": 203,
     "metadata": {},
     "output_type": "execute_result"
    }
   ],
   "source": [
    "tmp=pd.DataFrame({'a':[1,2,3], 'b':[3,4,5]})\n",
    "tmp.head()"
   ]
  },
  {
   "cell_type": "code",
   "execution_count": 204,
   "id": "a936f7c7",
   "metadata": {},
   "outputs": [
    {
     "data": {
      "text/plain": [
       "0    False\n",
       "1     True\n",
       "2     True\n",
       "Name: a, dtype: bool"
      ]
     },
     "execution_count": 204,
     "metadata": {},
     "output_type": "execute_result"
    }
   ],
   "source": [
    "filter=tmp.a>1\n",
    "filter"
   ]
  },
  {
   "cell_type": "code",
   "execution_count": 210,
   "id": "79bf1cd2",
   "metadata": {},
   "outputs": [
    {
     "data": {
      "text/plain": [
       "1    2\n",
       "2    3\n",
       "Name: a, dtype: int64"
      ]
     },
     "execution_count": 210,
     "metadata": {},
     "output_type": "execute_result"
    }
   ],
   "source": [
    "tmp['a'][filter]"
   ]
  },
  {
   "cell_type": "code",
   "execution_count": 211,
   "id": "01c8aa01",
   "metadata": {},
   "outputs": [
    {
     "data": {
      "text/html": [
       "<div>\n",
       "<style scoped>\n",
       "    .dataframe tbody tr th:only-of-type {\n",
       "        vertical-align: middle;\n",
       "    }\n",
       "\n",
       "    .dataframe tbody tr th {\n",
       "        vertical-align: top;\n",
       "    }\n",
       "\n",
       "    .dataframe thead th {\n",
       "        text-align: right;\n",
       "    }\n",
       "</style>\n",
       "<table border=\"1\" class=\"dataframe\">\n",
       "  <thead>\n",
       "    <tr style=\"text-align: right;\">\n",
       "      <th></th>\n",
       "      <th>a</th>\n",
       "      <th>b</th>\n",
       "    </tr>\n",
       "  </thead>\n",
       "  <tbody>\n",
       "    <tr>\n",
       "      <th>0</th>\n",
       "      <td>1</td>\n",
       "      <td>3</td>\n",
       "    </tr>\n",
       "    <tr>\n",
       "      <th>1</th>\n",
       "      <td>4</td>\n",
       "      <td>4</td>\n",
       "    </tr>\n",
       "    <tr>\n",
       "      <th>2</th>\n",
       "      <td>6</td>\n",
       "      <td>5</td>\n",
       "    </tr>\n",
       "  </tbody>\n",
       "</table>\n",
       "</div>"
      ],
      "text/plain": [
       "   a  b\n",
       "0  1  3\n",
       "1  4  4\n",
       "2  6  5"
      ]
     },
     "execution_count": 211,
     "metadata": {},
     "output_type": "execute_result"
    }
   ],
   "source": [
    "tmp['a'][filter] = tmp['a'][filter]*2\n",
    "tmp.head()"
   ]
  },
  {
   "cell_type": "code",
   "execution_count": 212,
   "id": "808b53d8",
   "metadata": {},
   "outputs": [
    {
     "name": "stdout",
     "output_type": "stream",
     "text": [
      "Variable                           Type            Data/Info\n",
      "------------------------------------------------------------\n",
      "BYTES_TO_MB_DIV                    float           1e-06\n",
      "X_EW_deg                           float           0.021567561280927794\n",
      "Y_NS_deg                           float           0.014472285807800536\n",
      "box                                dict            n=3\n",
      "check_gps                          function        <function check_gps at 0x7feab5631320>\n",
      "counter                            int             6\n",
      "countries                          GeoDataFrame           pop_est      conti<...>n\\n[177 rows x 6 columns]\n",
      "df                                 DataFrame                                <...>3114353 rows x 8 columns]\n",
      "df_index                           Series          0                0\\n1    <...>th: 3087402, dtype: int64\n",
      "df_places                          DataFrame                                <...>3114353 rows x 8 columns]\n",
      "filter                             Series          0    False\\n1     True\\n2<...>rue\\nName: a, dtype: bool\n",
      "filter_BAD_gps                     Series          0          False\\n1      <...>gth: 3087402, dtype: bool\n",
      "filtered_df                        DataFrame                                <...>3087402 rows x 8 columns]\n",
      "font_size                          int             20\n",
      "gpd                                module          <module 'geopandas' from <...>s/geopandas/__init__.py'>\n",
      "gps                                DataFrame                Y_NS_latitudes  <...>3087402 rows x 2 columns]\n",
      "i                                  float           3.8234801e-05\n",
      "local                              list            n=2\n",
      "math                               module          <module 'math' from '/Use<...>h.cpython-37m-darwin.so'>\n",
      "np                                 module          <module 'numpy' from '/Us<...>kages/numpy/__init__.py'>\n",
      "pd                                 module          <module 'pandas' from '/U<...>ages/pandas/__init__.py'>\n",
      "plt                                module          <module 'matplotlib.pyplo<...>es/matplotlib/pyplot.py'>\n",
      "print_memory_usage_of_data_frame   function        <function print_memory_us<...>_frame at 0x7feef0588050>\n",
      "radius                             int             5\n",
      "random                             module          <module 'random' from '/U<...>lib/python3.7/random.py'>\n",
      "tmp                                DataFrame          a  b\\n0  1  3\\n1  4  4\\n2  6  5\n",
      "tmp_df                             DataFrame                                <...>3114353 rows x 8 columns]\n"
     ]
    }
   ],
   "source": [
    "whos"
   ]
  },
  {
   "cell_type": "code",
   "execution_count": 213,
   "id": "a07216cf",
   "metadata": {},
   "outputs": [
    {
     "data": {
      "text/html": [
       "<div>\n",
       "<style scoped>\n",
       "    .dataframe tbody tr th:only-of-type {\n",
       "        vertical-align: middle;\n",
       "    }\n",
       "\n",
       "    .dataframe tbody tr th {\n",
       "        vertical-align: top;\n",
       "    }\n",
       "\n",
       "    .dataframe thead th {\n",
       "        text-align: right;\n",
       "    }\n",
       "</style>\n",
       "<table border=\"1\" class=\"dataframe\">\n",
       "  <thead>\n",
       "    <tr style=\"text-align: right;\">\n",
       "      <th></th>\n",
       "      <th>name</th>\n",
       "      <th>price</th>\n",
       "      <th>address</th>\n",
       "      <th>hours</th>\n",
       "      <th>phone</th>\n",
       "      <th>closed</th>\n",
       "      <th>gPlusPlaceId</th>\n",
       "      <th>gps</th>\n",
       "    </tr>\n",
       "  </thead>\n",
       "  <tbody>\n",
       "    <tr>\n",
       "      <th>0</th>\n",
       "      <td>Diamond Valley Lake Marina</td>\n",
       "      <td>None</td>\n",
       "      <td>[2615 Angler Ave, Hemet, CA 92545]</td>\n",
       "      <td>[[Monday, [['6:30 am--4:15 pm']]], [Tuesday, [...</td>\n",
       "      <td>(951) 926-7201</td>\n",
       "      <td>False</td>\n",
       "      <td>1.046995e+20</td>\n",
       "      <td>[33.703804, -117.003209]</td>\n",
       "    </tr>\n",
       "    <tr>\n",
       "      <th>1</th>\n",
       "      <td>Blue Ribbon Cleaners</td>\n",
       "      <td>None</td>\n",
       "      <td>[Parole, Annapolis, MD]</td>\n",
       "      <td>None</td>\n",
       "      <td>(410) 266-6123</td>\n",
       "      <td>False</td>\n",
       "      <td>1.030545e+20</td>\n",
       "      <td>[38.979759, -76.547538]</td>\n",
       "    </tr>\n",
       "    <tr>\n",
       "      <th>2</th>\n",
       "      <td>Portofino</td>\n",
       "      <td>None</td>\n",
       "      <td>[ул. Тутаева, 1, Nazran, Ingushetia, Russia, 3...</td>\n",
       "      <td>[[Monday, [['9:30 am--9:00 pm']]], [Tuesday, [...</td>\n",
       "      <td>8 (963) 173-38-38</td>\n",
       "      <td>False</td>\n",
       "      <td>1.098103e+20</td>\n",
       "      <td>[43.22776, 44.762726]</td>\n",
       "    </tr>\n",
       "    <tr>\n",
       "      <th>3</th>\n",
       "      <td>T C's Referee Sports Bar</td>\n",
       "      <td>$$</td>\n",
       "      <td>[5322 W 26th St, Sioux Falls, SD 57106]</td>\n",
       "      <td>[[Monday, [['11:00 am--10:00 pm']]], [Tuesday,...</td>\n",
       "      <td>(605) 361-2208</td>\n",
       "      <td>False</td>\n",
       "      <td>1.003272e+20</td>\n",
       "      <td>[43.529494, -96.792244]</td>\n",
       "    </tr>\n",
       "    <tr>\n",
       "      <th>4</th>\n",
       "      <td>Carrefour - Palembang Square</td>\n",
       "      <td>None</td>\n",
       "      <td>[Jl. Angkatan 45, Kompleks Palembang Square, S...</td>\n",
       "      <td>[[Monday, [['8:00 am--9:00 pm']]], [Tuesday, [...</td>\n",
       "      <td>(0711) 359918</td>\n",
       "      <td>False</td>\n",
       "      <td>1.033685e+20</td>\n",
       "      <td>[-2.976256, 104.742662]</td>\n",
       "    </tr>\n",
       "  </tbody>\n",
       "</table>\n",
       "</div>"
      ],
      "text/plain": [
       "                           name price  \\\n",
       "0    Diamond Valley Lake Marina  None   \n",
       "1          Blue Ribbon Cleaners  None   \n",
       "2                     Portofino  None   \n",
       "3      T C's Referee Sports Bar    $$   \n",
       "4  Carrefour - Palembang Square  None   \n",
       "\n",
       "                                             address  \\\n",
       "0                 [2615 Angler Ave, Hemet, CA 92545]   \n",
       "1                            [Parole, Annapolis, MD]   \n",
       "2  [ул. Тутаева, 1, Nazran, Ingushetia, Russia, 3...   \n",
       "3            [5322 W 26th St, Sioux Falls, SD 57106]   \n",
       "4  [Jl. Angkatan 45, Kompleks Palembang Square, S...   \n",
       "\n",
       "                                               hours              phone  \\\n",
       "0  [[Monday, [['6:30 am--4:15 pm']]], [Tuesday, [...     (951) 926-7201   \n",
       "1                                               None     (410) 266-6123   \n",
       "2  [[Monday, [['9:30 am--9:00 pm']]], [Tuesday, [...  8 (963) 173-38-38   \n",
       "3  [[Monday, [['11:00 am--10:00 pm']]], [Tuesday,...     (605) 361-2208   \n",
       "4  [[Monday, [['8:00 am--9:00 pm']]], [Tuesday, [...      (0711) 359918   \n",
       "\n",
       "   closed  gPlusPlaceId                       gps  \n",
       "0   False  1.046995e+20  [33.703804, -117.003209]  \n",
       "1   False  1.030545e+20   [38.979759, -76.547538]  \n",
       "2   False  1.098103e+20     [43.22776, 44.762726]  \n",
       "3   False  1.003272e+20   [43.529494, -96.792244]  \n",
       "4   False  1.033685e+20   [-2.976256, 104.742662]  "
      ]
     },
     "execution_count": 213,
     "metadata": {},
     "output_type": "execute_result"
    }
   ],
   "source": [
    "df.head()"
   ]
  },
  {
   "cell_type": "code",
   "execution_count": 118,
   "id": "9947776c",
   "metadata": {},
   "outputs": [
    {
     "data": {
      "text/plain": [
       "(3114353, 8)"
      ]
     },
     "execution_count": 118,
     "metadata": {},
     "output_type": "execute_result"
    }
   ],
   "source": [
    "df.shape # Initial Read (3114353, 8)"
   ]
  },
  {
   "cell_type": "code",
   "execution_count": 214,
   "id": "a0b859cc",
   "metadata": {},
   "outputs": [
    {
     "name": "stdout",
     "output_type": "stream",
     "text": [
      "CPU times: user 388 ms, sys: 16.3 ms, total: 404 ms\n",
      "Wall time: 410 ms\n"
     ]
    },
    {
     "data": {
      "text/plain": [
       "(3087402, 8)"
      ]
     },
     "execution_count": 214,
     "metadata": {},
     "output_type": "execute_result"
    }
   ],
   "source": [
    "%%time\n",
    "df = df[df['gps'].notna()] # Wall time: 566 ms\n",
    "df.shape # (3087402, 8)  dropped 26951 or 0.86%"
   ]
  },
  {
   "cell_type": "code",
   "execution_count": 215,
   "id": "54dc983f",
   "metadata": {},
   "outputs": [],
   "source": [
    "df_index = pd.Series(df.index)  # Int64Index, last index value 3114352, total len 3087402 (gaps from 26951)"
   ]
  },
  {
   "cell_type": "code",
   "execution_count": 216,
   "id": "0b598084",
   "metadata": {},
   "outputs": [
    {
     "data": {
      "text/plain": [
       "RangeIndex(start=0, stop=3087402, step=1)"
      ]
     },
     "execution_count": 216,
     "metadata": {},
     "output_type": "execute_result"
    }
   ],
   "source": [
    "df_index.index # index of this series is RangeIndex(start=0, stop=3087402, step=1), values are with gaps"
   ]
  },
  {
   "cell_type": "code",
   "execution_count": 145,
   "id": "d36577cb",
   "metadata": {},
   "outputs": [
    {
     "data": {
      "text/plain": [
       "Int64Index([      0,       1,       2,       3,       4,       5,       6,\n",
       "                  7,       8,       9,\n",
       "            ...\n",
       "            3114343, 3114344, 3114345, 3114346, 3114347, 3114348, 3114349,\n",
       "            3114350, 3114351, 3114352],\n",
       "           dtype='int64', length=3087402)"
      ]
     },
     "execution_count": 145,
     "metadata": {},
     "output_type": "execute_result"
    }
   ],
   "source": [
    "df.index"
   ]
  },
  {
   "cell_type": "code",
   "execution_count": 217,
   "id": "d03cb058",
   "metadata": {},
   "outputs": [
    {
     "data": {
      "text/plain": [
       "(3087402, 2)"
      ]
     },
     "execution_count": 217,
     "metadata": {},
     "output_type": "execute_result"
    }
   ],
   "source": [
    "gps = pd.DataFrame(df.gps.dropna().to_list(), columns = ['Y_NS_latitudes','X_EW_longitudes']) #.str.split(',', expand=True)\n",
    "gps.shape # (3087402, 2)"
   ]
  },
  {
   "cell_type": "code",
   "execution_count": 218,
   "id": "321e0048",
   "metadata": {},
   "outputs": [
    {
     "data": {
      "text/plain": [
       "Int64Index([      0,       1,       2,       3,       4,       5,       6,\n",
       "                  7,       8,       9,\n",
       "            ...\n",
       "            3114343, 3114344, 3114345, 3114346, 3114347, 3114348, 3114349,\n",
       "            3114350, 3114351, 3114352],\n",
       "           dtype='int64', length=3087402)"
      ]
     },
     "execution_count": 218,
     "metadata": {},
     "output_type": "execute_result"
    }
   ],
   "source": [
    "gps.index  # RangeIndex(start=0, stop=3087402, step=1\n",
    "# Length mismatch: Expected 3087402 rows, received array of length 3060689\n",
    "gps = gps.set_index(pd.Series(df.index))  # same index with gaps from original\n",
    "gps.index"
   ]
  },
  {
   "cell_type": "code",
   "execution_count": 219,
   "id": "b2772cd6",
   "metadata": {},
   "outputs": [
    {
     "data": {
      "text/plain": [
       "Int64Index([      0,       1,       2,       3,       4,       5,       6,\n",
       "                  7,       8,       9,\n",
       "            ...\n",
       "            3114343, 3114344, 3114345, 3114346, 3114347, 3114348, 3114349,\n",
       "            3114350, 3114351, 3114352],\n",
       "           dtype='int64', length=3087402)"
      ]
     },
     "execution_count": 219,
     "metadata": {},
     "output_type": "execute_result"
    }
   ],
   "source": [
    "df=df.merge(gps, left_index=True, right_index=True)\n",
    "df.index"
   ]
  },
  {
   "cell_type": "code",
   "execution_count": 220,
   "id": "6db397c4",
   "metadata": {},
   "outputs": [
    {
     "data": {
      "text/plain": [
       "(3087402, 10)"
      ]
     },
     "execution_count": 220,
     "metadata": {},
     "output_type": "execute_result"
    }
   ],
   "source": [
    "df.shape"
   ]
  },
  {
   "cell_type": "code",
   "execution_count": 221,
   "id": "2ee344f5",
   "metadata": {},
   "outputs": [
    {
     "data": {
      "text/html": [
       "<div>\n",
       "<style scoped>\n",
       "    .dataframe tbody tr th:only-of-type {\n",
       "        vertical-align: middle;\n",
       "    }\n",
       "\n",
       "    .dataframe tbody tr th {\n",
       "        vertical-align: top;\n",
       "    }\n",
       "\n",
       "    .dataframe thead th {\n",
       "        text-align: right;\n",
       "    }\n",
       "</style>\n",
       "<table border=\"1\" class=\"dataframe\">\n",
       "  <thead>\n",
       "    <tr style=\"text-align: right;\">\n",
       "      <th></th>\n",
       "      <th>name</th>\n",
       "      <th>price</th>\n",
       "      <th>address</th>\n",
       "      <th>hours</th>\n",
       "      <th>phone</th>\n",
       "      <th>closed</th>\n",
       "      <th>gPlusPlaceId</th>\n",
       "      <th>gps</th>\n",
       "      <th>Y_NS_latitudes</th>\n",
       "      <th>X_EW_longitudes</th>\n",
       "    </tr>\n",
       "  </thead>\n",
       "  <tbody>\n",
       "    <tr>\n",
       "      <th>0</th>\n",
       "      <td>Diamond Valley Lake Marina</td>\n",
       "      <td>None</td>\n",
       "      <td>[2615 Angler Ave, Hemet, CA 92545]</td>\n",
       "      <td>[[Monday, [['6:30 am--4:15 pm']]], [Tuesday, [...</td>\n",
       "      <td>(951) 926-7201</td>\n",
       "      <td>False</td>\n",
       "      <td>1.046995e+20</td>\n",
       "      <td>[33.703804, -117.003209]</td>\n",
       "      <td>33.703804</td>\n",
       "      <td>-117.003209</td>\n",
       "    </tr>\n",
       "    <tr>\n",
       "      <th>1</th>\n",
       "      <td>Blue Ribbon Cleaners</td>\n",
       "      <td>None</td>\n",
       "      <td>[Parole, Annapolis, MD]</td>\n",
       "      <td>None</td>\n",
       "      <td>(410) 266-6123</td>\n",
       "      <td>False</td>\n",
       "      <td>1.030545e+20</td>\n",
       "      <td>[38.979759, -76.547538]</td>\n",
       "      <td>38.979759</td>\n",
       "      <td>-76.547538</td>\n",
       "    </tr>\n",
       "    <tr>\n",
       "      <th>2</th>\n",
       "      <td>Portofino</td>\n",
       "      <td>None</td>\n",
       "      <td>[ул. Тутаева, 1, Nazran, Ingushetia, Russia, 3...</td>\n",
       "      <td>[[Monday, [['9:30 am--9:00 pm']]], [Tuesday, [...</td>\n",
       "      <td>8 (963) 173-38-38</td>\n",
       "      <td>False</td>\n",
       "      <td>1.098103e+20</td>\n",
       "      <td>[43.22776, 44.762726]</td>\n",
       "      <td>43.227760</td>\n",
       "      <td>44.762726</td>\n",
       "    </tr>\n",
       "    <tr>\n",
       "      <th>3</th>\n",
       "      <td>T C's Referee Sports Bar</td>\n",
       "      <td>$$</td>\n",
       "      <td>[5322 W 26th St, Sioux Falls, SD 57106]</td>\n",
       "      <td>[[Monday, [['11:00 am--10:00 pm']]], [Tuesday,...</td>\n",
       "      <td>(605) 361-2208</td>\n",
       "      <td>False</td>\n",
       "      <td>1.003272e+20</td>\n",
       "      <td>[43.529494, -96.792244]</td>\n",
       "      <td>43.529494</td>\n",
       "      <td>-96.792244</td>\n",
       "    </tr>\n",
       "    <tr>\n",
       "      <th>4</th>\n",
       "      <td>Carrefour - Palembang Square</td>\n",
       "      <td>None</td>\n",
       "      <td>[Jl. Angkatan 45, Kompleks Palembang Square, S...</td>\n",
       "      <td>[[Monday, [['8:00 am--9:00 pm']]], [Tuesday, [...</td>\n",
       "      <td>(0711) 359918</td>\n",
       "      <td>False</td>\n",
       "      <td>1.033685e+20</td>\n",
       "      <td>[-2.976256, 104.742662]</td>\n",
       "      <td>-2.976256</td>\n",
       "      <td>104.742662</td>\n",
       "    </tr>\n",
       "  </tbody>\n",
       "</table>\n",
       "</div>"
      ],
      "text/plain": [
       "                           name price  \\\n",
       "0    Diamond Valley Lake Marina  None   \n",
       "1          Blue Ribbon Cleaners  None   \n",
       "2                     Portofino  None   \n",
       "3      T C's Referee Sports Bar    $$   \n",
       "4  Carrefour - Palembang Square  None   \n",
       "\n",
       "                                             address  \\\n",
       "0                 [2615 Angler Ave, Hemet, CA 92545]   \n",
       "1                            [Parole, Annapolis, MD]   \n",
       "2  [ул. Тутаева, 1, Nazran, Ingushetia, Russia, 3...   \n",
       "3            [5322 W 26th St, Sioux Falls, SD 57106]   \n",
       "4  [Jl. Angkatan 45, Kompleks Palembang Square, S...   \n",
       "\n",
       "                                               hours              phone  \\\n",
       "0  [[Monday, [['6:30 am--4:15 pm']]], [Tuesday, [...     (951) 926-7201   \n",
       "1                                               None     (410) 266-6123   \n",
       "2  [[Monday, [['9:30 am--9:00 pm']]], [Tuesday, [...  8 (963) 173-38-38   \n",
       "3  [[Monday, [['11:00 am--10:00 pm']]], [Tuesday,...     (605) 361-2208   \n",
       "4  [[Monday, [['8:00 am--9:00 pm']]], [Tuesday, [...      (0711) 359918   \n",
       "\n",
       "   closed  gPlusPlaceId                       gps  Y_NS_latitudes  \\\n",
       "0   False  1.046995e+20  [33.703804, -117.003209]       33.703804   \n",
       "1   False  1.030545e+20   [38.979759, -76.547538]       38.979759   \n",
       "2   False  1.098103e+20     [43.22776, 44.762726]       43.227760   \n",
       "3   False  1.003272e+20   [43.529494, -96.792244]       43.529494   \n",
       "4   False  1.033685e+20   [-2.976256, 104.742662]       -2.976256   \n",
       "\n",
       "   X_EW_longitudes  \n",
       "0      -117.003209  \n",
       "1       -76.547538  \n",
       "2        44.762726  \n",
       "3       -96.792244  \n",
       "4       104.742662  "
      ]
     },
     "execution_count": 221,
     "metadata": {},
     "output_type": "execute_result"
    }
   ],
   "source": [
    "df.head()"
   ]
  },
  {
   "cell_type": "code",
   "execution_count": 222,
   "id": "4a8bba04",
   "metadata": {},
   "outputs": [
    {
     "data": {
      "text/plain": [
       "name                  Escuela Pueblo Nuevo\n",
       "price                                 None\n",
       "address                           [Panama]\n",
       "hours                                 None\n",
       "phone                                 None\n",
       "closed                               False\n",
       "gPlusPlaceId       114679857037403815936.0\n",
       "gps                  [9.111594, -81.84631]\n",
       "Y_NS_latitudes                    9.111594\n",
       "X_EW_longitudes                  -81.84631\n",
       "Name: 3114352, dtype: object"
      ]
     },
     "execution_count": 222,
     "metadata": {},
     "output_type": "execute_result"
    }
   ],
   "source": [
    "df.loc[3114352]"
   ]
  },
  {
   "cell_type": "code",
   "execution_count": 223,
   "id": "1d461289",
   "metadata": {},
   "outputs": [
    {
     "data": {
      "text/plain": [
       "75818"
      ]
     },
     "execution_count": 223,
     "metadata": {},
     "output_type": "execute_result"
    }
   ],
   "source": [
    "filter_BAD_gps = (df.Y_NS_latitudes.abs() > 90.0) | (df.X_EW_longitudes.abs() > 180.0)\n",
    "filter_BAD_gps.sum()  # (75818)/3087402*100 2.46%"
   ]
  },
  {
   "cell_type": "code",
   "execution_count": 224,
   "id": "400023ed",
   "metadata": {},
   "outputs": [
    {
     "data": {
      "text/plain": [
       "87    -33879362.0\n",
       "112    25680978.0\n",
       "142    40099340.0\n",
       "187    40267971.0\n",
       "270    48554842.0\n",
       "Name: Y_NS_latitudes, dtype: float64"
      ]
     },
     "execution_count": 224,
     "metadata": {},
     "output_type": "execute_result"
    }
   ],
   "source": [
    "df['Y_NS_latitudes'][filter_BAD_gps].head()"
   ]
  },
  {
   "cell_type": "code",
   "execution_count": 225,
   "id": "fce569a2",
   "metadata": {},
   "outputs": [
    {
     "name": "stderr",
     "output_type": "stream",
     "text": [
      "/Users/alexey_imac/opt/anaconda3/envs/tf2/lib/python3.7/site-packages/ipykernel_launcher.py:1: SettingWithCopyWarning: \n",
      "A value is trying to be set on a copy of a slice from a DataFrame\n",
      "\n",
      "See the caveats in the documentation: https://pandas.pydata.org/pandas-docs/stable/user_guide/indexing.html#returning-a-view-versus-a-copy\n",
      "  \"\"\"Entry point for launching an IPython kernel.\n"
     ]
    },
    {
     "data": {
      "text/plain": [
       "87        -33.879362\n",
       "112        25.680978\n",
       "142        40.099340\n",
       "187        40.267971\n",
       "270        48.554842\n",
       "             ...    \n",
       "3114142    25.024374\n",
       "3114184    23.172940\n",
       "3114280    34.361762\n",
       "3114323    46.088796\n",
       "3114340     0.000338\n",
       "Name: Y_NS_latitudes, Length: 75818, dtype: float64"
      ]
     },
     "execution_count": 225,
     "metadata": {},
     "output_type": "execute_result"
    }
   ],
   "source": [
    "df['Y_NS_latitudes'][filter_BAD_gps] = df['Y_NS_latitudes'][filter_BAD_gps] / 1e6\n",
    "df['Y_NS_latitudes'][filter_BAD_gps]"
   ]
  },
  {
   "cell_type": "code",
   "execution_count": 193,
   "id": "29438cd6",
   "metadata": {},
   "outputs": [
    {
     "data": {
      "text/plain": [
       "87        -3.387936e+07\n",
       "112        2.568098e+07\n",
       "142        4.009934e+07\n",
       "187        4.026797e+07\n",
       "270        4.855484e+07\n",
       "               ...     \n",
       "3114142    2.502437e+07\n",
       "3114184    2.317294e+07\n",
       "3114280    3.436176e+07\n",
       "3114323    4.608880e+07\n",
       "3114340    3.381868e+02\n",
       "Name: Y_NS_latitudes, Length: 75818, dtype: float64"
      ]
     },
     "execution_count": 193,
     "metadata": {},
     "output_type": "execute_result"
    }
   ],
   "source": [
    "df.loc[filter_BAD_gps, :].Y_NS_latitudes = df.loc[filter_BAD_gps].Y_NS_latitudes / 1e6\n",
    "df.loc[filter_BAD_gps, :].Y_NS_latitudes\n",
    "# tmp.head()\n",
    "# tmp.shape # (75818, 10)\n",
    "# -33.83162529277344, 151.2045682501348 Sidney Australia [-33879362.0, 151203531.0]"
   ]
  },
  {
   "cell_type": "code",
   "execution_count": 197,
   "id": "c12a1604",
   "metadata": {},
   "outputs": [
    {
     "data": {
      "text/plain": [
       "Int64Index([     87,     112,     142,     187,     270,     383,     424,\n",
       "                451,     542,     566,\n",
       "            ...\n",
       "            3114050, 3114063, 3114082, 3114099, 3114132, 3114142, 3114184,\n",
       "            3114280, 3114323, 3114340],\n",
       "           dtype='int64', length=75818)"
      ]
     },
     "execution_count": 197,
     "metadata": {},
     "output_type": "execute_result"
    }
   ],
   "source": [
    "tmp.index"
   ]
  },
  {
   "cell_type": "code",
   "execution_count": 196,
   "id": "0fe3bdde",
   "metadata": {},
   "outputs": [
    {
     "name": "stderr",
     "output_type": "stream",
     "text": [
      "/Users/alexey_imac/opt/anaconda3/envs/tf2/lib/python3.7/site-packages/ipykernel_launcher.py:2: SettingWithCopyWarning: \n",
      "A value is trying to be set on a copy of a slice from a DataFrame\n",
      "\n",
      "See the caveats in the documentation: https://pandas.pydata.org/pandas-docs/stable/user_guide/indexing.html#returning-a-view-versus-a-copy\n",
      "  \n"
     ]
    },
    {
     "data": {
      "text/plain": [
       "87        -3.387936e-05\n",
       "112        2.568098e-05\n",
       "142        4.009934e-05\n",
       "187        4.026797e-05\n",
       "270        4.855484e-05\n",
       "               ...     \n",
       "3114142    2.502437e-05\n",
       "3114184    2.317294e-05\n",
       "3114280    3.436176e-05\n",
       "3114323    4.608880e-05\n",
       "3114340    3.381868e-10\n",
       "Name: Y_NS_latitudes, Length: 75818, dtype: float64"
      ]
     },
     "execution_count": 196,
     "metadata": {},
     "output_type": "execute_result"
    }
   ],
   "source": [
    "tmp = df.Y_NS_latitudes[filter_BAD_gps] / 1e6\n",
    "df.Y_NS_latitudes[filter_BAD_gps] = tmp\n",
    "df.Y_NS_latitudes[filter_BAD_gps]"
   ]
  },
  {
   "cell_type": "code",
   "execution_count": 200,
   "id": "7d92bb06",
   "metadata": {},
   "outputs": [
    {
     "data": {
      "text/plain": [
       "(6.977584699999999e-05, -5.4806068e-05)"
      ]
     },
     "execution_count": 200,
     "metadata": {},
     "output_type": "execute_result"
    }
   ],
   "source": [
    "df.loc[filter_BAD_gps].Y_NS_latitudes.max(), df.loc[filter_BAD_gps].Y_NS_latitudes.min()"
   ]
  },
  {
   "cell_type": "code",
   "execution_count": 226,
   "id": "a1024f40",
   "metadata": {},
   "outputs": [
    {
     "name": "stderr",
     "output_type": "stream",
     "text": [
      "/Users/alexey_imac/opt/anaconda3/envs/tf2/lib/python3.7/site-packages/ipykernel_launcher.py:1: SettingWithCopyWarning: \n",
      "A value is trying to be set on a copy of a slice from a DataFrame\n",
      "\n",
      "See the caveats in the documentation: https://pandas.pydata.org/pandas-docs/stable/user_guide/indexing.html#returning-a-view-versus-a-copy\n",
      "  \"\"\"Entry point for launching an IPython kernel.\n"
     ]
    },
    {
     "data": {
      "text/plain": [
       "87         151.203531\n",
       "112       -100.439954\n",
       "142         -7.466653\n",
       "187        -75.919631\n",
       "270        -88.873850\n",
       "              ...    \n",
       "3114142    121.478163\n",
       "3114184     88.579839\n",
       "3114280    -84.033909\n",
       "3114323    -88.635225\n",
       "3114340     -0.000787\n",
       "Name: X_EW_longitudes, Length: 75818, dtype: float64"
      ]
     },
     "execution_count": 226,
     "metadata": {},
     "output_type": "execute_result"
    }
   ],
   "source": [
    "df['X_EW_longitudes'][filter_BAD_gps] = df['X_EW_longitudes'][filter_BAD_gps] / 1e6\n",
    "df['X_EW_longitudes'][filter_BAD_gps]"
   ]
  },
  {
   "cell_type": "code",
   "execution_count": 201,
   "id": "223cf04e",
   "metadata": {},
   "outputs": [
    {
     "data": {
      "text/plain": [
       "(178054936.0, -159601736.0)"
      ]
     },
     "execution_count": 201,
     "metadata": {},
     "output_type": "execute_result"
    }
   ],
   "source": [
    "df.loc[filter_BAD_gps].X_EW_longitudes.max(), df.loc[filter_BAD_gps].X_EW_longitudes.min()"
   ]
  },
  {
   "cell_type": "code",
   "execution_count": 198,
   "id": "59e81651",
   "metadata": {},
   "outputs": [
    {
     "name": "stdout",
     "output_type": "stream",
     "text": [
      "-3.3879362e-05\n",
      "2.5680978e-05\n",
      "4.009934e-05\n",
      "4.0267971e-05\n",
      "4.8554842e-05\n",
      "3.8234801e-05\n"
     ]
    }
   ],
   "source": [
    "counter = 0\n",
    "for i in df.loc[filter_BAD_gps].Y_NS_latitudes:\n",
    "    print(i)\n",
    "#     df.loc[filter_BAD_gps].Y_NS_latitudes / 1e6\n",
    "    # i = i / 1e6\n",
    "    counter += 1\n",
    "    if counter > 5:\n",
    "        break"
   ]
  },
  {
   "cell_type": "code",
   "execution_count": 174,
   "id": "81da70cc",
   "metadata": {},
   "outputs": [
    {
     "data": {
      "text/plain": [
       "(75818, 10)"
      ]
     },
     "execution_count": 174,
     "metadata": {},
     "output_type": "execute_result"
    }
   ],
   "source": [
    "tmp.shape # (75818, 10)"
   ]
  },
  {
   "cell_type": "code",
   "execution_count": 169,
   "id": "1886d609",
   "metadata": {},
   "outputs": [],
   "source": [
    "import geopandas as gpd"
   ]
  },
  {
   "cell_type": "code",
   "execution_count": 171,
   "id": "f7ca6a3e",
   "metadata": {},
   "outputs": [],
   "source": [
    "import matplotlib.pyplot as plt\n",
    "# import geopandas as gpd  # import is moved up for safe exit if not available\n",
    "countries = gpd.read_file(\n",
    "               gpd.datasets.get_path(\"naturalearth_lowres\"))"
   ]
  },
  {
   "cell_type": "code",
   "execution_count": 182,
   "id": "45e9a6c2",
   "metadata": {},
   "outputs": [],
   "source": [
    "font_size = 20\n",
    "plt.rc('font', size=font_size) #controls default text size\n",
    "plt.rc('axes', titlesize=font_size) #fontsize of the title\n",
    "plt.rc('axes', labelsize=font_size) #fontsize of the x and y labels\n",
    "plt.rc('xtick', labelsize=font_size) #fontsize of the x tick labels\n",
    "plt.rc('ytick', labelsize=font_size) #fontsize of the y tick labels\n",
    "plt.rc('legend', fontsize=font_size) #fontsize of the legend"
   ]
  },
  {
   "cell_type": "code",
   "execution_count": 228,
   "id": "f99cbbb5",
   "metadata": {},
   "outputs": [
    {
     "data": {
      "image/png": "[encoded data removed]",
      "text/plain": [
       "<Figure size 1440x1080 with 1 Axes>"
      ]
     },
     "metadata": {
      "needs_background": "light"
     },
     "output_type": "display_data"
    }
   ],
   "source": [
    "# plt.scatter(tmp.X_EW_longitudes/1e6\n",
    "# Now the fun part\n",
    "countries.plot(color=\"lavender\", figsize=(20,15)) # color=\"lightgrey\"\n",
    "# s=1 - smallest marker\n",
    "plt.scatter(df.loc[filter_BAD_gps].X_EW_longitudes,\n",
    "            df.loc[filter_BAD_gps, :].Y_NS_latitudes, s=1,\n",
    "            color='r', label='Google Places')\n",
    "\n",
    "plt.title('OVERALL Google places locations if NS>90, EW>180, /1e6')\n",
    "box = {'facecolor': 'lime',\n",
    "       'edgecolor': 'black',\n",
    "       'boxstyle': 'round'\n",
    "      }\n",
    "plt.text(-170, -50, 'OUT IN SPACE\\n\\n75,818 places\\nworldwide\\n2.46% of total with\\nGPS data', bbox=box)\n",
    "plt.legend()\n",
    "plt.grid()\n",
    "# bbox_inches='tight' save without extra padding\n",
    "plt.savefig('img/Places_CORRECTED_gps.png',\n",
    "facecolor='w', edgecolor='w',\n",
    "transparent=False, bbox_inches='tight')"
   ]
  },
  {
   "cell_type": "code",
   "execution_count": 229,
   "id": "e7dd789e",
   "metadata": {},
   "outputs": [
    {
     "data": {
      "text/html": [
       "<div>\n",
       "<style scoped>\n",
       "    .dataframe tbody tr th:only-of-type {\n",
       "        vertical-align: middle;\n",
       "    }\n",
       "\n",
       "    .dataframe tbody tr th {\n",
       "        vertical-align: top;\n",
       "    }\n",
       "\n",
       "    .dataframe thead th {\n",
       "        text-align: right;\n",
       "    }\n",
       "</style>\n",
       "<table border=\"1\" class=\"dataframe\">\n",
       "  <thead>\n",
       "    <tr style=\"text-align: right;\">\n",
       "      <th></th>\n",
       "      <th>name</th>\n",
       "      <th>price</th>\n",
       "      <th>address</th>\n",
       "      <th>hours</th>\n",
       "      <th>phone</th>\n",
       "      <th>closed</th>\n",
       "      <th>gPlusPlaceId</th>\n",
       "      <th>gps</th>\n",
       "      <th>Y_NS_latitudes</th>\n",
       "      <th>X_EW_longitudes</th>\n",
       "    </tr>\n",
       "  </thead>\n",
       "  <tbody>\n",
       "    <tr>\n",
       "      <th>0</th>\n",
       "      <td>Diamond Valley Lake Marina</td>\n",
       "      <td>None</td>\n",
       "      <td>[2615 Angler Ave, Hemet, CA 92545]</td>\n",
       "      <td>[[Monday, [['6:30 am--4:15 pm']]], [Tuesday, [...</td>\n",
       "      <td>(951) 926-7201</td>\n",
       "      <td>False</td>\n",
       "      <td>1.046995e+20</td>\n",
       "      <td>[33.703804, -117.003209]</td>\n",
       "      <td>33.703804</td>\n",
       "      <td>-117.003209</td>\n",
       "    </tr>\n",
       "    <tr>\n",
       "      <th>1</th>\n",
       "      <td>Blue Ribbon Cleaners</td>\n",
       "      <td>None</td>\n",
       "      <td>[Parole, Annapolis, MD]</td>\n",
       "      <td>None</td>\n",
       "      <td>(410) 266-6123</td>\n",
       "      <td>False</td>\n",
       "      <td>1.030545e+20</td>\n",
       "      <td>[38.979759, -76.547538]</td>\n",
       "      <td>38.979759</td>\n",
       "      <td>-76.547538</td>\n",
       "    </tr>\n",
       "    <tr>\n",
       "      <th>2</th>\n",
       "      <td>Portofino</td>\n",
       "      <td>None</td>\n",
       "      <td>[ул. Тутаева, 1, Nazran, Ingushetia, Russia, 3...</td>\n",
       "      <td>[[Monday, [['9:30 am--9:00 pm']]], [Tuesday, [...</td>\n",
       "      <td>8 (963) 173-38-38</td>\n",
       "      <td>False</td>\n",
       "      <td>1.098103e+20</td>\n",
       "      <td>[43.22776, 44.762726]</td>\n",
       "      <td>43.227760</td>\n",
       "      <td>44.762726</td>\n",
       "    </tr>\n",
       "    <tr>\n",
       "      <th>3</th>\n",
       "      <td>T C's Referee Sports Bar</td>\n",
       "      <td>$$</td>\n",
       "      <td>[5322 W 26th St, Sioux Falls, SD 57106]</td>\n",
       "      <td>[[Monday, [['11:00 am--10:00 pm']]], [Tuesday,...</td>\n",
       "      <td>(605) 361-2208</td>\n",
       "      <td>False</td>\n",
       "      <td>1.003272e+20</td>\n",
       "      <td>[43.529494, -96.792244]</td>\n",
       "      <td>43.529494</td>\n",
       "      <td>-96.792244</td>\n",
       "    </tr>\n",
       "    <tr>\n",
       "      <th>4</th>\n",
       "      <td>Carrefour - Palembang Square</td>\n",
       "      <td>None</td>\n",
       "      <td>[Jl. Angkatan 45, Kompleks Palembang Square, S...</td>\n",
       "      <td>[[Monday, [['8:00 am--9:00 pm']]], [Tuesday, [...</td>\n",
       "      <td>(0711) 359918</td>\n",
       "      <td>False</td>\n",
       "      <td>1.033685e+20</td>\n",
       "      <td>[-2.976256, 104.742662]</td>\n",
       "      <td>-2.976256</td>\n",
       "      <td>104.742662</td>\n",
       "    </tr>\n",
       "  </tbody>\n",
       "</table>\n",
       "</div>"
      ],
      "text/plain": [
       "                           name price  \\\n",
       "0    Diamond Valley Lake Marina  None   \n",
       "1          Blue Ribbon Cleaners  None   \n",
       "2                     Portofino  None   \n",
       "3      T C's Referee Sports Bar    $$   \n",
       "4  Carrefour - Palembang Square  None   \n",
       "\n",
       "                                             address  \\\n",
       "0                 [2615 Angler Ave, Hemet, CA 92545]   \n",
       "1                            [Parole, Annapolis, MD]   \n",
       "2  [ул. Тутаева, 1, Nazran, Ingushetia, Russia, 3...   \n",
       "3            [5322 W 26th St, Sioux Falls, SD 57106]   \n",
       "4  [Jl. Angkatan 45, Kompleks Palembang Square, S...   \n",
       "\n",
       "                                               hours              phone  \\\n",
       "0  [[Monday, [['6:30 am--4:15 pm']]], [Tuesday, [...     (951) 926-7201   \n",
       "1                                               None     (410) 266-6123   \n",
       "2  [[Monday, [['9:30 am--9:00 pm']]], [Tuesday, [...  8 (963) 173-38-38   \n",
       "3  [[Monday, [['11:00 am--10:00 pm']]], [Tuesday,...     (605) 361-2208   \n",
       "4  [[Monday, [['8:00 am--9:00 pm']]], [Tuesday, [...      (0711) 359918   \n",
       "\n",
       "   closed  gPlusPlaceId                       gps  Y_NS_latitudes  \\\n",
       "0   False  1.046995e+20  [33.703804, -117.003209]       33.703804   \n",
       "1   False  1.030545e+20   [38.979759, -76.547538]       38.979759   \n",
       "2   False  1.098103e+20     [43.22776, 44.762726]       43.227760   \n",
       "3   False  1.003272e+20   [43.529494, -96.792244]       43.529494   \n",
       "4   False  1.033685e+20   [-2.976256, 104.742662]       -2.976256   \n",
       "\n",
       "   X_EW_longitudes  \n",
       "0      -117.003209  \n",
       "1       -76.547538  \n",
       "2        44.762726  \n",
       "3       -96.792244  \n",
       "4       104.742662  "
      ]
     },
     "execution_count": 229,
     "metadata": {},
     "output_type": "execute_result"
    }
   ],
   "source": [
    "df.head()"
   ]
  },
  {
   "cell_type": "code",
   "execution_count": 230,
   "id": "fcdb71c1",
   "metadata": {},
   "outputs": [
    {
     "data": {
      "text/plain": [
       "(3087402, 10)"
      ]
     },
     "execution_count": 230,
     "metadata": {},
     "output_type": "execute_result"
    }
   ],
   "source": [
    "df.shape"
   ]
  },
  {
   "cell_type": "code",
   "execution_count": 231,
   "id": "2458eeb0",
   "metadata": {},
   "outputs": [
    {
     "data": {
      "text/plain": [
       "name                                          Kroger Pharmacy\n",
       "price                                                      $$\n",
       "address            [1050 Bridgewood Dr, Fort Worth, TX 76112]\n",
       "hours                                                    None\n",
       "phone                                          (817) 446-6673\n",
       "closed                                                   True\n",
       "gPlusPlaceId                          106620038949584355328.0\n",
       "gps                                   [32.765131, -97.219301]\n",
       "Y_NS_latitudes                                      32.765131\n",
       "X_EW_longitudes                                    -97.219301\n",
       "Name: 3087401, dtype: object"
      ]
     },
     "execution_count": 231,
     "metadata": {},
     "output_type": "execute_result"
    }
   ],
   "source": [
    "df.loc[3087401]"
   ]
  },
  {
   "cell_type": "code",
   "execution_count": 233,
   "id": "1368c29d",
   "metadata": {},
   "outputs": [
    {
     "data": {
      "text/html": [
       "<div>\n",
       "<style scoped>\n",
       "    .dataframe tbody tr th:only-of-type {\n",
       "        vertical-align: middle;\n",
       "    }\n",
       "\n",
       "    .dataframe tbody tr th {\n",
       "        vertical-align: top;\n",
       "    }\n",
       "\n",
       "    .dataframe thead th {\n",
       "        text-align: right;\n",
       "    }\n",
       "</style>\n",
       "<table border=\"1\" class=\"dataframe\">\n",
       "  <thead>\n",
       "    <tr style=\"text-align: right;\">\n",
       "      <th></th>\n",
       "      <th>name</th>\n",
       "      <th>price</th>\n",
       "      <th>address</th>\n",
       "      <th>hours</th>\n",
       "      <th>phone</th>\n",
       "      <th>closed</th>\n",
       "      <th>gPlusPlaceId</th>\n",
       "      <th>Y_NS_latitudes</th>\n",
       "      <th>X_EW_longitudes</th>\n",
       "    </tr>\n",
       "  </thead>\n",
       "  <tbody>\n",
       "    <tr>\n",
       "      <th>0</th>\n",
       "      <td>Diamond Valley Lake Marina</td>\n",
       "      <td>None</td>\n",
       "      <td>[2615 Angler Ave, Hemet, CA 92545]</td>\n",
       "      <td>[[Monday, [['6:30 am--4:15 pm']]], [Tuesday, [...</td>\n",
       "      <td>(951) 926-7201</td>\n",
       "      <td>False</td>\n",
       "      <td>1.046995e+20</td>\n",
       "      <td>33.703804</td>\n",
       "      <td>-117.003209</td>\n",
       "    </tr>\n",
       "    <tr>\n",
       "      <th>1</th>\n",
       "      <td>Blue Ribbon Cleaners</td>\n",
       "      <td>None</td>\n",
       "      <td>[Parole, Annapolis, MD]</td>\n",
       "      <td>None</td>\n",
       "      <td>(410) 266-6123</td>\n",
       "      <td>False</td>\n",
       "      <td>1.030545e+20</td>\n",
       "      <td>38.979759</td>\n",
       "      <td>-76.547538</td>\n",
       "    </tr>\n",
       "    <tr>\n",
       "      <th>2</th>\n",
       "      <td>Portofino</td>\n",
       "      <td>None</td>\n",
       "      <td>[ул. Тутаева, 1, Nazran, Ingushetia, Russia, 3...</td>\n",
       "      <td>[[Monday, [['9:30 am--9:00 pm']]], [Tuesday, [...</td>\n",
       "      <td>8 (963) 173-38-38</td>\n",
       "      <td>False</td>\n",
       "      <td>1.098103e+20</td>\n",
       "      <td>43.227760</td>\n",
       "      <td>44.762726</td>\n",
       "    </tr>\n",
       "    <tr>\n",
       "      <th>3</th>\n",
       "      <td>T C's Referee Sports Bar</td>\n",
       "      <td>$$</td>\n",
       "      <td>[5322 W 26th St, Sioux Falls, SD 57106]</td>\n",
       "      <td>[[Monday, [['11:00 am--10:00 pm']]], [Tuesday,...</td>\n",
       "      <td>(605) 361-2208</td>\n",
       "      <td>False</td>\n",
       "      <td>1.003272e+20</td>\n",
       "      <td>43.529494</td>\n",
       "      <td>-96.792244</td>\n",
       "    </tr>\n",
       "    <tr>\n",
       "      <th>4</th>\n",
       "      <td>Carrefour - Palembang Square</td>\n",
       "      <td>None</td>\n",
       "      <td>[Jl. Angkatan 45, Kompleks Palembang Square, S...</td>\n",
       "      <td>[[Monday, [['8:00 am--9:00 pm']]], [Tuesday, [...</td>\n",
       "      <td>(0711) 359918</td>\n",
       "      <td>False</td>\n",
       "      <td>1.033685e+20</td>\n",
       "      <td>-2.976256</td>\n",
       "      <td>104.742662</td>\n",
       "    </tr>\n",
       "  </tbody>\n",
       "</table>\n",
       "</div>"
      ],
      "text/plain": [
       "                           name price  \\\n",
       "0    Diamond Valley Lake Marina  None   \n",
       "1          Blue Ribbon Cleaners  None   \n",
       "2                     Portofino  None   \n",
       "3      T C's Referee Sports Bar    $$   \n",
       "4  Carrefour - Palembang Square  None   \n",
       "\n",
       "                                             address  \\\n",
       "0                 [2615 Angler Ave, Hemet, CA 92545]   \n",
       "1                            [Parole, Annapolis, MD]   \n",
       "2  [ул. Тутаева, 1, Nazran, Ingushetia, Russia, 3...   \n",
       "3            [5322 W 26th St, Sioux Falls, SD 57106]   \n",
       "4  [Jl. Angkatan 45, Kompleks Palembang Square, S...   \n",
       "\n",
       "                                               hours              phone  \\\n",
       "0  [[Monday, [['6:30 am--4:15 pm']]], [Tuesday, [...     (951) 926-7201   \n",
       "1                                               None     (410) 266-6123   \n",
       "2  [[Monday, [['9:30 am--9:00 pm']]], [Tuesday, [...  8 (963) 173-38-38   \n",
       "3  [[Monday, [['11:00 am--10:00 pm']]], [Tuesday,...     (605) 361-2208   \n",
       "4  [[Monday, [['8:00 am--9:00 pm']]], [Tuesday, [...      (0711) 359918   \n",
       "\n",
       "   closed  gPlusPlaceId  Y_NS_latitudes  X_EW_longitudes  \n",
       "0   False  1.046995e+20       33.703804      -117.003209  \n",
       "1   False  1.030545e+20       38.979759       -76.547538  \n",
       "2   False  1.098103e+20       43.227760        44.762726  \n",
       "3   False  1.003272e+20       43.529494       -96.792244  \n",
       "4   False  1.033685e+20       -2.976256       104.742662  "
      ]
     },
     "execution_count": 233,
     "metadata": {},
     "output_type": "execute_result"
    }
   ],
   "source": [
    "df.drop(columns='gps', inplace=True)\n",
    "df.head()"
   ]
  },
  {
   "cell_type": "code",
   "execution_count": 234,
   "id": "9695b3c5",
   "metadata": {},
   "outputs": [
    {
     "data": {
      "text/plain": [
       "name                                          Kroger Pharmacy\n",
       "price                                                      $$\n",
       "address            [1050 Bridgewood Dr, Fort Worth, TX 76112]\n",
       "hours                                                    None\n",
       "phone                                          (817) 446-6673\n",
       "closed                                                   True\n",
       "gPlusPlaceId                          106620038949584355328.0\n",
       "Y_NS_latitudes                                      32.765131\n",
       "X_EW_longitudes                                    -97.219301\n",
       "Name: 3087401, dtype: object"
      ]
     },
     "execution_count": 234,
     "metadata": {},
     "output_type": "execute_result"
    }
   ],
   "source": [
    "df.loc[3087401]"
   ]
  },
  {
   "cell_type": "code",
   "execution_count": 239,
   "id": "2c00ff47",
   "metadata": {},
   "outputs": [
    {
     "name": "stdout",
     "output_type": "stream",
     "text": [
      "Variable                           Type            Data/Info\n",
      "------------------------------------------------------------\n",
      "BYTES_TO_MB_DIV                    float           1e-06\n",
      "X_EW_deg                           float           0.021567561280927794\n",
      "Y_NS_deg                           float           0.014472285807800536\n",
      "box                                dict            n=3\n",
      "check_gps                          function        <function check_gps at 0x7feab5631320>\n",
      "counter                            int             6\n",
      "countries                          GeoDataFrame           pop_est      conti<...>n\\n[177 rows x 6 columns]\n",
      "df                                 DataFrame                                <...>3087402 rows x 9 columns]\n",
      "df_index                           Series          0                0\\n1    <...>th: 3087402, dtype: int64\n",
      "df_places                          DataFrame                                <...>3114353 rows x 8 columns]\n",
      "filter                             Series          0    False\\n1     True\\n2<...>rue\\nName: a, dtype: bool\n",
      "filter_BAD_gps                     Series          0          False\\n1      <...>gth: 3087402, dtype: bool\n",
      "filtered_df                        DataFrame                                <...>3087402 rows x 8 columns]\n",
      "font_size                          int             20\n",
      "gpd                                module          <module 'geopandas' from <...>s/geopandas/__init__.py'>\n",
      "gps                                DataFrame                Y_NS_latitudes  <...>3087402 rows x 2 columns]\n",
      "i                                  float           3.8234801e-05\n",
      "local                              list            n=2\n",
      "math                               module          <module 'math' from '/Use<...>h.cpython-37m-darwin.so'>\n",
      "np                                 module          <module 'numpy' from '/Us<...>kages/numpy/__init__.py'>\n",
      "pd                                 module          <module 'pandas' from '/U<...>ages/pandas/__init__.py'>\n",
      "plt                                module          <module 'matplotlib.pyplo<...>es/matplotlib/pyplot.py'>\n",
      "print_memory_usage_of_data_frame   function        <function print_memory_us<...>_frame at 0x7feef0588050>\n",
      "radius                             int             5\n",
      "random                             module          <module 'random' from '/U<...>lib/python3.7/random.py'>\n",
      "tmp                                DataFrame          a  b\\n0  1  3\\n1  4  4\\n2  6  5\n",
      "tmp_df                             DataFrame                                <...>3114353 rows x 8 columns]\n"
     ]
    }
   ],
   "source": [
    "whos"
   ]
  },
  {
   "cell_type": "code",
   "execution_count": 240,
   "id": "abd3e4d0",
   "metadata": {},
   "outputs": [],
   "source": [
    "df_sub = df.sample(n=10000, random_state=1)  # frac=0.1"
   ]
  },
  {
   "cell_type": "code",
   "execution_count": 238,
   "id": "f26c8483",
   "metadata": {},
   "outputs": [
    {
     "name": "stdout",
     "output_type": "stream",
     "text": [
      "places.json      places_sub.json  reviews_sub.json users_sub.json\r\n",
      "places_gps.json  reviews.json     users.json\r\n"
     ]
    }
   ],
   "source": [
    "!ls data"
   ]
  },
  {
   "cell_type": "code",
   "execution_count": 241,
   "id": "6980a8d9",
   "metadata": {},
   "outputs": [],
   "source": [
    "df_sub.to_json('data/places_sub_gps.json')"
   ]
  },
  {
   "cell_type": "code",
   "execution_count": 244,
   "id": "abd52c8f",
   "metadata": {},
   "outputs": [
    {
     "name": "stdout",
     "output_type": "stream",
     "text": [
      "Help on function check_gps in module __main__:\n",
      "\n",
      "check_gps(gps_list, radius)\n",
      "    gps_list = [NS_gps, EW_gps] in decimal degrees (Google map right-click output)\n",
      "    exampe: [47.85408756055844, -122.21958066838837] - 98012 USPS\n",
      "    radius - desired radius of interest im miles\n",
      "    \n",
      "    https://en.wikipedia.org/wiki/Earth_radius\n",
      "    R_avg = 3,959 miles (3950~3963)\n",
      "    \n",
      "    gps column in places.gps is in the form ['NS_latitudes','EW_longitudes']\n",
      "    Valid gps coordinates are NS +- 90.0, EW +- 180.0\n",
      "    There are incorrect NS 75755 (2.45%), EW 75369 (2.44%) of all data\n",
      "    let's do square first\n",
      "    IGNORE (BUG) flip through poles EW at exactly +-90.0, and +- at exactly 180.0\n",
      "    R_avg = 3959 miles, 1/4 equator-> pole 2*PI*R/4 = 90.0, or \n",
      "    PI*R/(180) = 1.0 in NS in miles\n",
      "    \n",
      "    Y_miles_NS_one_WAY_in_GPS_degrees = Y * 180/(PI * R_earth)\n",
      "    \n",
      "    R_ew = R_earth * cos(PI/180*NS_gps); R_earth at NS_gps = 0, 0 at NS_gps = +- 90.0\n",
      "    \n",
      "    X_miles_EW_one_WAY_in_GPS_degrees = X * 180/(PI * R_ew)\n",
      "    \n",
      "    import math\n",
      "    math.pi\n",
      "    3.141592653589793\n",
      "\n"
     ]
    }
   ],
   "source": [
    "help(check_gps)"
   ]
  },
  {
   "cell_type": "code",
   "execution_count": 9,
   "id": "c89bba51",
   "metadata": {},
   "outputs": [
    {
     "data": {
      "text/plain": [
       "(0.7236142903900268, 1.0783780640463898)"
      ]
     },
     "execution_count": 9,
     "metadata": {},
     "output_type": "execute_result"
    }
   ],
   "source": [
    "# create subsample using current gps, save as subsample db for the model \n",
    "# use def \n",
    "curr_gps = [47.85408756055844, -122.21958066838837]\n",
    "radius = 50.0\n",
    "Y_NS_deg, X_EW_deg = check_gps(curr_gps, radius)  # Google map 1.609344 km\n",
    "Y_NS_deg, X_EW_deg"
   ]
  },
  {
   "cell_type": "code",
   "execution_count": 10,
   "id": "5a58c13d",
   "metadata": {},
   "outputs": [
    {
     "ename": "NameError",
     "evalue": "name 'df' is not defined",
     "output_type": "error",
     "traceback": [
      "\u001b[0;31m---------------------------------------------------------------------------\u001b[0m",
      "\u001b[0;31mNameError\u001b[0m                                 Traceback (most recent call last)",
      "\u001b[0;32m<ipython-input-10-0d157b073efd>\u001b[0m in \u001b[0;36m<module>\u001b[0;34m\u001b[0m\n\u001b[1;32m      1\u001b[0m \u001b[0;31m# construct a filter based on given GPS +- box\u001b[0m\u001b[0;34m\u001b[0m\u001b[0;34m\u001b[0m\u001b[0;34m\u001b[0m\u001b[0m\n\u001b[1;32m      2\u001b[0m \u001b[0;31m# AND notation as & https://pythoninoffice.com/filter-a-pandas-dataframe-or-and-not/\u001b[0m\u001b[0;34m\u001b[0m\u001b[0;34m\u001b[0m\u001b[0;34m\u001b[0m\u001b[0m\n\u001b[0;32m----> 3\u001b[0;31m \u001b[0mgps_box\u001b[0m \u001b[0;34m=\u001b[0m \u001b[0;34m(\u001b[0m\u001b[0;34m(\u001b[0m\u001b[0mdf\u001b[0m\u001b[0;34m.\u001b[0m\u001b[0mY_NS_latitudes\u001b[0m \u001b[0;34m<\u001b[0m \u001b[0mcurr_gps\u001b[0m\u001b[0;34m[\u001b[0m\u001b[0;36m0\u001b[0m\u001b[0;34m]\u001b[0m \u001b[0;34m+\u001b[0m \u001b[0mY_NS_deg\u001b[0m\u001b[0;34m)\u001b[0m \u001b[0;34m&\u001b[0m \u001b[0;34m(\u001b[0m\u001b[0mdf\u001b[0m\u001b[0;34m.\u001b[0m\u001b[0mY_NS_latitudes\u001b[0m \u001b[0;34m>\u001b[0m \u001b[0mcurr_gps\u001b[0m\u001b[0;34m[\u001b[0m\u001b[0;36m0\u001b[0m\u001b[0;34m]\u001b[0m \u001b[0;34m-\u001b[0m \u001b[0mY_NS_deg\u001b[0m\u001b[0;34m)\u001b[0m\u001b[0;34m)\u001b[0m \u001b[0;34m&\u001b[0m\u001b[0;31m \u001b[0m\u001b[0;31m\\\u001b[0m\u001b[0;34m\u001b[0m\u001b[0;34m\u001b[0m\u001b[0m\n\u001b[0m\u001b[1;32m      4\u001b[0m \u001b[0;34m(\u001b[0m\u001b[0;34m(\u001b[0m\u001b[0mdf\u001b[0m\u001b[0;34m.\u001b[0m\u001b[0mX_EW_longitudes\u001b[0m \u001b[0;34m<\u001b[0m \u001b[0mcurr_gps\u001b[0m\u001b[0;34m[\u001b[0m\u001b[0;36m1\u001b[0m\u001b[0;34m]\u001b[0m \u001b[0;34m+\u001b[0m \u001b[0mX_EW_deg\u001b[0m\u001b[0;34m)\u001b[0m \u001b[0;34m&\u001b[0m \u001b[0;34m(\u001b[0m\u001b[0mdf\u001b[0m\u001b[0;34m.\u001b[0m\u001b[0mX_EW_longitudes\u001b[0m \u001b[0;34m>\u001b[0m \u001b[0mcurr_gps\u001b[0m\u001b[0;34m[\u001b[0m\u001b[0;36m1\u001b[0m\u001b[0;34m]\u001b[0m \u001b[0;34m-\u001b[0m \u001b[0mX_EW_deg\u001b[0m\u001b[0;34m)\u001b[0m\u001b[0;34m)\u001b[0m\u001b[0;34m\u001b[0m\u001b[0;34m\u001b[0m\u001b[0m\n",
      "\u001b[0;31mNameError\u001b[0m: name 'df' is not defined"
     ]
    }
   ],
   "source": [
    "# construct a filter based on given GPS +- box\n",
    "# AND notation as & https://pythoninoffice.com/filter-a-pandas-dataframe-or-and-not/\n",
    "gps_box = ((df.Y_NS_latitudes < curr_gps[0] + Y_NS_deg) & (df.Y_NS_latitudes > curr_gps[0] - Y_NS_deg)) & \\\n",
    "((df.X_EW_longitudes < curr_gps[1] + X_EW_deg) & (df.X_EW_longitudes > curr_gps[1] - X_EW_deg))"
   ]
  },
  {
   "cell_type": "code",
   "execution_count": 282,
   "id": "4a02f734",
   "metadata": {},
   "outputs": [
    {
     "data": {
      "text/plain": [
       "23958"
      ]
     },
     "execution_count": 282,
     "metadata": {},
     "output_type": "execute_result"
    }
   ],
   "source": [
    "gps_box.sum() # 125 @ +-1 mile; 4061 @ +- 10 miles; 23958 @ +- 50 miles"
   ]
  },
  {
   "cell_type": "code",
   "execution_count": 285,
   "id": "55afe4b7",
   "metadata": {},
   "outputs": [
    {
     "name": "stdout",
     "output_type": "stream",
     "text": [
      "places.json         places_sub.json     reviews.json        users.json\r\n",
      "places_gps.json     places_sub_gps.json reviews_sub.json    users_sub.json\r\n"
     ]
    }
   ],
   "source": [
    "!ls data"
   ]
  },
  {
   "cell_type": "code",
   "execution_count": 286,
   "id": "372c5271",
   "metadata": {},
   "outputs": [],
   "source": [
    "df[gps_box].to_json('data/places_sub.json')"
   ]
  },
  {
   "cell_type": "code",
   "execution_count": 292,
   "id": "13cfc8ce",
   "metadata": {},
   "outputs": [
    {
     "data": {
      "text/plain": [
       "(23958, 9)"
      ]
     },
     "execution_count": 292,
     "metadata": {},
     "output_type": "execute_result"
    }
   ],
   "source": [
    "df[gps_box].shape"
   ]
  },
  {
   "cell_type": "code",
   "execution_count": 290,
   "id": "5dc9c50a",
   "metadata": {},
   "outputs": [],
   "source": [
    "gPlusPlaceId_filter = df[gps_box].gPlusPlaceId"
   ]
  },
  {
   "cell_type": "code",
   "execution_count": 289,
   "id": "ac07bf71",
   "metadata": {},
   "outputs": [
    {
     "name": "stdout",
     "output_type": "stream",
     "text": [
      "places.json         places_sub.json     reviews.json        users.json\r\n",
      "places_gps.json     places_sub_gps.json reviews_sub.json    users_sub.json\r\n"
     ]
    }
   ],
   "source": [
    "!ls data"
   ]
  },
  {
   "cell_type": "code",
   "execution_count": 291,
   "id": "43f5a230",
   "metadata": {},
   "outputs": [
    {
     "data": {
      "text/plain": [
       "pandas.core.series.Series"
      ]
     },
     "execution_count": 291,
     "metadata": {},
     "output_type": "execute_result"
    }
   ],
   "source": [
    "type(gPlusPlaceId_filter)"
   ]
  },
  {
   "cell_type": "code",
   "execution_count": 294,
   "id": "a79fa768",
   "metadata": {},
   "outputs": [
    {
     "data": {
      "text/plain": [
       "114        1.171118e+20\n",
       "188        1.077787e+20\n",
       "197        1.026709e+20\n",
       "462        1.159807e+20\n",
       "742        1.066260e+20\n",
       "               ...     \n",
       "3113198    1.145442e+20\n",
       "3113454    1.013767e+20\n",
       "3113606    1.168646e+20\n",
       "3113689    1.018366e+20\n",
       "3114277    1.051600e+20\n",
       "Name: gPlusPlaceId, Length: 23958, dtype: float64"
      ]
     },
     "execution_count": 294,
     "metadata": {},
     "output_type": "execute_result"
    }
   ],
   "source": [
    "gPlusPlaceId_filter"
   ]
  },
  {
   "cell_type": "code",
   "execution_count": 3,
   "id": "952e4466",
   "metadata": {},
   "outputs": [
    {
     "name": "stdout",
     "output_type": "stream",
     "text": [
      "gPlusPlaceId_filter.json places_sub.json          reviews_sub.json\r\n",
      "places.json              places_sub_gps.json      users.json\r\n",
      "places_gps.json          reviews.json             users_sub.json\r\n"
     ]
    }
   ],
   "source": [
    "!ls data"
   ]
  },
  {
   "cell_type": "code",
   "execution_count": 4,
   "id": "f4f4ea61",
   "metadata": {},
   "outputs": [],
   "source": [
    "import numpy as np\n",
    "import pandas as pd"
   ]
  },
  {
   "cell_type": "code",
   "execution_count": 6,
   "id": "8c710347",
   "metadata": {},
   "outputs": [
    {
     "name": "stdout",
     "output_type": "stream",
     "text": [
      "CPU times: user 100 ms, sys: 13.5 ms, total: 114 ms\n",
      "Wall time: 118 ms\n"
     ]
    }
   ],
   "source": [
    "%%time\n",
    "df_places = pd.read_json('data/places_sub_gps.json')"
   ]
  },
  {
   "cell_type": "code",
   "execution_count": 7,
   "id": "36d80dae",
   "metadata": {},
   "outputs": [
    {
     "data": {
      "text/html": [
       "<div>\n",
       "<style scoped>\n",
       "    .dataframe tbody tr th:only-of-type {\n",
       "        vertical-align: middle;\n",
       "    }\n",
       "\n",
       "    .dataframe tbody tr th {\n",
       "        vertical-align: top;\n",
       "    }\n",
       "\n",
       "    .dataframe thead th {\n",
       "        text-align: right;\n",
       "    }\n",
       "</style>\n",
       "<table border=\"1\" class=\"dataframe\">\n",
       "  <thead>\n",
       "    <tr style=\"text-align: right;\">\n",
       "      <th></th>\n",
       "      <th>name</th>\n",
       "      <th>price</th>\n",
       "      <th>address</th>\n",
       "      <th>hours</th>\n",
       "      <th>phone</th>\n",
       "      <th>closed</th>\n",
       "      <th>gPlusPlaceId</th>\n",
       "      <th>Y_NS_latitudes</th>\n",
       "      <th>X_EW_longitudes</th>\n",
       "    </tr>\n",
       "  </thead>\n",
       "  <tbody>\n",
       "    <tr>\n",
       "      <th>2649645</th>\n",
       "      <td>London Drugs</td>\n",
       "      <td>None</td>\n",
       "      <td>[5255 Richmond Road SW, 300, Calgary, AB T3E 7...</td>\n",
       "      <td>[[Monday, [['9:00 am--10:00 pm']]], [Tuesday, ...</td>\n",
       "      <td>(403) 571-4932</td>\n",
       "      <td>False</td>\n",
       "      <td>1.126659e+20</td>\n",
       "      <td>51.017783</td>\n",
       "      <td>-114.160632</td>\n",
       "    </tr>\n",
       "    <tr>\n",
       "      <th>358766</th>\n",
       "      <td>Mikasa Park</td>\n",
       "      <td>None</td>\n",
       "      <td>[82-14 Inaokacho, Yokosuka, Kanagawa 238-0003,...</td>\n",
       "      <td>None</td>\n",
       "      <td>046-824-6291</td>\n",
       "      <td>False</td>\n",
       "      <td>1.150497e+20</td>\n",
       "      <td>35.285658</td>\n",
       "      <td>139.673981</td>\n",
       "    </tr>\n",
       "    <tr>\n",
       "      <th>496811</th>\n",
       "      <td>CVS Pharmacy | Photo</td>\n",
       "      <td>None</td>\n",
       "      <td>[14857 U.S. 19, Thomasville, GA 31792]</td>\n",
       "      <td>[[Monday, [['8:00 am--12:00 am']]], [Tuesday, ...</td>\n",
       "      <td>(229) 228-7785</td>\n",
       "      <td>False</td>\n",
       "      <td>1.026680e+20</td>\n",
       "      <td>30.852380</td>\n",
       "      <td>-83.946280</td>\n",
       "    </tr>\n",
       "    <tr>\n",
       "      <th>1775602</th>\n",
       "      <td>Eyes of New Mexico Family Optometry</td>\n",
       "      <td>None</td>\n",
       "      <td>[7007 Wyoming Blvd NE, Albuquerque, NM 87109]</td>\n",
       "      <td>[[Monday, [['8:30 am--5:30 pm']]], [Tuesday, [...</td>\n",
       "      <td>(505) 828-3937</td>\n",
       "      <td>False</td>\n",
       "      <td>1.035625e+20</td>\n",
       "      <td>35.158550</td>\n",
       "      <td>-106.560744</td>\n",
       "    </tr>\n",
       "    <tr>\n",
       "      <th>880902</th>\n",
       "      <td>Outback Steakhouse</td>\n",
       "      <td>$$</td>\n",
       "      <td>[5710 Oakley Blvd, Wesley Chapel, FL 33544]</td>\n",
       "      <td>[[Monday, [['11:00 am--10:00 pm']]], [Tuesday,...</td>\n",
       "      <td>(813) 973-7717</td>\n",
       "      <td>False</td>\n",
       "      <td>1.081550e+20</td>\n",
       "      <td>28.240256</td>\n",
       "      <td>-82.353610</td>\n",
       "    </tr>\n",
       "  </tbody>\n",
       "</table>\n",
       "</div>"
      ],
      "text/plain": [
       "                                        name price  \\\n",
       "2649645                         London Drugs  None   \n",
       "358766                           Mikasa Park  None   \n",
       "496811                  CVS Pharmacy | Photo  None   \n",
       "1775602  Eyes of New Mexico Family Optometry  None   \n",
       "880902                    Outback Steakhouse    $$   \n",
       "\n",
       "                                                   address  \\\n",
       "2649645  [5255 Richmond Road SW, 300, Calgary, AB T3E 7...   \n",
       "358766   [82-14 Inaokacho, Yokosuka, Kanagawa 238-0003,...   \n",
       "496811              [14857 U.S. 19, Thomasville, GA 31792]   \n",
       "1775602      [7007 Wyoming Blvd NE, Albuquerque, NM 87109]   \n",
       "880902         [5710 Oakley Blvd, Wesley Chapel, FL 33544]   \n",
       "\n",
       "                                                     hours           phone  \\\n",
       "2649645  [[Monday, [['9:00 am--10:00 pm']]], [Tuesday, ...  (403) 571-4932   \n",
       "358766                                                None    046-824-6291   \n",
       "496811   [[Monday, [['8:00 am--12:00 am']]], [Tuesday, ...  (229) 228-7785   \n",
       "1775602  [[Monday, [['8:30 am--5:30 pm']]], [Tuesday, [...  (505) 828-3937   \n",
       "880902   [[Monday, [['11:00 am--10:00 pm']]], [Tuesday,...  (813) 973-7717   \n",
       "\n",
       "         closed  gPlusPlaceId  Y_NS_latitudes  X_EW_longitudes  \n",
       "2649645   False  1.126659e+20       51.017783      -114.160632  \n",
       "358766    False  1.150497e+20       35.285658       139.673981  \n",
       "496811    False  1.026680e+20       30.852380       -83.946280  \n",
       "1775602   False  1.035625e+20       35.158550      -106.560744  \n",
       "880902    False  1.081550e+20       28.240256       -82.353610  "
      ]
     },
     "execution_count": 7,
     "metadata": {},
     "output_type": "execute_result"
    }
   ],
   "source": [
    "df_places.head()"
   ]
  },
  {
   "cell_type": "code",
   "execution_count": 1,
   "id": "72cb62d3",
   "metadata": {},
   "outputs": [
    {
     "ename": "NameError",
     "evalue": "name 'df' is not defined",
     "output_type": "error",
     "traceback": [
      "\u001b[0;31m---------------------------------------------------------------------------\u001b[0m",
      "\u001b[0;31mNameError\u001b[0m                                 Traceback (most recent call last)",
      "\u001b[0;32m<ipython-input-1-ee0968b4ac37>\u001b[0m in \u001b[0;36m<module>\u001b[0;34m\u001b[0m\n\u001b[0;32m----> 1\u001b[0;31m \u001b[0mz\u001b[0m\u001b[0;34m=\u001b[0m\u001b[0mdf\u001b[0m\u001b[0;34m[\u001b[0m\u001b[0mgps_box\u001b[0m\u001b[0;34m]\u001b[0m\u001b[0;34m.\u001b[0m\u001b[0mgPlusPlaceId\u001b[0m\u001b[0;34m.\u001b[0m\u001b[0mto_frame\u001b[0m\u001b[0;34m(\u001b[0m\u001b[0;34m)\u001b[0m\u001b[0;34m\u001b[0m\u001b[0;34m\u001b[0m\u001b[0m\n\u001b[0m\u001b[1;32m      2\u001b[0m \u001b[0mz\u001b[0m\u001b[0;34m\u001b[0m\u001b[0;34m\u001b[0m\u001b[0m\n",
      "\u001b[0;31mNameError\u001b[0m: name 'df' is not defined"
     ]
    }
   ],
   "source": [
    "z=df[gps_box].gPlusPlaceId.to_frame()\n",
    "z"
   ]
  },
  {
   "cell_type": "code",
   "execution_count": 295,
   "id": "e997a918",
   "metadata": {},
   "outputs": [],
   "source": [
    "gPlusPlaceId_filter.to_json('data/gPlusPlaceId_filter.json')"
   ]
  },
  {
   "cell_type": "code",
   "execution_count": null,
   "id": "4ef0efc8",
   "metadata": {},
   "outputs": [],
   "source": [
    "df_reviews = pd.read_json"
   ]
  },
  {
   "cell_type": "code",
   "execution_count": 283,
   "id": "b8a88a0a",
   "metadata": {},
   "outputs": [
    {
     "data": {
      "image/png": "[encoded data removed]",
      "text/plain": [
       "<Figure size 432x288 with 1 Axes>"
      ]
     },
     "metadata": {
      "needs_background": "light"
     },
     "output_type": "display_data"
    }
   ],
   "source": [
    "# plt.scatter(tmp.X_EW_longitudes/1e6\n",
    "# Now the fun part\n",
    "# countries.plot(color=\"lavender\", figsize=(20,15)) # color=\"lightgrey\"\n",
    "# s=1 - smallest marker\n",
    "plt.scatter(df.loc[gps_box].X_EW_longitudes,\n",
    "            df.loc[gps_box].Y_NS_latitudes, s=1,\n",
    "            color='r', label='Google Places')\n",
    "\n",
    "plt.title(f'Subsample at {radius} miles box\\nfrom the current position')\n",
    "box = {'facecolor': 'lime',\n",
    "       'edgecolor': 'black',\n",
    "       'boxstyle': 'round'\n",
    "      }\n",
    "# plt.text(-170, -50, 'OUT IN SPACE\\n\\n75,818 places\\nworldwide\\n2.46% of total with\\nGPS data', bbox=box)\n",
    "# plt.legend()\n",
    "plt.xlabel('EW_longitudes')\n",
    "plt.ylabel('NS_latitudes')\n",
    "plt.grid()\n",
    "\n",
    "plt.tight_layout()\n",
    "# bbox_inches='tight' save without extra padding\n",
    "# plt.savefig('img/Places_CORRECTED_gps.png',\n",
    "# facecolor='w', edgecolor='w',\n",
    "# transparent=False, bbox_inches='tight')"
   ]
  },
  {
   "cell_type": "code",
   "execution_count": 18,
   "id": "64aa5538",
   "metadata": {},
   "outputs": [
    {
     "name": "stdout",
     "output_type": "stream",
     "text": [
      "Memory usage is 202.433 MB\n"
     ]
    }
   ],
   "source": [
    "\n",
    "print_memory_usage_of_data_frame(df_places)"
   ]
  },
  {
   "cell_type": "code",
   "execution_count": 2,
   "id": "77912aba",
   "metadata": {},
   "outputs": [],
   "source": [
    "# + 54.3 Mb Memory: 161.5\n",
    "import random\n",
    "import numpy as np\n",
    "import pandas as pd\n",
    "import matplotlib.pyplot as plt"
   ]
  },
  {
   "cell_type": "code",
   "execution_count": 2,
   "id": "9602c83b",
   "metadata": {},
   "outputs": [
    {
     "name": "stdout",
     "output_type": "stream",
     "text": [
      "places.json      reviews.json     users.json\r\n",
      "places_sub.json  reviews_sub.json users_sub.json\r\n"
     ]
    }
   ],
   "source": [
    "!ls data"
   ]
  },
  {
   "cell_type": "code",
   "execution_count": 60,
   "id": "b508470f",
   "metadata": {},
   "outputs": [
    {
     "name": "stdout",
     "output_type": "stream",
     "text": [
      "CPU times: user 39.1 s, sys: 6.72 s, total: 45.8 s\n",
      "Wall time: 48.8 s\n"
     ]
    }
   ],
   "source": [
    "%%time\n",
    "# df_users = pd.read_json('data/users_sub.json')\n",
    "# df_users = pd.read_json('data/users.json')\n",
    "# df_places = pd.read_json('data/places_sub.json')  # Wall time: 42.9 s (128 ms \"_sub\")\n",
    "# df_reviews = pd.read_json('data/reviews.json')  # Wall time: 2min 10s (58.3 ms \"_sub\")\n",
    "\n",
    "\n",
    "\n",
    "df_places = pd.read_json('data/places.json')\n",
    "# df_reviews = pd.read_json('data/reviews_sub.json')\n",
    "# Wall time: 244 ms for all three subsampled data sets"
   ]
  },
  {
   "cell_type": "code",
   "execution_count": 4,
   "id": "f30eb080",
   "metadata": {},
   "outputs": [
    {
     "name": "stdout",
     "output_type": "stream",
     "text": [
      "CPU times: user 1.49 s, sys: 22.4 ms, total: 1.51 s\n",
      "Wall time: 1.52 s\n"
     ]
    },
    {
     "data": {
      "text/html": [
       "<div>\n",
       "<style scoped>\n",
       "    .dataframe tbody tr th:only-of-type {\n",
       "        vertical-align: middle;\n",
       "    }\n",
       "\n",
       "    .dataframe tbody tr th {\n",
       "        vertical-align: top;\n",
       "    }\n",
       "\n",
       "    .dataframe thead th {\n",
       "        text-align: right;\n",
       "    }\n",
       "</style>\n",
       "<table border=\"1\" class=\"dataframe\">\n",
       "  <thead>\n",
       "    <tr style=\"text-align: right;\">\n",
       "      <th></th>\n",
       "      <th>NaN counts</th>\n",
       "      <th>Populated %</th>\n",
       "    </tr>\n",
       "  </thead>\n",
       "  <tbody>\n",
       "    <tr>\n",
       "      <th>rating</th>\n",
       "      <td>0</td>\n",
       "      <td>100.000000</td>\n",
       "    </tr>\n",
       "    <tr>\n",
       "      <th>reviewerName</th>\n",
       "      <td>0</td>\n",
       "      <td>100.000000</td>\n",
       "    </tr>\n",
       "    <tr>\n",
       "      <th>reviewText</th>\n",
       "      <td>3533115</td>\n",
       "      <td>69.153459</td>\n",
       "    </tr>\n",
       "    <tr>\n",
       "      <th>categories</th>\n",
       "      <td>966148</td>\n",
       "      <td>91.564859</td>\n",
       "    </tr>\n",
       "    <tr>\n",
       "      <th>gPlusPlaceId</th>\n",
       "      <td>0</td>\n",
       "      <td>100.000000</td>\n",
       "    </tr>\n",
       "    <tr>\n",
       "      <th>unixReviewTime</th>\n",
       "      <td>851993</td>\n",
       "      <td>92.561511</td>\n",
       "    </tr>\n",
       "    <tr>\n",
       "      <th>reviewTime</th>\n",
       "      <td>851993</td>\n",
       "      <td>92.561511</td>\n",
       "    </tr>\n",
       "    <tr>\n",
       "      <th>gPlusUserId</th>\n",
       "      <td>0</td>\n",
       "      <td>100.000000</td>\n",
       "    </tr>\n",
       "  </tbody>\n",
       "</table>\n",
       "</div>"
      ],
      "text/plain": [
       "                NaN counts  Populated %\n",
       "rating                   0   100.000000\n",
       "reviewerName             0   100.000000\n",
       "reviewText         3533115    69.153459\n",
       "categories          966148    91.564859\n",
       "gPlusPlaceId             0   100.000000\n",
       "unixReviewTime      851993    92.561511\n",
       "reviewTime          851993    92.561511\n",
       "gPlusUserId              0   100.000000"
      ]
     },
     "execution_count": 4,
     "metadata": {},
     "output_type": "execute_result"
    }
   ],
   "source": [
    "%%time\n",
    "# tmp = pd.DataFrame(df_users.isnull().sum(), columns=['NaN counts'])\n",
    "# tmp['Populated %'] = (df_users.shape[0] - tmp['NaN counts'])*100/df_users.shape[0]\n",
    "# tmp = pd.DataFrame(df_places.isnull().sum(), columns=['NaN counts'])\n",
    "# tmp['Populated %'] = (df_places.shape[0] - tmp['NaN counts'])*100/df_places.shape[0]\n",
    "tmp = pd.DataFrame(df_reviews.isnull().sum(), columns=['NaN counts'])\n",
    "tmp['Populated %'] = (df_reviews.shape[0] - tmp['NaN counts'])*100/df_reviews.shape[0]\n",
    "\n",
    "\n",
    "tmp"
   ]
  },
  {
   "cell_type": "code",
   "execution_count": null,
   "id": "05e3568e",
   "metadata": {},
   "outputs": [],
   "source": [
    "df_users.info()\n",
    "\n",
    "# FULL SET:\n",
    "# tmp = pd.DataFrame(df_users.isnull().sum(), columns=['NaN counts'])\n",
    "# tmp['Populated %'] = (df_users.shape[0] - tmp['NaN counts'])*100/df_users.shape[0]\n",
    "\n",
    "# Int64Index: 10000 entries, 872833 to 35717 # FULL: 3747937 entries, 0 to 3747936\n",
    "# Data columns (total 6 columns):\n",
    "#  #   Column          Non-Null Count  Dtype  ==> *100/10,000 = /100\n",
    "# ---  ------          --------------  -----  \n",
    "#  0   userName        10000 non-null  object \n",
    "#  1   jobs            1775 non-null   object 18% FULL: 18.2%\n",
    "#  2   currentPlace    1998 non-null   object 20% FULL: 20%\n",
    "#  3   previousPlaces  1077 non-null   object 11% FULL: 11%\n",
    "#  4   education       9964 non-null   object 99% FULL\n",
    "#  5   gPlusUserId     10000 non-null  float64\n",
    "# dtypes: float64(1), object(5)\n",
    "# memory usage: 546.9+ KB  # FULL: 200.2+ MB (100 KB = 0.097656 MB) 0.27% of the whole dataset\n",
    "# df_users.hist()"
   ]
  },
  {
   "cell_type": "code",
   "execution_count": 4,
   "id": "1dc20d74",
   "metadata": {},
   "outputs": [
    {
     "name": "stdout",
     "output_type": "stream",
     "text": [
      "<class 'pandas.core.frame.DataFrame'>\n",
      "Int64Index: 10000 entries, 2476497 to 1559529\n",
      "Data columns (total 8 columns):\n",
      " #   Column        Non-Null Count  Dtype  \n",
      "---  ------        --------------  -----  \n",
      " 0   name          10000 non-null  object \n",
      " 1   price         1315 non-null   object \n",
      " 2   address       10000 non-null  object \n",
      " 3   hours         4212 non-null   object \n",
      " 4   phone         8853 non-null   object \n",
      " 5   closed        10000 non-null  bool   \n",
      " 6   gPlusPlaceId  10000 non-null  float64\n",
      " 7   gps           9927 non-null   object \n",
      "dtypes: bool(1), float64(1), object(6)\n",
      "memory usage: 634.8+ KB\n"
     ]
    }
   ],
   "source": [
    "df_places.info()\n",
    "# FULL SET:\n",
    "# tmp = pd.DataFrame(df_places.isnull().sum(), columns=['NaN counts'])\n",
    "# tmp['Populated %'] = (df_places.shape[0] - tmp['NaN counts'])*100/df_places.shape[0]\n",
    "\n",
    "# Data columns (total 8 columns):\n",
    "#  #   Column        Non-Null Count  Dtype  \n",
    "# ---  ------        --------------  -----  \n",
    "#  0   name          10000 non-null  object \n",
    "#  1   price         1315 non-null   object \n",
    "#  2   address       10000 non-null  object \n",
    "#  3   hours         4212 non-null   object \n",
    "#  4   phone         8853 non-null   object \n",
    "#  5   closed        10000 non-null  bool   \n",
    "#  6   gPlusPlaceId  10000 non-null  float64\n",
    "#  7   gps           9927 non-null   object \n",
    "# dtypes: bool(1), float64(1), object(6)\n",
    "# memory usage: 634.8+ KB"
   ]
  },
  {
   "cell_type": "code",
   "execution_count": 5,
   "id": "6b123abd",
   "metadata": {},
   "outputs": [
    {
     "name": "stdout",
     "output_type": "stream",
     "text": [
      "<class 'pandas.core.frame.DataFrame'>\n",
      "Int64Index: 11453845 entries, 0 to 11453844\n",
      "Data columns (total 8 columns):\n",
      " #   Column          Dtype  \n",
      "---  ------          -----  \n",
      " 0   rating          int64  \n",
      " 1   reviewerName    object \n",
      " 2   reviewText      object \n",
      " 3   categories      object \n",
      " 4   gPlusPlaceId    float64\n",
      " 5   unixReviewTime  float64\n",
      " 6   reviewTime      object \n",
      " 7   gPlusUserId     float64\n",
      "dtypes: float64(3), int64(1), object(4)\n",
      "memory usage: 786.5+ MB\n"
     ]
    }
   ],
   "source": [
    "df_reviews.info()\n",
    "\n",
    "# Int64Index: 10000 entries, 10747508 to 9176643\n",
    "# Data columns (total 8 columns):\n",
    "#  #   Column          Non-Null Count  Dtype  \n",
    "# ---  ------          --------------  -----  \n",
    "#  0   rating          10000 non-null  int64  \n",
    "#  1   reviewerName    10000 non-null  object \n",
    "#  2   reviewText      7071 non-null   object \n",
    "#  3   categories      9136 non-null   object \n",
    "#  4   gPlusPlaceId    10000 non-null  float64\n",
    "#  5   unixReviewTime  9227 non-null   float64\n",
    "#  6   reviewTime      9227 non-null   object \n",
    "#  7   gPlusUserId     10000 non-null  float64\n",
    "# dtypes: float64(3), int64(1), object(4)\n",
    "# memory usage: 703.1+ KB FULL: 786.5+ MB"
   ]
  },
  {
   "cell_type": "code",
   "execution_count": 9,
   "id": "26476388",
   "metadata": {},
   "outputs": [],
   "source": [
    "font_size = 20\n",
    "plt.rc('font', size=font_size) #controls default text size\n",
    "plt.rc('axes', titlesize=font_size) #fontsize of the title\n",
    "plt.rc('axes', labelsize=font_size) #fontsize of the x and y labels\n",
    "plt.rc('xtick', labelsize=font_size) #fontsize of the x tick labels\n",
    "plt.rc('ytick', labelsize=font_size) #fontsize of the y tick labels\n",
    "plt.rc('legend', fontsize=font_size) #fontsize of the legend"
   ]
  },
  {
   "cell_type": "code",
   "execution_count": 11,
   "id": "38826fb5",
   "metadata": {},
   "outputs": [
    {
     "data": {
      "text/plain": [
       "Text(0.5, 1.0, 'RATINGS * ~ *****')"
      ]
     },
     "execution_count": 11,
     "metadata": {},
     "output_type": "execute_result"
    },
    {
     "data": {
      "image/png": "[encoded data removed]",
      "text/plain": [
       "<Figure size 432x288 with 1 Axes>"
      ]
     },
     "metadata": {
      "needs_background": "light"
     },
     "output_type": "display_data"
    }
   ],
   "source": [
    "df_reviews.rating.hist()\n",
    "plt.title('RATINGS * ~ *****')"
   ]
  },
  {
   "cell_type": "code",
   "execution_count": null,
   "id": "b896379f",
   "metadata": {},
   "outputs": [],
   "source": [
    "# del EW_filter, NS_filter, box, countries, filter, gpd, gps, gps_value_filter\n",
    "del font_size, ser1, ser2 "
   ]
  },
  {
   "cell_type": "code",
   "execution_count": 13,
   "id": "20851eda",
   "metadata": {},
   "outputs": [
    {
     "data": {
      "text/plain": [
       "0                                [Giải Trí - Café]\n",
       "1                                [Turkish Cuisine]\n",
       "2    [Fishing, Pond Fish Supplier, Seafood Market]\n",
       "3                                         [Museum]\n",
       "4                                         [Police]\n",
       "Name: categories, dtype: object"
      ]
     },
     "execution_count": 13,
     "metadata": {},
     "output_type": "execute_result"
    }
   ],
   "source": [
    "df_reviews.categories.head()"
   ]
  },
  {
   "cell_type": "code",
   "execution_count": null,
   "id": "91b8138e",
   "metadata": {},
   "outputs": [],
   "source": []
  }
 ],
 "metadata": {
  "kernelspec": {
   "display_name": "Python 3",
   "language": "python",
   "name": "python3"
  },
  "language_info": {
   "codemirror_mode": {
    "name": "ipython",
    "version": 3
   },
   "file_extension": ".py",
   "mimetype": "text/x-python",
   "name": "python",
   "nbconvert_exporter": "python",
   "pygments_lexer": "ipython3",
   "version": "3.7.10"
  }
 },
 "nbformat": 4,
 "nbformat_minor": 5
}
