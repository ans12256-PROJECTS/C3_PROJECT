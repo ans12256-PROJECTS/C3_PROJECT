{
 "cells": [
  {
   "cell_type": "code",
   "execution_count": 1,
   "id": "72e4189c",
   "metadata": {},
   "outputs": [],
   "source": [
    "import beepy"
   ]
  },
  {
   "cell_type": "code",
   "execution_count": 2,
   "id": "dd9ceba9",
   "metadata": {},
   "outputs": [],
   "source": [
    "import numpy as np\n",
    "import pandas as pd"
   ]
  },
  {
   "cell_type": "code",
   "execution_count": 3,
   "id": "2f0b43be",
   "metadata": {},
   "outputs": [],
   "source": [
    "# Using pieces of json_convert.py"
   ]
  },
  {
   "cell_type": "code",
   "execution_count": 4,
   "id": "6143fea9",
   "metadata": {},
   "outputs": [
    {
     "name": "stdout",
     "output_type": "stream",
     "text": [
      "delme.json               places_revs_count.json   reviews_sub.json\r\n",
      "gPlusPlaceId_filter.json places_sub.json          users.clean.json\r\n",
      "places.clean.json        places_sub_gps.json      users.json\r\n",
      "places.json              reviews.clean.json       users_sub.json\r\n",
      "places_gps.json          reviews.json\r\n"
     ]
    }
   ],
   "source": [
    "!ls data"
   ]
  },
  {
   "cell_type": "code",
   "execution_count": 5,
   "id": "a03094e8",
   "metadata": {},
   "outputs": [
    {
     "name": "stdout",
     "output_type": "stream",
     "text": [
      "<class 'pandas.core.frame.DataFrame'>\n",
      "Int64Index: 11453845 entries, 0 to 11453844\n",
      "Data columns (total 8 columns):\n",
      " #   Column          Dtype  \n",
      "---  ------          -----  \n",
      " 0   rating          int64  \n",
      " 1   reviewerName    object \n",
      " 2   reviewText      object \n",
      " 3   categories      object \n",
      " 4   gPlusPlaceId    float64\n",
      " 5   unixReviewTime  float64\n",
      " 6   reviewTime      object \n",
      " 7   gPlusUserId     float64\n",
      "dtypes: float64(3), int64(1), object(4)\n",
      "memory usage: 786.5+ MB\n",
      "CPU times: user 1min 36s, sys: 23.5 s, total: 2min\n",
      "Wall time: 2min 7s\n"
     ]
    }
   ],
   "source": [
    "%%time\n",
    "df=pd.read_json('data/reviews.json')  # Wall time: 2min 12s\n",
    "df.info()\n",
    "beepy.beep(sound=1) # 1 : 'coin'"
   ]
  },
  {
   "cell_type": "code",
   "execution_count": 6,
   "id": "3e0525b0",
   "metadata": {},
   "outputs": [
    {
     "data": {
      "text/html": [
       "<div>\n",
       "<style scoped>\n",
       "    .dataframe tbody tr th:only-of-type {\n",
       "        vertical-align: middle;\n",
       "    }\n",
       "\n",
       "    .dataframe tbody tr th {\n",
       "        vertical-align: top;\n",
       "    }\n",
       "\n",
       "    .dataframe thead th {\n",
       "        text-align: right;\n",
       "    }\n",
       "</style>\n",
       "<table border=\"1\" class=\"dataframe\">\n",
       "  <thead>\n",
       "    <tr style=\"text-align: right;\">\n",
       "      <th></th>\n",
       "      <th>rating</th>\n",
       "      <th>reviewerName</th>\n",
       "      <th>reviewText</th>\n",
       "      <th>categories</th>\n",
       "      <th>gPlusPlaceId</th>\n",
       "      <th>unixReviewTime</th>\n",
       "      <th>reviewTime</th>\n",
       "      <th>gPlusUserId</th>\n",
       "    </tr>\n",
       "  </thead>\n",
       "  <tbody>\n",
       "    <tr>\n",
       "      <th>0</th>\n",
       "      <td>3</td>\n",
       "      <td>an lam</td>\n",
       "      <td>Chất lượng tạm ổn</td>\n",
       "      <td>[Giải Trí - Café]</td>\n",
       "      <td>1.081033e+20</td>\n",
       "      <td>1.372687e+09</td>\n",
       "      <td>Jul 1, 2013</td>\n",
       "      <td>1.000000e+20</td>\n",
       "    </tr>\n",
       "    <tr>\n",
       "      <th>1</th>\n",
       "      <td>5</td>\n",
       "      <td>HALİL TURGUT</td>\n",
       "      <td>Wc si temiz duzenli..</td>\n",
       "      <td>[Turkish Cuisine]</td>\n",
       "      <td>1.021941e+20</td>\n",
       "      <td>1.342871e+09</td>\n",
       "      <td>Jul 21, 2012</td>\n",
       "      <td>1.000000e+20</td>\n",
       "    </tr>\n",
       "    <tr>\n",
       "      <th>2</th>\n",
       "      <td>5</td>\n",
       "      <td>森田さとこ</td>\n",
       "      <td>何回も私は予定に休みがセルバに行ったので覚えて見て、分かります❗</td>\n",
       "      <td>[Fishing, Pond Fish Supplier, Seafood Market]</td>\n",
       "      <td>1.014099e+20</td>\n",
       "      <td>1.390654e+09</td>\n",
       "      <td>Jan 25, 2014</td>\n",
       "      <td>1.000000e+20</td>\n",
       "    </tr>\n",
       "    <tr>\n",
       "      <th>3</th>\n",
       "      <td>5</td>\n",
       "      <td>森田さとこ</td>\n",
       "      <td>今度は予定に休みが登米市に行きたい❗☀😅🌌 楽しいに日帰りに登米の見学の観光(*^)(*^-...</td>\n",
       "      <td>[Museum]</td>\n",
       "      <td>1.014772e+20</td>\n",
       "      <td>1.389188e+09</td>\n",
       "      <td>Jan 8, 2014</td>\n",
       "      <td>1.000000e+20</td>\n",
       "    </tr>\n",
       "    <tr>\n",
       "      <th>4</th>\n",
       "      <td>4</td>\n",
       "      <td>森田さとこ</td>\n",
       "      <td>気仙沼警察署に移転中に絆 👮🐎☺🙋🚓頑張ろう❗</td>\n",
       "      <td>[Police]</td>\n",
       "      <td>1.069942e+20</td>\n",
       "      <td>1.390486e+09</td>\n",
       "      <td>Jan 23, 2014</td>\n",
       "      <td>1.000000e+20</td>\n",
       "    </tr>\n",
       "  </tbody>\n",
       "</table>\n",
       "</div>"
      ],
      "text/plain": [
       "   rating  reviewerName                                         reviewText  \\\n",
       "0       3        an lam                                  Chất lượng tạm ổn   \n",
       "1       5  HALİL TURGUT                              Wc si temiz duzenli..   \n",
       "2       5         森田さとこ                   何回も私は予定に休みがセルバに行ったので覚えて見て、分かります❗   \n",
       "3       5         森田さとこ  今度は予定に休みが登米市に行きたい❗☀😅🌌 楽しいに日帰りに登米の見学の観光(*^)(*^-...   \n",
       "4       4         森田さとこ                            気仙沼警察署に移転中に絆 👮🐎☺🙋🚓頑張ろう❗   \n",
       "\n",
       "                                      categories  gPlusPlaceId  \\\n",
       "0                              [Giải Trí - Café]  1.081033e+20   \n",
       "1                              [Turkish Cuisine]  1.021941e+20   \n",
       "2  [Fishing, Pond Fish Supplier, Seafood Market]  1.014099e+20   \n",
       "3                                       [Museum]  1.014772e+20   \n",
       "4                                       [Police]  1.069942e+20   \n",
       "\n",
       "   unixReviewTime    reviewTime   gPlusUserId  \n",
       "0    1.372687e+09   Jul 1, 2013  1.000000e+20  \n",
       "1    1.342871e+09  Jul 21, 2012  1.000000e+20  \n",
       "2    1.390654e+09  Jan 25, 2014  1.000000e+20  \n",
       "3    1.389188e+09   Jan 8, 2014  1.000000e+20  \n",
       "4    1.390486e+09  Jan 23, 2014  1.000000e+20  "
      ]
     },
     "execution_count": 6,
     "metadata": {},
     "output_type": "execute_result"
    }
   ],
   "source": [
    "df.head()"
   ]
  },
  {
   "cell_type": "code",
   "execution_count": 41,
   "id": "65552b71",
   "metadata": {},
   "outputs": [],
   "source": [
    "import beepy"
   ]
  },
  {
   "cell_type": "code",
   "execution_count": 42,
   "id": "a54021d2",
   "metadata": {},
   "outputs": [
    {
     "name": "stdout",
     "output_type": "stream",
     "text": [
      "CPU times: user 1.35 s, sys: 9.64 s, total: 11 s\n",
      "Wall time: 26.8 s\n"
     ]
    }
   ],
   "source": [
    "%%time\n",
    "df_reviews = df.copy(deep=True)\n",
    "beepy.beep(sound=4) # 4 : 'ping'"
   ]
  },
  {
   "cell_type": "code",
   "execution_count": 44,
   "id": "d91429db",
   "metadata": {},
   "outputs": [
    {
     "data": {
      "text/html": [
       "<div>\n",
       "<style scoped>\n",
       "    .dataframe tbody tr th:only-of-type {\n",
       "        vertical-align: middle;\n",
       "    }\n",
       "\n",
       "    .dataframe tbody tr th {\n",
       "        vertical-align: top;\n",
       "    }\n",
       "\n",
       "    .dataframe thead th {\n",
       "        text-align: right;\n",
       "    }\n",
       "</style>\n",
       "<table border=\"1\" class=\"dataframe\">\n",
       "  <thead>\n",
       "    <tr style=\"text-align: right;\">\n",
       "      <th></th>\n",
       "      <th>rating</th>\n",
       "      <th>reviewerName</th>\n",
       "      <th>reviewText</th>\n",
       "      <th>categories</th>\n",
       "      <th>gPlusPlaceId</th>\n",
       "      <th>unixReviewTime</th>\n",
       "      <th>reviewTime</th>\n",
       "      <th>gPlusUserId</th>\n",
       "    </tr>\n",
       "  </thead>\n",
       "  <tbody>\n",
       "    <tr>\n",
       "      <th>0</th>\n",
       "      <td>3</td>\n",
       "      <td>an lam</td>\n",
       "      <td>Chất lượng tạm ổn</td>\n",
       "      <td>[Giải Trí - Café]</td>\n",
       "      <td>1.081033e+20</td>\n",
       "      <td>1.372687e+09</td>\n",
       "      <td>Jul 1, 2013</td>\n",
       "      <td>1.000000e+20</td>\n",
       "    </tr>\n",
       "    <tr>\n",
       "      <th>1</th>\n",
       "      <td>5</td>\n",
       "      <td>HALİL TURGUT</td>\n",
       "      <td>Wc si temiz duzenli..</td>\n",
       "      <td>[Turkish Cuisine]</td>\n",
       "      <td>1.021941e+20</td>\n",
       "      <td>1.342871e+09</td>\n",
       "      <td>Jul 21, 2012</td>\n",
       "      <td>1.000000e+20</td>\n",
       "    </tr>\n",
       "    <tr>\n",
       "      <th>2</th>\n",
       "      <td>5</td>\n",
       "      <td>森田さとこ</td>\n",
       "      <td>何回も私は予定に休みがセルバに行ったので覚えて見て、分かります❗</td>\n",
       "      <td>[Fishing, Pond Fish Supplier, Seafood Market]</td>\n",
       "      <td>1.014099e+20</td>\n",
       "      <td>1.390654e+09</td>\n",
       "      <td>Jan 25, 2014</td>\n",
       "      <td>1.000000e+20</td>\n",
       "    </tr>\n",
       "    <tr>\n",
       "      <th>3</th>\n",
       "      <td>5</td>\n",
       "      <td>森田さとこ</td>\n",
       "      <td>今度は予定に休みが登米市に行きたい❗☀😅🌌 楽しいに日帰りに登米の見学の観光(*^)(*^-...</td>\n",
       "      <td>[Museum]</td>\n",
       "      <td>1.014772e+20</td>\n",
       "      <td>1.389188e+09</td>\n",
       "      <td>Jan 8, 2014</td>\n",
       "      <td>1.000000e+20</td>\n",
       "    </tr>\n",
       "    <tr>\n",
       "      <th>4</th>\n",
       "      <td>4</td>\n",
       "      <td>森田さとこ</td>\n",
       "      <td>気仙沼警察署に移転中に絆 👮🐎☺🙋🚓頑張ろう❗</td>\n",
       "      <td>[Police]</td>\n",
       "      <td>1.069942e+20</td>\n",
       "      <td>1.390486e+09</td>\n",
       "      <td>Jan 23, 2014</td>\n",
       "      <td>1.000000e+20</td>\n",
       "    </tr>\n",
       "  </tbody>\n",
       "</table>\n",
       "</div>"
      ],
      "text/plain": [
       "   rating  reviewerName                                         reviewText  \\\n",
       "0       3        an lam                                  Chất lượng tạm ổn   \n",
       "1       5  HALİL TURGUT                              Wc si temiz duzenli..   \n",
       "2       5         森田さとこ                   何回も私は予定に休みがセルバに行ったので覚えて見て、分かります❗   \n",
       "3       5         森田さとこ  今度は予定に休みが登米市に行きたい❗☀😅🌌 楽しいに日帰りに登米の見学の観光(*^)(*^-...   \n",
       "4       4         森田さとこ                            気仙沼警察署に移転中に絆 👮🐎☺🙋🚓頑張ろう❗   \n",
       "\n",
       "                                      categories  gPlusPlaceId  \\\n",
       "0                              [Giải Trí - Café]  1.081033e+20   \n",
       "1                              [Turkish Cuisine]  1.021941e+20   \n",
       "2  [Fishing, Pond Fish Supplier, Seafood Market]  1.014099e+20   \n",
       "3                                       [Museum]  1.014772e+20   \n",
       "4                                       [Police]  1.069942e+20   \n",
       "\n",
       "   unixReviewTime    reviewTime   gPlusUserId  \n",
       "0    1.372687e+09   Jul 1, 2013  1.000000e+20  \n",
       "1    1.342871e+09  Jul 21, 2012  1.000000e+20  \n",
       "2    1.390654e+09  Jan 25, 2014  1.000000e+20  \n",
       "3    1.389188e+09   Jan 8, 2014  1.000000e+20  \n",
       "4    1.390486e+09  Jan 23, 2014  1.000000e+20  "
      ]
     },
     "execution_count": 44,
     "metadata": {},
     "output_type": "execute_result"
    }
   ],
   "source": [
    "df_reviews.head()"
   ]
  },
  {
   "cell_type": "code",
   "execution_count": 9,
   "id": "d5ebbcf4",
   "metadata": {},
   "outputs": [
    {
     "data": {
      "text/plain": [
       "21"
      ]
     },
     "execution_count": 9,
     "metadata": {},
     "output_type": "execute_result"
    }
   ],
   "source": [
    "len('118197036100848205824')"
   ]
  },
  {
   "cell_type": "code",
   "execution_count": 6,
   "id": "99daf2c1",
   "metadata": {},
   "outputs": [
    {
     "data": {
      "text/plain": [
       "(11453845, 8)"
      ]
     },
     "execution_count": 6,
     "metadata": {},
     "output_type": "execute_result"
    }
   ],
   "source": [
    "df\n",
    "df.shape  # 11453845, 8"
   ]
  },
  {
   "cell_type": "code",
   "execution_count": 54,
   "id": "2c23e8bc",
   "metadata": {},
   "outputs": [
    {
     "data": {
      "text/plain": [
       "pandas.core.series.Series"
      ]
     },
     "execution_count": 54,
     "metadata": {},
     "output_type": "execute_result"
    }
   ],
   "source": [
    "type(tmp)"
   ]
  },
  {
   "cell_type": "code",
   "execution_count": 36,
   "id": "06827671",
   "metadata": {},
   "outputs": [
    {
     "name": "stdout",
     "output_type": "stream",
     "text": [
      "Variable            Type         Data/Info\n",
      "------------------------------------------\n",
      "beepy               module       <module 'beepy' from '/Us<...>kages/beepy/__init__.py'>\n",
      "df                  DataFrame              rating      rev<...>1453845 rows x 8 columns]\n",
      "np                  module       <module 'numpy' from '/Us<...>kages/numpy/__init__.py'>\n",
      "pd                  module       <module 'pandas' from '/U<...>ages/pandas/__init__.py'>\n",
      "places_revs_count   DataFrame                  gPlusPlaceI<...>3116785 rows x 1 columns]\n",
      "tmp                 Series       0           1.081033e+20\\<...> 11453845, dtype: float64\n",
      "tmp_set             set          {1.1383204840649082e+20, <...>, 1.1532089331672759e+20}\n"
     ]
    }
   ],
   "source": [
    "whos"
   ]
  },
  {
   "cell_type": "code",
   "execution_count": 45,
   "id": "ab1889ac",
   "metadata": {},
   "outputs": [
    {
     "data": {
      "text/html": [
       "<div>\n",
       "<style scoped>\n",
       "    .dataframe tbody tr th:only-of-type {\n",
       "        vertical-align: middle;\n",
       "    }\n",
       "\n",
       "    .dataframe tbody tr th {\n",
       "        vertical-align: top;\n",
       "    }\n",
       "\n",
       "    .dataframe thead th {\n",
       "        text-align: right;\n",
       "    }\n",
       "</style>\n",
       "<table border=\"1\" class=\"dataframe\">\n",
       "  <thead>\n",
       "    <tr style=\"text-align: right;\">\n",
       "      <th></th>\n",
       "      <th>rating</th>\n",
       "      <th>reviewerName</th>\n",
       "      <th>reviewText</th>\n",
       "      <th>categories</th>\n",
       "      <th>gPlusPlaceId</th>\n",
       "      <th>unixReviewTime</th>\n",
       "      <th>reviewTime</th>\n",
       "      <th>gPlusUserId</th>\n",
       "      <th>gPlusPlaceId_index</th>\n",
       "    </tr>\n",
       "  </thead>\n",
       "  <tbody>\n",
       "    <tr>\n",
       "      <th>0</th>\n",
       "      <td>3</td>\n",
       "      <td>an lam</td>\n",
       "      <td>Chất lượng tạm ổn</td>\n",
       "      <td>[Giải Trí - Café]</td>\n",
       "      <td>1.081033e+20</td>\n",
       "      <td>1.372687e+09</td>\n",
       "      <td>Jul 1, 2013</td>\n",
       "      <td>1.000000e+20</td>\n",
       "      <td>1081033144</td>\n",
       "    </tr>\n",
       "    <tr>\n",
       "      <th>1</th>\n",
       "      <td>5</td>\n",
       "      <td>HALİL TURGUT</td>\n",
       "      <td>Wc si temiz duzenli..</td>\n",
       "      <td>[Turkish Cuisine]</td>\n",
       "      <td>1.021941e+20</td>\n",
       "      <td>1.342871e+09</td>\n",
       "      <td>Jul 21, 2012</td>\n",
       "      <td>1.000000e+20</td>\n",
       "      <td>1021941282</td>\n",
       "    </tr>\n",
       "    <tr>\n",
       "      <th>2</th>\n",
       "      <td>5</td>\n",
       "      <td>森田さとこ</td>\n",
       "      <td>何回も私は予定に休みがセルバに行ったので覚えて見て、分かります❗</td>\n",
       "      <td>[Fishing, Pond Fish Supplier, Seafood Market]</td>\n",
       "      <td>1.014099e+20</td>\n",
       "      <td>1.390654e+09</td>\n",
       "      <td>Jan 25, 2014</td>\n",
       "      <td>1.000000e+20</td>\n",
       "      <td>1014098588</td>\n",
       "    </tr>\n",
       "    <tr>\n",
       "      <th>3</th>\n",
       "      <td>5</td>\n",
       "      <td>森田さとこ</td>\n",
       "      <td>今度は予定に休みが登米市に行きたい❗☀😅🌌 楽しいに日帰りに登米の見学の観光(*^)(*^-...</td>\n",
       "      <td>[Museum]</td>\n",
       "      <td>1.014772e+20</td>\n",
       "      <td>1.389188e+09</td>\n",
       "      <td>Jan 8, 2014</td>\n",
       "      <td>1.000000e+20</td>\n",
       "      <td>1014771775</td>\n",
       "    </tr>\n",
       "    <tr>\n",
       "      <th>4</th>\n",
       "      <td>4</td>\n",
       "      <td>森田さとこ</td>\n",
       "      <td>気仙沼警察署に移転中に絆 👮🐎☺🙋🚓頑張ろう❗</td>\n",
       "      <td>[Police]</td>\n",
       "      <td>1.069942e+20</td>\n",
       "      <td>1.390486e+09</td>\n",
       "      <td>Jan 23, 2014</td>\n",
       "      <td>1.000000e+20</td>\n",
       "      <td>1069941706</td>\n",
       "    </tr>\n",
       "  </tbody>\n",
       "</table>\n",
       "</div>"
      ],
      "text/plain": [
       "   rating  reviewerName                                         reviewText  \\\n",
       "0       3        an lam                                  Chất lượng tạm ổn   \n",
       "1       5  HALİL TURGUT                              Wc si temiz duzenli..   \n",
       "2       5         森田さとこ                   何回も私は予定に休みがセルバに行ったので覚えて見て、分かります❗   \n",
       "3       5         森田さとこ  今度は予定に休みが登米市に行きたい❗☀😅🌌 楽しいに日帰りに登米の見学の観光(*^)(*^-...   \n",
       "4       4         森田さとこ                            気仙沼警察署に移転中に絆 👮🐎☺🙋🚓頑張ろう❗   \n",
       "\n",
       "                                      categories  gPlusPlaceId  \\\n",
       "0                              [Giải Trí - Café]  1.081033e+20   \n",
       "1                              [Turkish Cuisine]  1.021941e+20   \n",
       "2  [Fishing, Pond Fish Supplier, Seafood Market]  1.014099e+20   \n",
       "3                                       [Museum]  1.014772e+20   \n",
       "4                                       [Police]  1.069942e+20   \n",
       "\n",
       "   unixReviewTime    reviewTime   gPlusUserId  gPlusPlaceId_index  \n",
       "0    1.372687e+09   Jul 1, 2013  1.000000e+20          1081033144  \n",
       "1    1.342871e+09  Jul 21, 2012  1.000000e+20          1021941282  \n",
       "2    1.390654e+09  Jan 25, 2014  1.000000e+20          1014098588  \n",
       "3    1.389188e+09   Jan 8, 2014  1.000000e+20          1014771775  \n",
       "4    1.390486e+09  Jan 23, 2014  1.000000e+20          1069941706  "
      ]
     },
     "execution_count": 45,
     "metadata": {},
     "output_type": "execute_result"
    }
   ],
   "source": [
    "# August 6, 2021 work on reviews db\n",
    "# HAVING:\n",
    "# df_reviews=pd.read_json('data/reviews.json')  # Wall time: 2min 12s\n",
    "\n",
    "# Block to:\n",
    "# 1) introduce gPlusPlaceId_index to reviews\n",
    "# 2) drop duplicate indices\n",
    "# 3) save, read, check for gps box filtering\n",
    "\n",
    "# 1) introduce gPlusPlaceId_index to reviews\n",
    "#  given df, and unprocessed gPlusPlaceId in form 1.081033e+20, or df.loc[0] 108103314380004196352.0\n",
    "# following process for places, here we go\n",
    "\n",
    "# !!!!!!!!!!!!!! int() rounds to 0 => duplicates, round() to the nearest int\n",
    "# df_places_gps['gPlusPlaceId_index'] = df_places_gps['gPlusPlaceId'].transform(lambda x: int(x/1e11))\n",
    "# df_places_gps['gPlusPlaceId_index'] = df_places_gps['gPlusPlaceId'].transform(lambda x: round(x/1e11))\n",
    "# df_places_gps.head()\n",
    "df_reviews['gPlusPlaceId_index'] = df_reviews['gPlusPlaceId'].transform(lambda x: round(x/1e11))\n",
    "df_reviews.head()\n",
    "\n",
    "\n",
    "# 2) drop duplicate indices\n",
    "#  2.1) read indices to drop from places:\n",
    "gPlusPlaceId_index_2_drop = pd.read_json('data/gPlusPlaceId_4_duplicates.json')\n",
    "dir(gPlusPlaceId_index_2_drop[0]) #= gPlusPlaceId_index_2_drop.to_series().tolist() # pandas.core.frame.DataFrame\n",
    "gPlusPlaceId_index_2_drop = gPlusPlaceId_index_2_drop[0].to_list() # pandas.core.series.Series\n",
    "len(gPlusPlaceId_index_2_drop) # list len(25278)\n",
    "filter_2_drop = df_reviews['gPlusPlaceId_index'].isin(gPlusPlaceId_index_2_drop)\n",
    "filter_2_drop.sum()  #len(185952) reviews\n",
    "# expected number of records after filtering 11_267_893 1.62% drop\n",
    "filter_2_drop.shape  # (11453845,) 185952 False = KEEP, not in the list to drop. Need to use ~filter_2_drop\n",
    "#  And now drop duplicates\n",
    "df_reviews = df_reviews[~filter_2_drop] # re-assign only not to be dropped rows\n",
    "df_reviews.shape  # expected drop from 11453845 entries to 11_267_893 1.62% drop\n",
    "\n",
    "%%time\n",
    "# 3) save, read, check for gps box filtering\n",
    "df_reviews.to_json('data/reviews_gPlusPlaceId_index_no_duplicates.json')  Wall time: 44 s\n",
    "beepy.beep(sound=4) # 4 : 'ping' \n",
    "%%time\n",
    "df_reviews = pd.read_json('data/reviews_gPlusPlaceId_index_no_duplicates.json')\n",
    "beepy.beep(sound=4) # 4 : 'ping' \n",
    "\n",
    "# Now, gps box filter for 98012 - THE MOMENT OF TRUTH !!!\n",
    "# 4) read indices to filter per gps_box\n",
    "# gPlusPlaceId_index_2_drop = pd.read_json('data/gPlusPlaceId_4_duplicates.json')\n",
    "gPlusPlaceId_index_gps_box = pd.read_json('data/gPlusPlaceId_4_gps_box.json')"
   ]
  },
  {
   "cell_type": "code",
   "execution_count": 78,
   "id": "dd7cf3b9",
   "metadata": {},
   "outputs": [
    {
     "name": "stdout",
     "output_type": "stream",
     "text": [
      "delme.json                     places_sub.json\r\n",
      "dir.txt                        places_sub_gps.json\r\n",
      "gPlusPlaceId_4_duplicates.json reviews.clean.json\r\n",
      "gPlusPlaceId_filter.json       reviews.json\r\n",
      "places.clean.json              reviews_sub.json\r\n",
      "places.json                    users.clean.json\r\n",
      "places_gps.json                users.json\r\n",
      "places_gps_no_dup_indexed.json users_sub.json\r\n",
      "places_revs_count.json\r\n"
     ]
    }
   ],
   "source": [
    "!ls data"
   ]
  },
  {
   "cell_type": "code",
   "execution_count": 93,
   "id": "58074cbd",
   "metadata": {},
   "outputs": [
    {
     "name": "stdout",
     "output_type": "stream",
     "text": [
      "CPU times: user 17.1 ms, sys: 7.67 ms, total: 24.8 ms\n",
      "Wall time: 32.6 ms\n"
     ]
    }
   ],
   "source": [
    "%%time\n",
    "# 4)  check for gps box filtering\n",
    "gPlusPlaceId_index_gps_box = pd.read_json('data/gPlusPlaceId_4_gps_box.json', orient='index')\n",
    "\n",
    "\n",
    "# Now, gps box filter for 98012 - THE MOMENT OF TRUTH !!!"
   ]
  },
  {
   "cell_type": "code",
   "execution_count": 94,
   "id": "63355b3c",
   "metadata": {},
   "outputs": [
    {
     "data": {
      "text/html": [
       "<div>\n",
       "<style scoped>\n",
       "    .dataframe tbody tr th:only-of-type {\n",
       "        vertical-align: middle;\n",
       "    }\n",
       "\n",
       "    .dataframe tbody tr th {\n",
       "        vertical-align: top;\n",
       "    }\n",
       "\n",
       "    .dataframe thead th {\n",
       "        text-align: right;\n",
       "    }\n",
       "</style>\n",
       "<table border=\"1\" class=\"dataframe\">\n",
       "  <thead>\n",
       "    <tr style=\"text-align: right;\">\n",
       "      <th></th>\n",
       "      <th>0</th>\n",
       "    </tr>\n",
       "  </thead>\n",
       "  <tbody>\n",
       "    <tr>\n",
       "      <th>2007-02-10 14:28:17</th>\n",
       "      <td>1171117697</td>\n",
       "    </tr>\n",
       "    <tr>\n",
       "      <th>2004-02-26 09:23:23</th>\n",
       "      <td>1077787403</td>\n",
       "    </tr>\n",
       "    <tr>\n",
       "      <th>2002-07-15 04:57:31</th>\n",
       "      <td>1026709051</td>\n",
       "    </tr>\n",
       "    <tr>\n",
       "      <th>2006-10-02 16:41:47</th>\n",
       "      <td>1159807307</td>\n",
       "    </tr>\n",
       "    <tr>\n",
       "      <th>2003-10-15 23:21:29</th>\n",
       "      <td>1066260089</td>\n",
       "    </tr>\n",
       "    <tr>\n",
       "      <th>...</th>\n",
       "      <td>...</td>\n",
       "    </tr>\n",
       "    <tr>\n",
       "      <th>2006-04-19 10:18:22</th>\n",
       "      <td>1145441902</td>\n",
       "    </tr>\n",
       "    <tr>\n",
       "      <th>2002-02-15 09:59:07</th>\n",
       "      <td>1013767147</td>\n",
       "    </tr>\n",
       "    <tr>\n",
       "      <th>2007-01-12 23:53:09</th>\n",
       "      <td>1168645989</td>\n",
       "    </tr>\n",
       "    <tr>\n",
       "      <th>2002-04-09 15:20:21</th>\n",
       "      <td>1018365621</td>\n",
       "    </tr>\n",
       "    <tr>\n",
       "      <th>2003-04-29 07:07:23</th>\n",
       "      <td>1051600043</td>\n",
       "    </tr>\n",
       "  </tbody>\n",
       "</table>\n",
       "<p>23780 rows × 1 columns</p>\n",
       "</div>"
      ],
      "text/plain": [
       "                              0\n",
       "2007-02-10 14:28:17  1171117697\n",
       "2004-02-26 09:23:23  1077787403\n",
       "2002-07-15 04:57:31  1026709051\n",
       "2006-10-02 16:41:47  1159807307\n",
       "2003-10-15 23:21:29  1066260089\n",
       "...                         ...\n",
       "2006-04-19 10:18:22  1145441902\n",
       "2002-02-15 09:59:07  1013767147\n",
       "2007-01-12 23:53:09  1168645989\n",
       "2002-04-09 15:20:21  1018365621\n",
       "2003-04-29 07:07:23  1051600043\n",
       "\n",
       "[23780 rows x 1 columns]"
      ]
     },
     "execution_count": 94,
     "metadata": {},
     "output_type": "execute_result"
    }
   ],
   "source": [
    "gPlusPlaceId_index_gps_box"
   ]
  },
  {
   "cell_type": "code",
   "execution_count": 95,
   "id": "ee0e9d14",
   "metadata": {},
   "outputs": [
    {
     "data": {
      "text/plain": [
       "23780"
      ]
     },
     "execution_count": 95,
     "metadata": {},
     "output_type": "execute_result"
    }
   ],
   "source": [
    "gPlusPlaceId_index_gps_box = gPlusPlaceId_index_gps_box[0].to_list() # pandas.core.series.Series\n",
    "len(gPlusPlaceId_index_gps_box) # list len(23780)"
   ]
  },
  {
   "cell_type": "code",
   "execution_count": 96,
   "id": "434a6d84",
   "metadata": {},
   "outputs": [
    {
     "data": {
      "text/plain": [
       "112747"
      ]
     },
     "execution_count": 96,
     "metadata": {},
     "output_type": "execute_result"
    }
   ],
   "source": [
    "filter_2_keep = df_reviews['gPlusPlaceId_index'].isin(gPlusPlaceId_index_gps_box)\n",
    "filter_2_keep.sum()  #len(112747) reviews"
   ]
  },
  {
   "cell_type": "code",
   "execution_count": 99,
   "id": "10a393e5",
   "metadata": {},
   "outputs": [
    {
     "data": {
      "text/plain": [
       "4.74125315391085"
      ]
     },
     "execution_count": 99,
     "metadata": {},
     "output_type": "execute_result"
    }
   ],
   "source": [
    "112747/23780"
   ]
  },
  {
   "cell_type": "code",
   "execution_count": 97,
   "id": "62809062",
   "metadata": {},
   "outputs": [
    {
     "data": {
      "text/plain": [
       "(11267893,)"
      ]
     },
     "execution_count": 97,
     "metadata": {},
     "output_type": "execute_result"
    }
   ],
   "source": [
    "# expected number of records after filtering 11_267_893 112747 = 1.00 % subsample\n",
    "# 23780 businesses @ 50 miles box around zip=98012 with 112747 reviews ~ 4.74 reviews per business\n",
    "filter_2_keep.shape  # (11267893,) 112747 True = KEEP, in the list \n",
    "#  And now drop duplicates"
   ]
  },
  {
   "cell_type": "code",
   "execution_count": 100,
   "id": "54468dfe",
   "metadata": {},
   "outputs": [
    {
     "data": {
      "text/plain": [
       "(112747, 9)"
      ]
     },
     "execution_count": 100,
     "metadata": {},
     "output_type": "execute_result"
    }
   ],
   "source": [
    "df_reviews = df_reviews[filter_2_keep] # re-assign only to the rows with reviews for needed businesses\n",
    "df_reviews.shape  # expected drop from 11267893 entries to 112747 1.00% subsample"
   ]
  },
  {
   "cell_type": "code",
   "execution_count": null,
   "id": "9cc73f1e",
   "metadata": {},
   "outputs": [],
   "source": [
    "gPlusPlaceId_index_gps_box = gPlusPlaceId_index_gps_box[0].to_list() # pandas.core.series.Series\n",
    "len(gPlusPlaceId_index_gps_box) # list len(23780)\n",
    "filter_2_keep = df_reviews['gPlusPlaceId_index'].isin(gPlusPlaceId_index_gps_box)\n",
    "filter_2_keep.sum()  #len(185952) reviews\n",
    "# expected number of records after filtering 11_267_893 1.62% drop\n",
    "filter_2_keep.shape  # (11453845,) 185952 False = KEEP, not in the list to drop. Need to use ~filter_2_drop\n",
    "#  And now drop duplicates\n",
    "df_reviews = df_reviews[~filter_2_drop] # re-assign only not to be dropped rows\n",
    "df_reviews.shape  # expected drop from 11453845 entries to 11_267_893 1.62% drop\n"
   ]
  },
  {
   "cell_type": "code",
   "execution_count": 103,
   "id": "bd70cb6e",
   "metadata": {},
   "outputs": [],
   "source": [
    "df_reviews.to_json('data/reviews_gps_box.json')"
   ]
  },
  {
   "cell_type": "code",
   "execution_count": 102,
   "id": "b8c75225",
   "metadata": {},
   "outputs": [
    {
     "name": "stdout",
     "output_type": "stream",
     "text": [
      "delme.json\r\n",
      "dir.txt\r\n",
      "gPlusPlaceId_4_duplicates.json\r\n",
      "gPlusPlaceId_4_gps_box.json\r\n",
      "gPlusPlaceId_filter.json\r\n",
      "places.clean.json\r\n",
      "places.json\r\n",
      "places_gps.json\r\n",
      "places_gps_box.json\r\n",
      "places_gps_no_dup_indexed.json\r\n",
      "places_revs_count.json\r\n",
      "places_sub.json\r\n",
      "places_sub_gps.json\r\n",
      "reviews.clean.json\r\n",
      "reviews.json\r\n",
      "reviews_gPlusPlaceId_index_no_duplicates.json\r\n",
      "reviews_sub.json\r\n",
      "users.clean.json\r\n",
      "users.json\r\n",
      "users_sub.json\r\n"
     ]
    }
   ],
   "source": [
    "!ls data"
   ]
  },
  {
   "cell_type": "code",
   "execution_count": 83,
   "id": "80fbd5ef",
   "metadata": {},
   "outputs": [
    {
     "name": "stdout",
     "output_type": "stream",
     "text": [
      "CPU times: user 1min 44s, sys: 41.5 s, total: 2min 26s\n",
      "Wall time: 2min 46s\n"
     ]
    }
   ],
   "source": [
    "%%time\n",
    "df_reviews = pd.read_json('data/reviews_gPlusPlaceId_index_no_duplicates.json')\n",
    "beepy.beep(sound=4) # 4 : 'ping' "
   ]
  },
  {
   "cell_type": "code",
   "execution_count": 85,
   "id": "93820384",
   "metadata": {},
   "outputs": [
    {
     "data": {
      "text/plain": [
       "(11267893, 9)"
      ]
     },
     "execution_count": 85,
     "metadata": {},
     "output_type": "execute_result"
    }
   ],
   "source": [
    "df_reviews.shape # (11267893, 9)"
   ]
  },
  {
   "cell_type": "code",
   "execution_count": 72,
   "id": "df591264",
   "metadata": {},
   "outputs": [
    {
     "data": {
      "text/plain": [
       "(11453845,)"
      ]
     },
     "execution_count": 72,
     "metadata": {},
     "output_type": "execute_result"
    }
   ],
   "source": [
    "# expected number of records after filtering 11_267_893 1.62% drop\n",
    "filter_2_drop.shape  # (11453845,) 185952 False = KEEP, not in the list to drop. Need to use ~filter_2_drop"
   ]
  },
  {
   "cell_type": "code",
   "execution_count": 71,
   "id": "4bdfb849",
   "metadata": {},
   "outputs": [],
   "source": [
    "backup = df_reviews.copy(deep=True)"
   ]
  },
  {
   "cell_type": "code",
   "execution_count": 77,
   "id": "1a1d5b6d",
   "metadata": {},
   "outputs": [
    {
     "data": {
      "text/plain": [
       "(11267893, 9)"
      ]
     },
     "execution_count": 77,
     "metadata": {},
     "output_type": "execute_result"
    }
   ],
   "source": [
    "df_reviews = df_reviews[~filter_2_drop] # re-assign only not to be dropped rows\n",
    "df_reviews.shape  # expected drop from 11453845 entries to 11_267_893 1.62% drop"
   ]
  },
  {
   "cell_type": "code",
   "execution_count": 10,
   "id": "b3e2c7c8",
   "metadata": {},
   "outputs": [
    {
     "data": {
      "text/plain": [
       "(11453845,)"
      ]
     },
     "execution_count": 10,
     "metadata": {},
     "output_type": "execute_result"
    }
   ],
   "source": [
    "\n",
    "tmp = df['gPlusUserId']\n",
    "tmp.shape # gPlusPlaceId = (11453845,) gPlusUserId = (11453845,)\n"
   ]
  },
  {
   "cell_type": "code",
   "execution_count": 11,
   "id": "bd177045",
   "metadata": {},
   "outputs": [
    {
     "data": {
      "text/plain": [
       "5054567"
      ]
     },
     "execution_count": 11,
     "metadata": {},
     "output_type": "execute_result"
    }
   ],
   "source": [
    "tmp_set = set(tmp.unique())\n",
    "len(tmp_set)  # gPlusPlaceId 3116785 of 11453845  27.21% are rated; gPlusUserId unique reviewers 5054567"
   ]
  },
  {
   "cell_type": "code",
   "execution_count": 12,
   "id": "ef3277fd",
   "metadata": {},
   "outputs": [],
   "source": [
    "# tmp_set"
   ]
  },
  {
   "cell_type": "code",
   "execution_count": 13,
   "id": "ef2ae293",
   "metadata": {},
   "outputs": [],
   "source": [
    "# dir(users_revs_count)"
   ]
  },
  {
   "cell_type": "code",
   "execution_count": 14,
   "id": "0b539d6c",
   "metadata": {},
   "outputs": [
    {
     "name": "stdout",
     "output_type": "stream",
     "text": [
      "tmp.shape: (11453845,)\n",
      "Total unique places with reviews: 3116785\n"
     ]
    }
   ],
   "source": [
    "tmp = df['gPlusPlaceId']\n",
    "print(f'tmp.shape: {tmp.shape}') # gPlusPlaceId = (11453845,) gPlusUserId = (11453845,)\n",
    "\n",
    "tmp_set = set(tmp.unique())\n",
    "print(f'Total unique places with reviews: {len(tmp_set)}')  # gPlusPlaceId 3116785 of 11453845  27.21% are rated; gPlusUserId unique reviewers 5054567"
   ]
  },
  {
   "cell_type": "code",
   "execution_count": 19,
   "id": "59e66286",
   "metadata": {},
   "outputs": [
    {
     "name": "stdout",
     "output_type": "stream",
     "text": [
      "CPU times: user 720 ms, sys: 39.4 ms, total: 759 ms\n",
      "Wall time: 763 ms\n"
     ]
    },
    {
     "data": {
      "text/html": [
       "<div>\n",
       "<style scoped>\n",
       "    .dataframe tbody tr th:only-of-type {\n",
       "        vertical-align: middle;\n",
       "    }\n",
       "\n",
       "    .dataframe tbody tr th {\n",
       "        vertical-align: top;\n",
       "    }\n",
       "\n",
       "    .dataframe thead th {\n",
       "        text-align: right;\n",
       "    }\n",
       "</style>\n",
       "<table border=\"1\" class=\"dataframe\">\n",
       "  <thead>\n",
       "    <tr style=\"text-align: right;\">\n",
       "      <th></th>\n",
       "      <th>gPlusPlaceId</th>\n",
       "    </tr>\n",
       "  </thead>\n",
       "  <tbody>\n",
       "    <tr>\n",
       "      <th>1.181970e+20</th>\n",
       "      <td>1662</td>\n",
       "    </tr>\n",
       "    <tr>\n",
       "      <th>1.137090e+20</th>\n",
       "      <td>982</td>\n",
       "    </tr>\n",
       "    <tr>\n",
       "      <th>1.078367e+20</th>\n",
       "      <td>790</td>\n",
       "    </tr>\n",
       "    <tr>\n",
       "      <th>1.142999e+20</th>\n",
       "      <td>663</td>\n",
       "    </tr>\n",
       "    <tr>\n",
       "      <th>1.052215e+20</th>\n",
       "      <td>653</td>\n",
       "    </tr>\n",
       "    <tr>\n",
       "      <th>...</th>\n",
       "      <td>...</td>\n",
       "    </tr>\n",
       "    <tr>\n",
       "      <th>1.094026e+20</th>\n",
       "      <td>1</td>\n",
       "    </tr>\n",
       "    <tr>\n",
       "      <th>1.109621e+20</th>\n",
       "      <td>1</td>\n",
       "    </tr>\n",
       "    <tr>\n",
       "      <th>1.116628e+20</th>\n",
       "      <td>1</td>\n",
       "    </tr>\n",
       "    <tr>\n",
       "      <th>1.111517e+20</th>\n",
       "      <td>1</td>\n",
       "    </tr>\n",
       "    <tr>\n",
       "      <th>1.171683e+20</th>\n",
       "      <td>1</td>\n",
       "    </tr>\n",
       "  </tbody>\n",
       "</table>\n",
       "<p>3116785 rows × 1 columns</p>\n",
       "</div>"
      ],
      "text/plain": [
       "              gPlusPlaceId\n",
       "1.181970e+20          1662\n",
       "1.137090e+20           982\n",
       "1.078367e+20           790\n",
       "1.142999e+20           663\n",
       "1.052215e+20           653\n",
       "...                    ...\n",
       "1.094026e+20             1\n",
       "1.109621e+20             1\n",
       "1.116628e+20             1\n",
       "1.111517e+20             1\n",
       "1.171683e+20             1\n",
       "\n",
       "[3116785 rows x 1 columns]"
      ]
     },
     "execution_count": 19,
     "metadata": {},
     "output_type": "execute_result"
    }
   ],
   "source": [
    "%%time\n",
    "# users_revs_count = tmp.value_counts()\n",
    "# users_revs_count  \n",
    "\n",
    "places_revs_count = tmp.value_counts().to_frame()  # if no () present, creates a method\n",
    "places_revs_count  # 1662 reviews place id: "
   ]
  },
  {
   "cell_type": "code",
   "execution_count": 32,
   "id": "ba212065",
   "metadata": {},
   "outputs": [
    {
     "data": {
      "text/plain": [
       "Float64Index([1.0783674901170669e+20], dtype='float64')"
      ]
     },
     "execution_count": 32,
     "metadata": {},
     "output_type": "execute_result"
    }
   ],
   "source": [
    "# largest number of ratings gPlusPlaceId = 1.181970361008482e+20\n",
    "places_revs_count.loc[places_revs_count['gPlusPlaceId'] == 790].index"
   ]
  },
  {
   "cell_type": "code",
   "execution_count": 35,
   "id": "52fed2fe",
   "metadata": {},
   "outputs": [
    {
     "data": {
      "text/html": [
       "<div>\n",
       "<style scoped>\n",
       "    .dataframe tbody tr th:only-of-type {\n",
       "        vertical-align: middle;\n",
       "    }\n",
       "\n",
       "    .dataframe tbody tr th {\n",
       "        vertical-align: top;\n",
       "    }\n",
       "\n",
       "    .dataframe thead th {\n",
       "        text-align: right;\n",
       "    }\n",
       "</style>\n",
       "<table border=\"1\" class=\"dataframe\">\n",
       "  <thead>\n",
       "    <tr style=\"text-align: right;\">\n",
       "      <th></th>\n",
       "      <th>rating</th>\n",
       "      <th>reviewerName</th>\n",
       "      <th>reviewText</th>\n",
       "      <th>categories</th>\n",
       "      <th>gPlusPlaceId</th>\n",
       "      <th>unixReviewTime</th>\n",
       "      <th>reviewTime</th>\n",
       "      <th>gPlusUserId</th>\n",
       "    </tr>\n",
       "  </thead>\n",
       "  <tbody>\n",
       "  </tbody>\n",
       "</table>\n",
       "</div>"
      ],
      "text/plain": [
       "Empty DataFrame\n",
       "Columns: [rating, reviewerName, reviewText, categories, gPlusPlaceId, unixReviewTime, reviewTime, gPlusUserId]\n",
       "Index: []"
      ]
     },
     "execution_count": 35,
     "metadata": {},
     "output_type": "execute_result"
    }
   ],
   "source": [
    "#  Eiffer Tower query 1662 reviews\n",
    "# df.loc[df['gPlusPlaceId']==1.181970361008482e+20, :].iloc[41:50] #.loc[276036]['reviewText']\n",
    "# Kaaba query 982 reviews\n",
    "df.loc[df['gPlusPlaceId']==104991888599999987712.0, :].iloc[41:50] #.loc[276036]['reviewText']"
   ]
  },
  {
   "cell_type": "code",
   "execution_count": 34,
   "id": "29118ef6",
   "metadata": {},
   "outputs": [
    {
     "data": {
      "text/plain": [
       "rating                                                            3\n",
       "reviewerName                                            Daniel Sese\n",
       "reviewText        Es un lugar obligatorio para todos los visitan...\n",
       "categories                                  [Stadium, Soccer Field]\n",
       "gPlusPlaceId                                107836749011706691584.0\n",
       "unixReviewTime                                         1378648351.0\n",
       "reviewTime                                              Sep 8, 2013\n",
       "gPlusUserId                                 100957782316342951936.0\n",
       "Name: 602954, dtype: object"
      ]
     },
     "execution_count": 34,
     "metadata": {},
     "output_type": "execute_result"
    }
   ],
   "source": [
    "df.loc[602954]"
   ]
  },
  {
   "cell_type": "code",
   "execution_count": 90,
   "id": "d71aea75",
   "metadata": {},
   "outputs": [
    {
     "ename": "AttributeError",
     "evalue": "'numpy.ndarray' object has no attribute 'hist'",
     "output_type": "error",
     "traceback": [
      "\u001b[0;31m---------------------------------------------------------------------------\u001b[0m",
      "\u001b[0;31mAttributeError\u001b[0m                            Traceback (most recent call last)",
      "\u001b[0;32m<ipython-input-90-68e257b5a511>\u001b[0m in \u001b[0;36m<module>\u001b[0;34m\u001b[0m\n\u001b[1;32m      1\u001b[0m \u001b[0mz\u001b[0m \u001b[0;34m=\u001b[0m \u001b[0musers_revs_count\u001b[0m\u001b[0;34m.\u001b[0m\u001b[0mto_frame\u001b[0m\u001b[0;34m(\u001b[0m\u001b[0;34m)\u001b[0m\u001b[0;34m\u001b[0m\u001b[0;34m\u001b[0m\u001b[0m\n\u001b[1;32m      2\u001b[0m \u001b[0mtype\u001b[0m\u001b[0;34m(\u001b[0m\u001b[0mz\u001b[0m\u001b[0;34m)\u001b[0m\u001b[0;34m\u001b[0m\u001b[0;34m\u001b[0m\u001b[0m\n\u001b[0;32m----> 3\u001b[0;31m \u001b[0mz\u001b[0m\u001b[0;34m[\u001b[0m\u001b[0;34m'gPlusUserId'\u001b[0m\u001b[0;34m]\u001b[0m\u001b[0;34m.\u001b[0m\u001b[0mvalues\u001b[0m\u001b[0;34m.\u001b[0m\u001b[0mhist\u001b[0m\u001b[0;34m(\u001b[0m\u001b[0;34m)\u001b[0m\u001b[0;34m\u001b[0m\u001b[0;34m\u001b[0m\u001b[0m\n\u001b[0m",
      "\u001b[0;31mAttributeError\u001b[0m: 'numpy.ndarray' object has no attribute 'hist'"
     ]
    }
   ],
   "source": [
    "z = users_revs_count.to_frame()\n",
    "type(z)\n",
    "z['gPlusUserId'].values.hist()"
   ]
  },
  {
   "cell_type": "code",
   "execution_count": 97,
   "id": "6771338b",
   "metadata": {},
   "outputs": [
    {
     "data": {
      "text/plain": [
       "array([3221, 2635, 2562, ...,    1,    1,    1])"
      ]
     },
     "execution_count": 97,
     "metadata": {},
     "output_type": "execute_result"
    }
   ],
   "source": [
    "z['gPlusUserId'].values"
   ]
  },
  {
   "cell_type": "code",
   "execution_count": 108,
   "id": "187195ae",
   "metadata": {},
   "outputs": [
    {
     "data": {
      "text/plain": [
       "gPlusUserId    3221\n",
       "dtype: int64"
      ]
     },
     "execution_count": 108,
     "metadata": {},
     "output_type": "execute_result"
    }
   ],
   "source": [
    "z.max()  # max() gPlusUserId    3221 gPlusUserId    1"
   ]
  },
  {
   "cell_type": "code",
   "execution_count": 110,
   "id": "41c3ce46",
   "metadata": {},
   "outputs": [
    {
     "ename": "KeyError",
     "evalue": "0",
     "output_type": "error",
     "traceback": [
      "\u001b[0;31m---------------------------------------------------------------------------\u001b[0m",
      "\u001b[0;31mKeyError\u001b[0m                                  Traceback (most recent call last)",
      "\u001b[0;32m~/opt/anaconda3/lib/python3.8/site-packages/pandas/core/indexes/base.py\u001b[0m in \u001b[0;36mget_loc\u001b[0;34m(self, key, method, tolerance)\u001b[0m\n\u001b[1;32m   3360\u001b[0m             \u001b[0;32mtry\u001b[0m\u001b[0;34m:\u001b[0m\u001b[0;34m\u001b[0m\u001b[0;34m\u001b[0m\u001b[0m\n\u001b[0;32m-> 3361\u001b[0;31m                 \u001b[0;32mreturn\u001b[0m \u001b[0mself\u001b[0m\u001b[0;34m.\u001b[0m\u001b[0m_engine\u001b[0m\u001b[0;34m.\u001b[0m\u001b[0mget_loc\u001b[0m\u001b[0;34m(\u001b[0m\u001b[0mcasted_key\u001b[0m\u001b[0;34m)\u001b[0m\u001b[0;34m\u001b[0m\u001b[0;34m\u001b[0m\u001b[0m\n\u001b[0m\u001b[1;32m   3362\u001b[0m             \u001b[0;32mexcept\u001b[0m \u001b[0mKeyError\u001b[0m \u001b[0;32mas\u001b[0m \u001b[0merr\u001b[0m\u001b[0;34m:\u001b[0m\u001b[0;34m\u001b[0m\u001b[0;34m\u001b[0m\u001b[0m\n",
      "\u001b[0;32m~/opt/anaconda3/lib/python3.8/site-packages/pandas/_libs/index.pyx\u001b[0m in \u001b[0;36mpandas._libs.index.IndexEngine.get_loc\u001b[0;34m()\u001b[0m\n",
      "\u001b[0;32m~/opt/anaconda3/lib/python3.8/site-packages/pandas/_libs/index.pyx\u001b[0m in \u001b[0;36mpandas._libs.index.IndexEngine.get_loc\u001b[0;34m()\u001b[0m\n",
      "\u001b[0;32mpandas/_libs/hashtable_class_helper.pxi\u001b[0m in \u001b[0;36mpandas._libs.hashtable.PyObjectHashTable.get_item\u001b[0;34m()\u001b[0m\n",
      "\u001b[0;32mpandas/_libs/hashtable_class_helper.pxi\u001b[0m in \u001b[0;36mpandas._libs.hashtable.PyObjectHashTable.get_item\u001b[0;34m()\u001b[0m\n",
      "\u001b[0;31mKeyError\u001b[0m: 0",
      "\nThe above exception was the direct cause of the following exception:\n",
      "\u001b[0;31mKeyError\u001b[0m                                  Traceback (most recent call last)",
      "\u001b[0;32m<ipython-input-110-6adc0b3faf39>\u001b[0m in \u001b[0;36m<module>\u001b[0;34m\u001b[0m\n\u001b[0;32m----> 1\u001b[0;31m \u001b[0mz\u001b[0m\u001b[0;34m[\u001b[0m\u001b[0;36m0\u001b[0m\u001b[0;34m]\u001b[0m\u001b[0;34m\u001b[0m\u001b[0;34m\u001b[0m\u001b[0m\n\u001b[0m",
      "\u001b[0;32m~/opt/anaconda3/lib/python3.8/site-packages/pandas/core/frame.py\u001b[0m in \u001b[0;36m__getitem__\u001b[0;34m(self, key)\u001b[0m\n\u001b[1;32m   3453\u001b[0m             \u001b[0;32mif\u001b[0m \u001b[0mself\u001b[0m\u001b[0;34m.\u001b[0m\u001b[0mcolumns\u001b[0m\u001b[0;34m.\u001b[0m\u001b[0mnlevels\u001b[0m \u001b[0;34m>\u001b[0m \u001b[0;36m1\u001b[0m\u001b[0;34m:\u001b[0m\u001b[0;34m\u001b[0m\u001b[0;34m\u001b[0m\u001b[0m\n\u001b[1;32m   3454\u001b[0m                 \u001b[0;32mreturn\u001b[0m \u001b[0mself\u001b[0m\u001b[0;34m.\u001b[0m\u001b[0m_getitem_multilevel\u001b[0m\u001b[0;34m(\u001b[0m\u001b[0mkey\u001b[0m\u001b[0;34m)\u001b[0m\u001b[0;34m\u001b[0m\u001b[0;34m\u001b[0m\u001b[0m\n\u001b[0;32m-> 3455\u001b[0;31m             \u001b[0mindexer\u001b[0m \u001b[0;34m=\u001b[0m \u001b[0mself\u001b[0m\u001b[0;34m.\u001b[0m\u001b[0mcolumns\u001b[0m\u001b[0;34m.\u001b[0m\u001b[0mget_loc\u001b[0m\u001b[0;34m(\u001b[0m\u001b[0mkey\u001b[0m\u001b[0;34m)\u001b[0m\u001b[0;34m\u001b[0m\u001b[0;34m\u001b[0m\u001b[0m\n\u001b[0m\u001b[1;32m   3456\u001b[0m             \u001b[0;32mif\u001b[0m \u001b[0mis_integer\u001b[0m\u001b[0;34m(\u001b[0m\u001b[0mindexer\u001b[0m\u001b[0;34m)\u001b[0m\u001b[0;34m:\u001b[0m\u001b[0;34m\u001b[0m\u001b[0;34m\u001b[0m\u001b[0m\n\u001b[1;32m   3457\u001b[0m                 \u001b[0mindexer\u001b[0m \u001b[0;34m=\u001b[0m \u001b[0;34m[\u001b[0m\u001b[0mindexer\u001b[0m\u001b[0;34m]\u001b[0m\u001b[0;34m\u001b[0m\u001b[0;34m\u001b[0m\u001b[0m\n",
      "\u001b[0;32m~/opt/anaconda3/lib/python3.8/site-packages/pandas/core/indexes/base.py\u001b[0m in \u001b[0;36mget_loc\u001b[0;34m(self, key, method, tolerance)\u001b[0m\n\u001b[1;32m   3361\u001b[0m                 \u001b[0;32mreturn\u001b[0m \u001b[0mself\u001b[0m\u001b[0;34m.\u001b[0m\u001b[0m_engine\u001b[0m\u001b[0;34m.\u001b[0m\u001b[0mget_loc\u001b[0m\u001b[0;34m(\u001b[0m\u001b[0mcasted_key\u001b[0m\u001b[0;34m)\u001b[0m\u001b[0;34m\u001b[0m\u001b[0;34m\u001b[0m\u001b[0m\n\u001b[1;32m   3362\u001b[0m             \u001b[0;32mexcept\u001b[0m \u001b[0mKeyError\u001b[0m \u001b[0;32mas\u001b[0m \u001b[0merr\u001b[0m\u001b[0;34m:\u001b[0m\u001b[0;34m\u001b[0m\u001b[0;34m\u001b[0m\u001b[0m\n\u001b[0;32m-> 3363\u001b[0;31m                 \u001b[0;32mraise\u001b[0m \u001b[0mKeyError\u001b[0m\u001b[0;34m(\u001b[0m\u001b[0mkey\u001b[0m\u001b[0;34m)\u001b[0m \u001b[0;32mfrom\u001b[0m \u001b[0merr\u001b[0m\u001b[0;34m\u001b[0m\u001b[0;34m\u001b[0m\u001b[0m\n\u001b[0m\u001b[1;32m   3364\u001b[0m \u001b[0;34m\u001b[0m\u001b[0m\n\u001b[1;32m   3365\u001b[0m         \u001b[0;32mif\u001b[0m \u001b[0mis_scalar\u001b[0m\u001b[0;34m(\u001b[0m\u001b[0mkey\u001b[0m\u001b[0;34m)\u001b[0m \u001b[0;32mand\u001b[0m \u001b[0misna\u001b[0m\u001b[0;34m(\u001b[0m\u001b[0mkey\u001b[0m\u001b[0;34m)\u001b[0m \u001b[0;32mand\u001b[0m \u001b[0;32mnot\u001b[0m \u001b[0mself\u001b[0m\u001b[0;34m.\u001b[0m\u001b[0mhasnans\u001b[0m\u001b[0;34m:\u001b[0m\u001b[0;34m\u001b[0m\u001b[0;34m\u001b[0m\u001b[0m\n",
      "\u001b[0;31mKeyError\u001b[0m: 0"
     ]
    }
   ],
   "source": [
    "z[0]"
   ]
  },
  {
   "cell_type": "code",
   "execution_count": 102,
   "id": "58b30859",
   "metadata": {},
   "outputs": [
    {
     "data": {
      "text/plain": [
       "1.006890e+20    3221\n",
       "1.044172e+20    2635\n",
       "1.066545e+20    2562\n",
       "1.034360e+20    1625\n",
       "1.119374e+20    1604\n",
       "                ... \n",
       "1.039687e+20       2\n",
       "1.004612e+20       2\n",
       "1.039691e+20       2\n",
       "1.044449e+20       2\n",
       "1.043191e+20       2\n",
       "Name: gPlusUserId, Length: 1531281, dtype: int64"
      ]
     },
     "execution_count": 102,
     "metadata": {},
     "output_type": "execute_result"
    }
   ],
   "source": [
    "z['gPlusUserId'][z['gPlusUserId']>1]"
   ]
  },
  {
   "cell_type": "code",
   "execution_count": 94,
   "id": "f39a39ee",
   "metadata": {},
   "outputs": [],
   "source": [
    "import matplotlib.pyplot as plt"
   ]
  },
  {
   "cell_type": "code",
   "execution_count": 107,
   "id": "c64a5f15",
   "metadata": {},
   "outputs": [
    {
     "data": {
      "text/plain": [
       "(array([3523286.,  712457.,  282212.,  146074.,       0.,   92605.,\n",
       "          59803.,   41601.,   31067.,   23886.]),\n",
       " array([1. , 1.8, 2.6, 3.4, 4.2, 5. , 5.8, 6.6, 7.4, 8.2, 9. ]),\n",
       " <BarContainer object of 10 artists>)"
      ]
     },
     "execution_count": 107,
     "metadata": {},
     "output_type": "execute_result"
    },
    {
     "data": {
      "image/png": "[encoded data removed]",
      "text/plain": [
       "<Figure size 432x288 with 1 Axes>"
      ]
     },
     "metadata": {
      "needs_background": "light"
     },
     "output_type": "display_data"
    }
   ],
   "source": [
    "plt.hist(z['gPlusUserId'][z['gPlusUserId']<10], bins=10)"
   ]
  },
  {
   "cell_type": "code",
   "execution_count": 63,
   "id": "1726c275",
   "metadata": {},
   "outputs": [
    {
     "data": {
      "text/plain": [
       "pandas.core.series.Series"
      ]
     },
     "execution_count": 63,
     "metadata": {},
     "output_type": "execute_result"
    }
   ],
   "source": [
    "type(places_revs_count)"
   ]
  },
  {
   "cell_type": "code",
   "execution_count": 64,
   "id": "be8c19ee",
   "metadata": {},
   "outputs": [],
   "source": [
    "places_revs_count.to_json('data/places_revs_count.json')"
   ]
  },
  {
   "cell_type": "code",
   "execution_count": 23,
   "id": "c927d822",
   "metadata": {},
   "outputs": [
    {
     "data": {
      "text/plain": [
       "pandas.core.series.Series"
      ]
     },
     "execution_count": 23,
     "metadata": {},
     "output_type": "execute_result"
    }
   ],
   "source": [
    "type(tmp)  # pandas.core.series.Series"
   ]
  },
  {
   "cell_type": "code",
   "execution_count": 27,
   "id": "21b012d2",
   "metadata": {},
   "outputs": [
    {
     "data": {
      "text/plain": [
       "<bound method NDFrame.describe of 0           1.081033e+20\n",
       "1           1.021941e+20\n",
       "2           1.014099e+20\n",
       "3           1.014772e+20\n",
       "4           1.069942e+20\n",
       "                ...     \n",
       "11453840    1.103024e+20\n",
       "11453841    1.108115e+20\n",
       "11453842    1.148005e+20\n",
       "11453843    1.069190e+20\n",
       "11453844    1.139461e+20\n",
       "Name: gPlusPlaceId, Length: 11453845, dtype: float64>"
      ]
     },
     "execution_count": 27,
     "metadata": {},
     "output_type": "execute_result"
    }
   ],
   "source": [
    "tmp.describe  # describe() => stats"
   ]
  },
  {
   "cell_type": "code",
   "execution_count": 33,
   "id": "b4251fe8",
   "metadata": {},
   "outputs": [
    {
     "data": {
      "text/plain": [
       "0           1.081033e+20\n",
       "1045535     1.081033e+20\n",
       "4736034     1.081033e+20\n",
       "4908948     1.046995e+20\n",
       "5802541     1.046995e+20\n",
       "8645185     1.046995e+20\n",
       "10759216    1.046995e+20\n",
       "Name: gPlusPlaceId, dtype: float64"
      ]
     },
     "execution_count": 33,
     "metadata": {},
     "output_type": "execute_result"
    }
   ],
   "source": [
    "# tmp[tmp==1.081033143800042e+20]\n",
    "tmp[tmp.isin([1.081033143800042e+20, 104699454385822121984.0])]"
   ]
  },
  {
   "cell_type": "code",
   "execution_count": 36,
   "id": "f05b87d8",
   "metadata": {},
   "outputs": [],
   "source": [
    "gPlusPlaceId_filter=pd.read_json('data/gPlusPlaceId_filter.json')"
   ]
  },
  {
   "cell_type": "code",
   "execution_count": 43,
   "id": "060457e9",
   "metadata": {},
   "outputs": [
    {
     "data": {
      "text/html": [
       "<div>\n",
       "<style scoped>\n",
       "    .dataframe tbody tr th:only-of-type {\n",
       "        vertical-align: middle;\n",
       "    }\n",
       "\n",
       "    .dataframe tbody tr th {\n",
       "        vertical-align: top;\n",
       "    }\n",
       "\n",
       "    .dataframe thead th {\n",
       "        text-align: right;\n",
       "    }\n",
       "</style>\n",
       "<table border=\"1\" class=\"dataframe\">\n",
       "  <thead>\n",
       "    <tr style=\"text-align: right;\">\n",
       "      <th></th>\n",
       "      <th>gPlusPlaceId</th>\n",
       "    </tr>\n",
       "  </thead>\n",
       "  <tbody>\n",
       "    <tr>\n",
       "      <th>100001</th>\n",
       "      <td>1.083788e+20</td>\n",
       "    </tr>\n",
       "    <tr>\n",
       "      <th>1000173</th>\n",
       "      <td>1.006965e+20</td>\n",
       "    </tr>\n",
       "    <tr>\n",
       "      <th>100029</th>\n",
       "      <td>1.154916e+20</td>\n",
       "    </tr>\n",
       "    <tr>\n",
       "      <th>1000363</th>\n",
       "      <td>1.142189e+20</td>\n",
       "    </tr>\n",
       "    <tr>\n",
       "      <th>1000607</th>\n",
       "      <td>1.096848e+20</td>\n",
       "    </tr>\n",
       "    <tr>\n",
       "      <th>...</th>\n",
       "      <td>...</td>\n",
       "    </tr>\n",
       "    <tr>\n",
       "      <th>999610</th>\n",
       "      <td>1.066999e+20</td>\n",
       "    </tr>\n",
       "    <tr>\n",
       "      <th>999655</th>\n",
       "      <td>1.030973e+20</td>\n",
       "    </tr>\n",
       "    <tr>\n",
       "      <th>99971</th>\n",
       "      <td>1.015072e+20</td>\n",
       "    </tr>\n",
       "    <tr>\n",
       "      <th>999804</th>\n",
       "      <td>1.113550e+20</td>\n",
       "    </tr>\n",
       "    <tr>\n",
       "      <th>999997</th>\n",
       "      <td>1.168962e+20</td>\n",
       "    </tr>\n",
       "  </tbody>\n",
       "</table>\n",
       "<p>23958 rows × 1 columns</p>\n",
       "</div>"
      ],
      "text/plain": [
       "         gPlusPlaceId\n",
       "100001   1.083788e+20\n",
       "1000173  1.006965e+20\n",
       "100029   1.154916e+20\n",
       "1000363  1.142189e+20\n",
       "1000607  1.096848e+20\n",
       "...               ...\n",
       "999610   1.066999e+20\n",
       "999655   1.030973e+20\n",
       "99971    1.015072e+20\n",
       "999804   1.113550e+20\n",
       "999997   1.168962e+20\n",
       "\n",
       "[23958 rows x 1 columns]"
      ]
     },
     "execution_count": 43,
     "metadata": {},
     "output_type": "execute_result"
    }
   ],
   "source": [
    "gPlusPlaceId_filter   # 23958"
   ]
  },
  {
   "cell_type": "code",
   "execution_count": 44,
   "id": "c1cd21e0",
   "metadata": {},
   "outputs": [
    {
     "data": {
      "text/plain": [
       "list"
      ]
     },
     "execution_count": 44,
     "metadata": {},
     "output_type": "execute_result"
    }
   ],
   "source": [
    "gps_filter_list = gPlusPlaceId_filter['gPlusPlaceId'].to_list()\n",
    "type(gps_filter_list)"
   ]
  },
  {
   "cell_type": "code",
   "execution_count": 48,
   "id": "820f62b0",
   "metadata": {},
   "outputs": [
    {
     "data": {
      "text/plain": [
       "[1.083788035e+20,\n",
       " 1.0069647129999999e+20,\n",
       " 1.154916021e+20,\n",
       " 1.1421892040000001e+20,\n",
       " 1.0968482829999999e+20,\n",
       " 1.0080166800000002e+20,\n",
       " 1.1671256190000002e+20,\n",
       " 1.092820277e+20,\n",
       " 1.114975692e+20,\n",
       " 1.01969087e+20,\n",
       " 1.084170551e+20,\n",
       " 1.043224385e+20,\n",
       " 1.1130349049999999e+20,\n",
       " 1.09901333e+20,\n",
       " 1.118638374e+20,\n",
       " 1.033911069e+20,\n",
       " 1.165147816e+20,\n",
       " 1.0136495080000001e+20,\n",
       " 1.064232142e+20,\n",
       " 1.090808858e+20,\n",
       " 1.099019353e+20,\n",
       " 1.056825949e+20,\n",
       " 1.1097895929999999e+20,\n",
       " 1.127947951e+20,\n",
       " 1.0495126370000001e+20,\n",
       " 1.01623424e+20,\n",
       " 1.143647445e+20,\n",
       " 1.0119331090000001e+20,\n",
       " 1.0605728050000001e+20,\n",
       " 1.182594192e+20,\n",
       " 1.003803776e+20,\n",
       " 1.019400066e+20,\n",
       " 1.045993335e+20,\n",
       " 1.0108113480000001e+20,\n",
       " 1.170268123e+20,\n",
       " 1.096755957e+20,\n",
       " 1.184426765e+20,\n",
       " 1.146706096e+20,\n",
       " 1.108902481e+20,\n",
       " 1.146721742e+20,\n",
       " 1.1221755899999999e+20,\n",
       " 1.01169032e+20,\n",
       " 1.1403606280000001e+20,\n",
       " 1.1600515319999999e+20,\n",
       " 1.03061343e+20,\n",
       " 1.113936646e+20,\n",
       " 1.0116953529999999e+20,\n",
       " 1.043681098e+20,\n",
       " 1.146635527e+20,\n",
       " 1.009735074e+20,\n",
       " 1.1238152919999999e+20,\n",
       " 1.1685210720000002e+20,\n",
       " 1.1400194720000002e+20,\n",
       " 1.031272743e+20,\n",
       " 1.0891887099999999e+20,\n",
       " 1.11522805e+20,\n",
       " 1.05430519e+20,\n",
       " 1.151143782e+20,\n",
       " 1.150967906e+20,\n",
       " 1.1061079309999999e+20,\n",
       " 1.1649137430000001e+20,\n",
       " 1.158357717e+20,\n",
       " 1.1818776680000001e+20,\n",
       " 1.033654071e+20,\n",
       " 1.070146165e+20,\n",
       " 1.031094773e+20,\n",
       " 1.061895241e+20,\n",
       " 1.094770487e+20,\n",
       " 1.107155991e+20,\n",
       " 1.172647666e+20,\n",
       " 1.0596261570000001e+20,\n",
       " 1.077313683e+20,\n",
       " 1.026871471e+20,\n",
       " 1.082777331e+20,\n",
       " 1.0079985270000001e+20,\n",
       " 1.100857129e+20,\n",
       " 1.170836897e+20,\n",
       " 1.1794732429999999e+20,\n",
       " 1.0029438760000001e+20,\n",
       " 1.168150529e+20,\n",
       " 1.043801335e+20,\n",
       " 1.18253889e+20,\n",
       " 1.087080043e+20,\n",
       " 1.1577912100000001e+20,\n",
       " 1.096966642e+20,\n",
       " 1.018240445e+20,\n",
       " 1.1062222850000001e+20,\n",
       " 1.0253813220000001e+20,\n",
       " 1.0636536190000002e+20,\n",
       " 1.027227933e+20,\n",
       " 1.103055906e+20,\n",
       " 1.1761467080000001e+20,\n",
       " 1.15711411e+20,\n",
       " 1.0669279739999999e+20,\n",
       " 1.020884982e+20,\n",
       " 1.081327389e+20,\n",
       " 1.0876654999999999e+20,\n",
       " 1.1439848850000001e+20,\n",
       " 1.182659635e+20,\n",
       " 1.004805433e+20,\n",
       " 1.078880121e+20,\n",
       " 1.110399063e+20,\n",
       " 1.078880668e+20,\n",
       " 1.167480961e+20,\n",
       " 1.041565527e+20,\n",
       " 1.093673705e+20,\n",
       " 1.044654352e+20,\n",
       " 1.009873597e+20,\n",
       " 1.0828322939999999e+20,\n",
       " 1.0911644680000001e+20,\n",
       " 1.011159678e+20,\n",
       " 1.087291989e+20,\n",
       " 1.0301978009999999e+20,\n",
       " 1.162675463e+20,\n",
       " 1.0761074399999998e+20,\n",
       " 1.123894364e+20,\n",
       " 1.1442135179999999e+20,\n",
       " 1.104170591e+20,\n",
       " 1.137867934e+20,\n",
       " 1.043873981e+20,\n",
       " 1.119224823e+20,\n",
       " 1.1268052609999998e+20,\n",
       " 1.158400083e+20,\n",
       " 1.023535173e+20,\n",
       " 1.092472733e+20,\n",
       " 1.169462431e+20,\n",
       " 1.065158895e+20,\n",
       " 1.0141655890000001e+20,\n",
       " 1.0846309380000001e+20,\n",
       " 1.0383562529999998e+20,\n",
       " 1.08655857e+20,\n",
       " 1.163397731e+20,\n",
       " 1.0024885910000001e+20,\n",
       " 1.0322572649999999e+20,\n",
       " 1.125326775e+20,\n",
       " 1.096072408e+20,\n",
       " 1.0529622729999999e+20,\n",
       " 1.10551293e+20,\n",
       " 1.032529984e+20,\n",
       " 1.055616074e+20,\n",
       " 1.117809838e+20,\n",
       " 1.114186191e+20,\n",
       " 1.082724584e+20,\n",
       " 1.037810515e+20,\n",
       " 1.041995825e+20,\n",
       " 1.075458849e+20,\n",
       " 1.0247786169999999e+20,\n",
       " 1.040582485e+20,\n",
       " 1.046667879e+20,\n",
       " 1.1660743479999999e+20,\n",
       " 1.1530479289999999e+20,\n",
       " 1.029654907e+20,\n",
       " 1.028076731e+20,\n",
       " 1.075110771e+20,\n",
       " 1.117157702e+20,\n",
       " 1.1349782749999999e+20,\n",
       " 1.125612142e+20,\n",
       " 1.022981124e+20,\n",
       " 1.024889243e+20,\n",
       " 1.082915092e+20,\n",
       " 1.007703034e+20,\n",
       " 1.181678493e+20,\n",
       " 1.116924977e+20,\n",
       " 1.118451699e+20,\n",
       " 1.1378418429999999e+20,\n",
       " 1.0071847670000001e+20,\n",
       " 1.1101822779999999e+20,\n",
       " 1.1313668539999999e+20,\n",
       " 1.047903547e+20,\n",
       " 1.039393344e+20,\n",
       " 1.057061176e+20,\n",
       " 1.080683678e+20,\n",
       " 1.033932859e+20,\n",
       " 1.076071266e+20,\n",
       " 1.076488634e+20,\n",
       " 1.154528362e+20,\n",
       " 1.041686246e+20,\n",
       " 1.046607531e+20,\n",
       " 1.144250809e+20,\n",
       " 1.0440251140000001e+20,\n",
       " 1.0050467700000001e+20,\n",
       " 1.049491789e+20,\n",
       " 1.031150058e+20,\n",
       " 1.1474502260000001e+20,\n",
       " 1.053351636e+20,\n",
       " 1.178255198e+20,\n",
       " 1.0165458e+20,\n",
       " 1.039354702e+20,\n",
       " 1.151594083e+20,\n",
       " 1.084211212e+20,\n",
       " 1.115270489e+20,\n",
       " 1.155123371e+20,\n",
       " 1.109047173e+20,\n",
       " 1.034973697e+20,\n",
       " 1.093794666e+20,\n",
       " 1.1747799990000001e+20,\n",
       " 1.018775706e+20,\n",
       " 1.0771967229999999e+20,\n",
       " 1.0952976699999999e+20,\n",
       " 1.17095955e+20,\n",
       " 1.161607482e+20,\n",
       " 1.1763088520000001e+20,\n",
       " 1.0940888580000001e+20,\n",
       " 1.0473097419999999e+20,\n",
       " 1.1208706070000001e+20,\n",
       " 1.1133186020000001e+20,\n",
       " 1.043000771e+20,\n",
       " 1.152058542e+20,\n",
       " 1.051887274e+20,\n",
       " 1.1047574390000001e+20,\n",
       " 1.17416495e+20,\n",
       " 1.165236854e+20,\n",
       " 1.172062346e+20,\n",
       " 1.076344699e+20,\n",
       " 1.171299543e+20,\n",
       " 1.164424964e+20,\n",
       " 1.081446589e+20,\n",
       " 1.075019711e+20,\n",
       " 1.095759779e+20,\n",
       " 1.045240489e+20,\n",
       " 1.112604631e+20,\n",
       " 1.122517814e+20,\n",
       " 1.0330026160000002e+20,\n",
       " 1.007718964e+20,\n",
       " 1.07006393e+20,\n",
       " 1.124847745e+20,\n",
       " 1.112711277e+20,\n",
       " 1.1466557049999999e+20,\n",
       " 1.074562004e+20,\n",
       " 1.123960034e+20,\n",
       " 1.0284283430000001e+20,\n",
       " 1.034504694e+20,\n",
       " 1.126131861e+20,\n",
       " 1.175793523e+20,\n",
       " 1.074907463e+20,\n",
       " 1.174338593e+20,\n",
       " 1.1150014079999998e+20,\n",
       " 1.026908551e+20,\n",
       " 1.1052402750000002e+20,\n",
       " 1.1098168230000001e+20,\n",
       " 1.0366110630000001e+20,\n",
       " 1.13012967e+20,\n",
       " 1.060276537e+20,\n",
       " 1.17081112e+20,\n",
       " 1.180234902e+20,\n",
       " 1.038952534e+20,\n",
       " 1.151564184e+20,\n",
       " 1.102178252e+20,\n",
       " 1.166727423e+20,\n",
       " 1.1241627270000001e+20,\n",
       " 1.068019648e+20,\n",
       " 1.095598886e+20,\n",
       " 1.047148905e+20,\n",
       " 1.059093856e+20,\n",
       " 1.136728755e+20,\n",
       " 1.04252945e+20,\n",
       " 1.165423219e+20,\n",
       " 1.000937794e+20,\n",
       " 1.025958849e+20,\n",
       " 1.0848423920000002e+20,\n",
       " 1.130768972e+20,\n",
       " 1.12790086e+20,\n",
       " 1.000930369e+20,\n",
       " 1.1429018e+20,\n",
       " 1.111056879e+20,\n",
       " 1.085232385e+20,\n",
       " 1.0968410740000001e+20,\n",
       " 1.034567585e+20,\n",
       " 1.112015284e+20,\n",
       " 1.154911363e+20,\n",
       " 1.1458520029999999e+20,\n",
       " 1.060922028e+20,\n",
       " 1.1475540360000001e+20,\n",
       " 1.061298652e+20,\n",
       " 1.173579704e+20,\n",
       " 1.00379361e+20,\n",
       " 1.0310997209999999e+20,\n",
       " 1.165968594e+20,\n",
       " 1.106314915e+20,\n",
       " 1.009361769e+20,\n",
       " 1.014559409e+20,\n",
       " 1.1529745160000001e+20,\n",
       " 1.162460467e+20,\n",
       " 1.165675355e+20,\n",
       " 1.0153957119999998e+20,\n",
       " 1.0883032479999998e+20,\n",
       " 1.122965158e+20,\n",
       " 1.165987595e+20,\n",
       " 1.0731882939999999e+20,\n",
       " 1.172187095e+20,\n",
       " 1.058191302e+20,\n",
       " 1.039590867e+20,\n",
       " 1.1283025559999999e+20,\n",
       " 1.109467328e+20,\n",
       " 1.1310419430000001e+20,\n",
       " 1.100292872e+20,\n",
       " 1.182418247e+20,\n",
       " 1.075824234e+20,\n",
       " 1.060360379e+20,\n",
       " 1.149063456e+20,\n",
       " 1.035064323e+20,\n",
       " 1.0762636009999999e+20,\n",
       " 1.0428486150000001e+20,\n",
       " 1.132085196e+20,\n",
       " 1.080506738e+20,\n",
       " 1.1458810930000001e+20,\n",
       " 1.0001137289999999e+20,\n",
       " 1.004401305e+20,\n",
       " 1.1176451300000001e+20,\n",
       " 1.168821914e+20,\n",
       " 1.0185664459999999e+20,\n",
       " 1.1573141739999999e+20,\n",
       " 1.052393633e+20,\n",
       " 1.0741202679999999e+20,\n",
       " 1.037702732e+20,\n",
       " 1.106550573e+20,\n",
       " 1.1602847460000001e+20,\n",
       " 1.022433666e+20,\n",
       " 1.1420575159999999e+20,\n",
       " 1.174479882e+20,\n",
       " 1.1678278660000001e+20,\n",
       " 1.1698513990000001e+20,\n",
       " 1.1708527369999999e+20,\n",
       " 1.075661883e+20,\n",
       " 1.1336948520000001e+20,\n",
       " 1.0258028239999998e+20,\n",
       " 1.0151730089999999e+20,\n",
       " 1.1338611380000001e+20,\n",
       " 1.032539434e+20,\n",
       " 1.151985625e+20,\n",
       " 1.0174711780000001e+20,\n",
       " 1.1432414900000001e+20,\n",
       " 1.03718751e+20,\n",
       " 1.0409055439999998e+20,\n",
       " 1.120483197e+20,\n",
       " 1.043574907e+20,\n",
       " 1.113768601e+20,\n",
       " 1.112536711e+20,\n",
       " 1.156808938e+20,\n",
       " 1.0742015739999999e+20,\n",
       " 1.1380350260000001e+20,\n",
       " 1.1459422580000001e+20,\n",
       " 1.016853568e+20,\n",
       " 1.1160367929999999e+20,\n",
       " 1.1356748009999999e+20,\n",
       " 1.164188512e+20,\n",
       " 1.1711943240000001e+20,\n",
       " 1.1782071300000001e+20,\n",
       " 1.0474319430000001e+20,\n",
       " 1.080893707e+20,\n",
       " 1.151864534e+20,\n",
       " 1.1149965049999999e+20,\n",
       " 1.095812891e+20,\n",
       " 1.155208244e+20,\n",
       " 1.1119167670000001e+20,\n",
       " 1.017939827e+20,\n",
       " 1.1401222120000001e+20,\n",
       " 1.0829200279999999e+20,\n",
       " 1.04488413e+20,\n",
       " 1.1507823830000001e+20,\n",
       " 1.014636603e+20,\n",
       " 1.175000136e+20,\n",
       " 1.085815248e+20,\n",
       " 1.0222343110000001e+20,\n",
       " 1.046742316e+20,\n",
       " 1.173589712e+20,\n",
       " 1.127803879e+20,\n",
       " 1.014834338e+20,\n",
       " 1.073496301e+20,\n",
       " 1.066383179e+20,\n",
       " 1.1786110409999999e+20,\n",
       " 1.13896411e+20,\n",
       " 1.182812384e+20,\n",
       " 1.038659901e+20,\n",
       " 1.1737616840000001e+20,\n",
       " 1.0729262870000001e+20,\n",
       " 1.003391737e+20,\n",
       " 1.040720237e+20,\n",
       " 1.183037972e+20,\n",
       " 1.16405486e+20,\n",
       " 1.1571706900000001e+20,\n",
       " 1.122684422e+20,\n",
       " 1.0747032459999999e+20,\n",
       " 1.1446558630000001e+20,\n",
       " 1.1576845719999999e+20,\n",
       " 1.0976840599999999e+20,\n",
       " 1.0273451200000002e+20,\n",
       " 1.145974884e+20,\n",
       " 1.1097337659999999e+20,\n",
       " 1.050880941e+20,\n",
       " 1.132070784e+20,\n",
       " 1.04622858e+20,\n",
       " 1.177022931e+20,\n",
       " 1.179614451e+20,\n",
       " 1.142547564e+20,\n",
       " 1.0112778790000001e+20,\n",
       " 1.173015338e+20,\n",
       " 1.049365985e+20,\n",
       " 1.007483479e+20,\n",
       " 1.002086855e+20,\n",
       " 1.081147875e+20,\n",
       " 1.107009138e+20,\n",
       " 1.086545571e+20,\n",
       " 1.133466962e+20,\n",
       " 1.005834594e+20,\n",
       " 1.182635106e+20,\n",
       " 1.1645240439999999e+20,\n",
       " 1.183744232e+20,\n",
       " 1.125143823e+20,\n",
       " 1.158085472e+20,\n",
       " 1.132493418e+20,\n",
       " 1.176522089e+20,\n",
       " 1.016748045e+20,\n",
       " 1.098965854e+20,\n",
       " 1.1170803330000001e+20,\n",
       " 1.151324633e+20,\n",
       " 1.0849832e+20,\n",
       " 1.007590427e+20,\n",
       " 1.1598418290000001e+20,\n",
       " 1.0176015849999999e+20,\n",
       " 1.102438117e+20,\n",
       " 1.0659084270000002e+20,\n",
       " 1.0692222710000001e+20,\n",
       " 1.1380447179999999e+20,\n",
       " 1.143636278e+20,\n",
       " 1.166708172e+20,\n",
       " 1.0061710980000001e+20,\n",
       " 1.125569101e+20,\n",
       " 1.0190667609999999e+20,\n",
       " 1.0415948420000001e+20,\n",
       " 1.056453214e+20,\n",
       " 1.09855191e+20,\n",
       " 1.130440291e+20,\n",
       " 1.0635586240000002e+20,\n",
       " 1.08246365e+20,\n",
       " 1.072028875e+20,\n",
       " 1.061116254e+20,\n",
       " 1.056505117e+20,\n",
       " 1.056262523e+20,\n",
       " 1.149989692e+20,\n",
       " 1.109474904e+20,\n",
       " 1.1511127590000001e+20,\n",
       " 1.11941968e+20,\n",
       " 1.148352392e+20,\n",
       " 1.003098665e+20,\n",
       " 1.164889609e+20,\n",
       " 1.1510804619999999e+20,\n",
       " 1.042982581e+20,\n",
       " 1.1564804230000001e+20,\n",
       " 1.035299966e+20,\n",
       " 1.103760472e+20,\n",
       " 1.018878181e+20,\n",
       " 1.1453386839999999e+20,\n",
       " 1.030838181e+20,\n",
       " 1.038953466e+20,\n",
       " 1.0973122e+20,\n",
       " 1.0065827730000001e+20,\n",
       " 1.084899276e+20,\n",
       " 1.1561856070000001e+20,\n",
       " 1.003748141e+20,\n",
       " 1.0705420349999999e+20,\n",
       " 1.059369944e+20,\n",
       " 1.063266403e+20,\n",
       " 1.048001159e+20,\n",
       " 1.157146299e+20,\n",
       " 1.096437677e+20,\n",
       " 1.091687415e+20,\n",
       " 1.154130649e+20,\n",
       " 1.021387965e+20,\n",
       " 1.166528906e+20,\n",
       " 1.1676211510000001e+20,\n",
       " 1.13324647e+20,\n",
       " 1.100086116e+20,\n",
       " 1.183563698e+20,\n",
       " 1.059823912e+20,\n",
       " 1.0348747309999999e+20,\n",
       " 1.028859859e+20,\n",
       " 1.139988129e+20,\n",
       " 1.0373834909999999e+20,\n",
       " 1.063689612e+20,\n",
       " 1.015322403e+20,\n",
       " 1.0146119019999999e+20,\n",
       " 1.1122720450000001e+20,\n",
       " 1.067684095e+20,\n",
       " 1.0709844610000001e+20,\n",
       " 1.113807478e+20,\n",
       " 1.082702477e+20,\n",
       " 1.137161657e+20,\n",
       " 1.0760990440000001e+20,\n",
       " 1.028532512e+20,\n",
       " 1.180666115e+20,\n",
       " 1.0231880520000001e+20,\n",
       " 1.0788509209999999e+20,\n",
       " 1.0243141490000001e+20,\n",
       " 1.085793507e+20,\n",
       " 1.070022862e+20,\n",
       " 1.0011360279999999e+20,\n",
       " 1.0074632020000001e+20,\n",
       " 1.0298015410000001e+20,\n",
       " 1.0499601270000001e+20,\n",
       " 1.135277131e+20,\n",
       " 1.024288477e+20,\n",
       " 1.0837258409999999e+20,\n",
       " 1.082983968e+20,\n",
       " 1.0882754340000001e+20,\n",
       " 1.028497704e+20,\n",
       " 1.088820914e+20,\n",
       " 1.00404877e+20,\n",
       " 1.152602136e+20,\n",
       " 1.015625287e+20,\n",
       " 1.0106667819999999e+20,\n",
       " 1.1456523400000001e+20,\n",
       " 1.105729763e+20,\n",
       " 1.038355769e+20,\n",
       " 1.119872475e+20,\n",
       " 1.141268419e+20,\n",
       " 1.0161867449999999e+20,\n",
       " 1.06706243e+20,\n",
       " 1.0065575449999999e+20,\n",
       " 1.046097967e+20,\n",
       " 1.1181282720000002e+20,\n",
       " 1.066989852e+20,\n",
       " 1.147110426e+20,\n",
       " 1.047481064e+20,\n",
       " 1.126220902e+20,\n",
       " 1.1428479089999998e+20,\n",
       " 1.1801026590000002e+20,\n",
       " 1.149968643e+20,\n",
       " 1.080596642e+20,\n",
       " 1.166143403e+20,\n",
       " 1.0158837759999998e+20,\n",
       " 1.002119271e+20,\n",
       " 1.10656619e+20,\n",
       " 1.125130414e+20,\n",
       " 1.0438985190000001e+20,\n",
       " 1.164068369e+20,\n",
       " 1.03889109e+20,\n",
       " 1.004842819e+20,\n",
       " 1.1380969430000001e+20,\n",
       " 1.031520785e+20,\n",
       " 1.141883088e+20,\n",
       " 1.135045958e+20,\n",
       " 1.0025925140000001e+20,\n",
       " 1.093811578e+20,\n",
       " 1.09408455e+20,\n",
       " 1.039043684e+20,\n",
       " 1.107689712e+20,\n",
       " 1.178832539e+20,\n",
       " 1.0044346850000001e+20,\n",
       " 1.029578614e+20,\n",
       " 1.027252335e+20,\n",
       " 1.006604118e+20,\n",
       " 1.0439563670000001e+20,\n",
       " 1.0199042e+20,\n",
       " 1.02370905e+20,\n",
       " 1.0756119209999999e+20,\n",
       " 1.165890107e+20,\n",
       " 1.084433685e+20,\n",
       " 1.0052344550000001e+20,\n",
       " 1.168688343e+20,\n",
       " 1.0028573890000001e+20,\n",
       " 1.0782466660000001e+20,\n",
       " 1.1024593199999998e+20,\n",
       " 1.006003715e+20,\n",
       " 1.166765708e+20,\n",
       " 1.15153829e+20,\n",
       " 1.0768281609999999e+20,\n",
       " 1.15146164e+20,\n",
       " 1.1836524500000001e+20,\n",
       " 1.145297944e+20,\n",
       " 1.089047334e+20,\n",
       " 1.0946686679999999e+20,\n",
       " 1.1130926039999999e+20,\n",
       " 1.1370816919999999e+20,\n",
       " 1.176717074e+20,\n",
       " 1.0411941819999999e+20,\n",
       " 1.1116465230000002e+20,\n",
       " 1.0672333629999999e+20,\n",
       " 1.130932414e+20,\n",
       " 1.0355025819999999e+20,\n",
       " 1.018587131e+20,\n",
       " 1.1500704840000001e+20,\n",
       " 1.0790786199999999e+20,\n",
       " 1.020622167e+20,\n",
       " 1.0110915110000001e+20,\n",
       " 1.0409303400000001e+20,\n",
       " 1.175932085e+20,\n",
       " 1.092855736e+20,\n",
       " 1.1577599400000001e+20,\n",
       " 1.162508869e+20,\n",
       " 1.0560749879999999e+20,\n",
       " 1.056556455e+20,\n",
       " 1.0277422169999999e+20,\n",
       " 1.155223592e+20,\n",
       " 1.091115912e+20,\n",
       " 1.183162795e+20,\n",
       " 1.073791253e+20,\n",
       " 1.052859239e+20,\n",
       " 1.1159947750000001e+20,\n",
       " 1.139266488e+20,\n",
       " 1.1367768279999999e+20,\n",
       " 1.181149738e+20,\n",
       " 1.1397823090000001e+20,\n",
       " 1.151657176e+20,\n",
       " 1.1177342290000001e+20,\n",
       " 1.089193171e+20,\n",
       " 1.0989638180000001e+20,\n",
       " 1.109125371e+20,\n",
       " 1.155325873e+20,\n",
       " 1.1409934550000001e+20,\n",
       " 1.0852992370000001e+20,\n",
       " 1.064196211e+20,\n",
       " 1.128533757e+20,\n",
       " 1.08313065e+20,\n",
       " 1.1382140009999999e+20,\n",
       " 1.161219917e+20,\n",
       " 1.0410626199999999e+20,\n",
       " 1.071627361e+20,\n",
       " 1.108260838e+20,\n",
       " 1.122513493e+20,\n",
       " 1.081499819e+20,\n",
       " 1.153147392e+20,\n",
       " 1.1030807430000001e+20,\n",
       " 1.16107195e+20,\n",
       " 1.1694934029999999e+20,\n",
       " 1.120794517e+20,\n",
       " 1.130472541e+20,\n",
       " 1.0215721849999999e+20,\n",
       " 1.085198369e+20,\n",
       " 1.000104222e+20,\n",
       " 1.077231394e+20,\n",
       " 1.021131773e+20,\n",
       " 1.180079048e+20,\n",
       " 1.1318413380000001e+20,\n",
       " 1.053376176e+20,\n",
       " 1.1594347789999999e+20,\n",
       " 1.0485507949999999e+20,\n",
       " 1.073298894e+20,\n",
       " 1.051171724e+20,\n",
       " 1.089266114e+20,\n",
       " 1.051524817e+20,\n",
       " 1.113734097e+20,\n",
       " 1.1827610710000001e+20,\n",
       " 1.1755934720000002e+20,\n",
       " 1.025622125e+20,\n",
       " 1.134537352e+20,\n",
       " 1.086845023e+20,\n",
       " 1.0893071940000001e+20,\n",
       " 1.158675111e+20,\n",
       " 1.0592456279999999e+20,\n",
       " 1.0256134219999999e+20,\n",
       " 1.135116271e+20,\n",
       " 1.150311071e+20,\n",
       " 1.160119744e+20,\n",
       " 1.176125166e+20,\n",
       " 1.1104252480000002e+20,\n",
       " 1.139602438e+20,\n",
       " 1.109616746e+20,\n",
       " 1.135332308e+20,\n",
       " 1.102433766e+20,\n",
       " 1.035226777e+20,\n",
       " 1.0327402020000001e+20,\n",
       " 1.065868209e+20,\n",
       " 1.141411854e+20,\n",
       " 1.0045886e+20,\n",
       " 1.041339883e+20,\n",
       " 1.053870518e+20,\n",
       " 1.097022295e+20,\n",
       " 1.0733376589999999e+20,\n",
       " 1.170724574e+20,\n",
       " 1.087796966e+20,\n",
       " 1.144221767e+20,\n",
       " 1.060137982e+20,\n",
       " 1.041495392e+20,\n",
       " 1.098597265e+20,\n",
       " 1.0980869099999999e+20,\n",
       " 1.114765806e+20,\n",
       " 1.02216145e+20,\n",
       " 1.112429801e+20,\n",
       " 1.0257443959999999e+20,\n",
       " 1.1760582959999998e+20,\n",
       " 1.152597312e+20,\n",
       " 1.1691588529999998e+20,\n",
       " 1.073139694e+20,\n",
       " 1.0774721999999998e+20,\n",
       " 1.17485515e+20,\n",
       " 1.100110103e+20,\n",
       " 1.0383771959999999e+20,\n",
       " 1.107030377e+20,\n",
       " 1.184170586e+20,\n",
       " 1.0766921519999998e+20,\n",
       " 1.1757701970000001e+20,\n",
       " 1.025643203e+20,\n",
       " 1.083912757e+20,\n",
       " 1.118573855e+20,\n",
       " 1.1499174679999999e+20,\n",
       " 1.0889520909999999e+20,\n",
       " 1.0258863279999998e+20,\n",
       " 1.004390487e+20,\n",
       " 1.0999599159999999e+20,\n",
       " 1.0190327910000001e+20,\n",
       " 1.0787157750000001e+20,\n",
       " 1.176482354e+20,\n",
       " 1.156347885e+20,\n",
       " 1.079326798e+20,\n",
       " 1.147196277e+20,\n",
       " 1.1441497919999998e+20,\n",
       " 1.142069493e+20,\n",
       " 1.158116396e+20,\n",
       " 1.0321892020000001e+20,\n",
       " 1.1734946449999998e+20,\n",
       " 1.0983206729999999e+20,\n",
       " 1.012012511e+20,\n",
       " 1.053596242e+20,\n",
       " 1.128517531e+20,\n",
       " 1.0549633659999999e+20,\n",
       " 1.147692394e+20,\n",
       " 1.180274096e+20,\n",
       " 1.016211639e+20,\n",
       " 1.139483816e+20,\n",
       " 1.104968829e+20,\n",
       " 1.093859175e+20,\n",
       " 1.020116692e+20,\n",
       " 1.018857601e+20,\n",
       " 1.158544065e+20,\n",
       " 1.102651373e+20,\n",
       " 1.133942518e+20,\n",
       " 1.0631535890000001e+20,\n",
       " 1.1355326459999999e+20,\n",
       " 1.0685649719999999e+20,\n",
       " 1.1352318809999999e+20,\n",
       " 1.147345512e+20,\n",
       " 1.1835423080000001e+20,\n",
       " 1.14772279e+20,\n",
       " 1.132548203e+20,\n",
       " 1.093325608e+20,\n",
       " 1.1734157510000001e+20,\n",
       " 1.009876579e+20,\n",
       " 1.039145864e+20,\n",
       " 1.0911243639999999e+20,\n",
       " 1.042492623e+20,\n",
       " 1.091032671e+20,\n",
       " 1.060748123e+20,\n",
       " 1.025214095e+20,\n",
       " 1.012256522e+20,\n",
       " 1.02764095e+20,\n",
       " 1.0011305239999999e+20,\n",
       " 1.1327501230000002e+20,\n",
       " 1.106706303e+20,\n",
       " 1.126838423e+20,\n",
       " 1.0329869590000001e+20,\n",
       " 1.059466968e+20,\n",
       " 1.059892678e+20,\n",
       " 1.012878312e+20,\n",
       " 1.168602233e+20,\n",
       " 1.152989121e+20,\n",
       " 1.119681733e+20,\n",
       " 1.0082141069999999e+20,\n",
       " 1.115314999e+20,\n",
       " 1.1113151910000001e+20,\n",
       " 1.03815609e+20,\n",
       " 1.144825398e+20,\n",
       " 1.064800545e+20,\n",
       " 1.095507979e+20,\n",
       " 1.1693613730000001e+20,\n",
       " 1.030101605e+20,\n",
       " 1.1784835840000002e+20,\n",
       " 1.178829769e+20,\n",
       " 1.088009971e+20,\n",
       " 1.0309616260000001e+20,\n",
       " 1.054097482e+20,\n",
       " 1.0686525739999999e+20,\n",
       " 1.0993271149999999e+20,\n",
       " 1.027208744e+20,\n",
       " 1.006236777e+20,\n",
       " 1.118211653e+20,\n",
       " 1.014655991e+20,\n",
       " 1.157227445e+20,\n",
       " 1.157451763e+20,\n",
       " 1.050050326e+20,\n",
       " 1.073511574e+20,\n",
       " 1.0546799550000002e+20,\n",
       " 1.0282014790000001e+20,\n",
       " 1.1837681090000001e+20,\n",
       " 1.031457466e+20,\n",
       " 1.1648497390000002e+20,\n",
       " 1.0196066370000001e+20,\n",
       " 1.091841083e+20,\n",
       " 1.153879617e+20,\n",
       " 1.0856586370000001e+20,\n",
       " 1.097389453e+20,\n",
       " 1.0271345590000001e+20,\n",
       " 1.180646388e+20,\n",
       " 1.164976513e+20,\n",
       " 1.02892037e+20,\n",
       " 1.1457325579999999e+20,\n",
       " 1.143054349e+20,\n",
       " 1.06793681e+20,\n",
       " 1.019940237e+20,\n",
       " 1.0334699929999999e+20,\n",
       " 1.054520302e+20,\n",
       " 1.031663822e+20,\n",
       " 1.0447702809999999e+20,\n",
       " 1.051076114e+20,\n",
       " 1.038807155e+20,\n",
       " 1.005909825e+20,\n",
       " 1.1601933010000001e+20,\n",
       " 1.0792300960000002e+20,\n",
       " 1.062918585e+20,\n",
       " 1.172113261e+20,\n",
       " 1.056928199e+20,\n",
       " 1.033163434e+20,\n",
       " 1.065368029e+20,\n",
       " 1.070905541e+20,\n",
       " 1.137020022e+20,\n",
       " 1.037719965e+20,\n",
       " 1.0891595590000001e+20,\n",
       " 1.181481609e+20,\n",
       " 1.1704032390000001e+20,\n",
       " 1.166516554e+20,\n",
       " 1.0063957670000001e+20,\n",
       " 1.0597488040000001e+20,\n",
       " 1.1385816690000001e+20,\n",
       " 1.004982486e+20,\n",
       " 1.101011809e+20,\n",
       " 1.1840595949999999e+20,\n",
       " 1.0307786270000002e+20,\n",
       " 1.0304403129999999e+20,\n",
       " 1.105748451e+20,\n",
       " 1.130034121e+20,\n",
       " 1.025849421e+20,\n",
       " 1.005228467e+20,\n",
       " 1.0116384759999999e+20,\n",
       " 1.097192286e+20,\n",
       " 1.086649011e+20,\n",
       " 1.122185067e+20,\n",
       " 1.042118068e+20,\n",
       " 1.1072663220000001e+20,\n",
       " 1.132722711e+20,\n",
       " 1.0393494219999999e+20,\n",
       " 1.109906976e+20,\n",
       " 1.0970928840000001e+20,\n",
       " 1.097271646e+20,\n",
       " 1.104676837e+20,\n",
       " 1.122269266e+20,\n",
       " 1.0570161149999999e+20,\n",
       " 1.06889809e+20,\n",
       " 1.032562366e+20,\n",
       " 1.120605487e+20,\n",
       " 1.12138511e+20,\n",
       " 1.0533941110000001e+20,\n",
       " 1.078181122e+20,\n",
       " 1.09034871e+20,\n",
       " 1.0287330409999999e+20,\n",
       " 1.140773451e+20,\n",
       " 1.0367790269999999e+20,\n",
       " 1.079272924e+20,\n",
       " 1.1176270989999999e+20,\n",
       " 1.0398651990000001e+20,\n",
       " 1.0684858989999999e+20,\n",
       " 1.156027626e+20,\n",
       " 1.058434207e+20,\n",
       " 1.010576255e+20,\n",
       " 1.117687242e+20,\n",
       " 1.0051628429999999e+20,\n",
       " 1.00791527e+20,\n",
       " 1.110521178e+20,\n",
       " 1.0602772119999999e+20,\n",
       " 1.065166469e+20,\n",
       " 1.1452782830000002e+20,\n",
       " 1.0443946959999998e+20,\n",
       " 1.123350885e+20,\n",
       " 1.1278620969999999e+20,\n",
       " 1.153194668e+20,\n",
       " 1.0194776619999999e+20,\n",
       " 1.1265357780000001e+20,\n",
       " 1.0525558639999998e+20,\n",
       " 1.025611649e+20,\n",
       " 1.050323265e+20,\n",
       " 1.023678198e+20,\n",
       " 1.1543227629999999e+20,\n",
       " 1.1740426859999999e+20,\n",
       " 1.137913615e+20,\n",
       " 1.0949136829999999e+20,\n",
       " 1.085741407e+20,\n",
       " 1.1007723949999999e+20,\n",
       " 1.0049338459999999e+20,\n",
       " 1.094785279e+20,\n",
       " 1.107003733e+20,\n",
       " 1.0447702270000002e+20,\n",
       " 1.035517445e+20,\n",
       " 1.0044671670000001e+20,\n",
       " 1.051642348e+20,\n",
       " 1.082629302e+20,\n",
       " 1.127788417e+20,\n",
       " 1.023409539e+20,\n",
       " 1.148400485e+20,\n",
       " 1.0373025499999999e+20,\n",
       " 1.075171179e+20,\n",
       " 1.180718619e+20,\n",
       " 1.144480298e+20,\n",
       " 1.127021775e+20,\n",
       " 1.086538285e+20,\n",
       " 1.113812802e+20,\n",
       " 1.028814068e+20,\n",
       " 1.12871736e+20,\n",
       " 1.0044086249999999e+20,\n",
       " 1.107109044e+20,\n",
       " 1.102594332e+20,\n",
       " 1.066625429e+20,\n",
       " 1.156274363e+20,\n",
       " 1.0715970329999999e+20,\n",
       " 1.12712703e+20,\n",
       " 1.041725538e+20,\n",
       " 1.125146929e+20,\n",
       " 1.088500601e+20,\n",
       " 1.0545684980000001e+20,\n",
       " 1.009232167e+20,\n",
       " 1.037104009e+20,\n",
       " 1.065388182e+20,\n",
       " 1.052320643e+20,\n",
       " 1.023039146e+20,\n",
       " 1.0930752100000001e+20,\n",
       " 1.0205165940000001e+20,\n",
       " 1.132643214e+20,\n",
       " 1.1207764680000001e+20,\n",
       " 1.1055235510000001e+20,\n",
       " 1.0942416e+20,\n",
       " 1.1055751629999999e+20,\n",
       " 1.04518388e+20,\n",
       " 1.1396600699999999e+20,\n",
       " 1.1407290190000002e+20,\n",
       " 1.0901952420000001e+20,\n",
       " 1.148596748e+20,\n",
       " 1.055428048e+20,\n",
       " 1.1041724150000001e+20,\n",
       " 1.06414732e+20,\n",
       " 1.055791295e+20,\n",
       " 1.1152593369999999e+20,\n",
       " 1.0900875560000001e+20,\n",
       " 1.0065890989999999e+20,\n",
       " 1.072136008e+20,\n",
       " 1.182246806e+20,\n",
       " 1.083848973e+20,\n",
       " 1.012104306e+20,\n",
       " 1.169607563e+20,\n",
       " 1.0285426280000001e+20,\n",
       " 1.0511979549999999e+20,\n",
       " 1.1306003069999999e+20,\n",
       " 1.1836372969999999e+20,\n",
       " 1.137142731e+20,\n",
       " 1.1145400299999999e+20,\n",
       " 1.125480847e+20,\n",
       " 1.1017543080000001e+20,\n",
       " 1.1692133820000002e+20,\n",
       " 1.1724017019999999e+20,\n",
       " 1.127696841e+20,\n",
       " 1.162312108e+20,\n",
       " 1.1092580299999999e+20,\n",
       " 1.016426121e+20,\n",
       " 1.064331226e+20,\n",
       " 1.065296879e+20,\n",
       " 1.0769013320000001e+20,\n",
       " 1.179809656e+20,\n",
       " 1.067349276e+20,\n",
       " 1.0539206350000002e+20,\n",
       " 1.119590236e+20,\n",
       " 1.0529811250000001e+20,\n",
       " 1.019855253e+20,\n",
       " 1.0084562720000002e+20,\n",
       " 1.173930441e+20,\n",
       " 1.160410559e+20,\n",
       " 1.033312917e+20,\n",
       " 1.055690872e+20,\n",
       " 1.054805517e+20,\n",
       " 1.0408528779999999e+20,\n",
       " 1.0478138610000001e+20,\n",
       " 1.0733716470000001e+20,\n",
       " 1.0502129099999999e+20,\n",
       " 1.154885851e+20,\n",
       " 1.172544214e+20,\n",
       " 1.1226842310000001e+20,\n",
       " 1.018723678e+20,\n",
       " 1.1615228680000001e+20,\n",
       " 1.089984461e+20,\n",
       " 1.040267871e+20,\n",
       " 1.100566208e+20,\n",
       " 1.0122199510000001e+20,\n",
       " 1.1502388370000001e+20,\n",
       " 1.179979986e+20,\n",
       " 1.001931297e+20,\n",
       " 1.005455718e+20,\n",
       " 1.18185103e+20,\n",
       " 1.0638640850000001e+20,\n",
       " 1.157384311e+20,\n",
       " 1.130850776e+20,\n",
       " 1.098940458e+20,\n",
       " 1.1052880009999999e+20,\n",
       " 1.0847380870000001e+20,\n",
       " 1.0238437469999999e+20,\n",
       " ...]"
      ]
     },
     "execution_count": 48,
     "metadata": {},
     "output_type": "execute_result"
    }
   ],
   "source": [
    "gps_filter_list"
   ]
  },
  {
   "cell_type": "code",
   "execution_count": 52,
   "id": "6ebebae4",
   "metadata": {},
   "outputs": [
    {
     "data": {
      "text/plain": [
       "Series([], Name: gPlusPlaceId, dtype: float64)"
      ]
     },
     "execution_count": 52,
     "metadata": {},
     "output_type": "execute_result"
    }
   ],
   "source": [
    "# tmp[tmp==1.081033143800042e+20] # There are results\n",
    "tmp[tmp==1.0136495080000001e+20]"
   ]
  },
  {
   "cell_type": "code",
   "execution_count": 47,
   "id": "df21f612",
   "metadata": {},
   "outputs": [
    {
     "data": {
      "text/plain": [
       "Series([], Name: gPlusPlaceId, dtype: float64)"
      ]
     },
     "execution_count": 47,
     "metadata": {},
     "output_type": "execute_result"
    }
   ],
   "source": [
    "# gps_filter = tmp[tmp.isin(gps_filter_list)]\n",
    "tmp[tmp.isin(gps_filter_list)]"
   ]
  },
  {
   "cell_type": "code",
   "execution_count": 46,
   "id": "7def4591",
   "metadata": {},
   "outputs": [
    {
     "data": {
      "text/plain": [
       "(0,)"
      ]
     },
     "execution_count": 46,
     "metadata": {},
     "output_type": "execute_result"
    }
   ],
   "source": [
    "gps_filter.shape"
   ]
  },
  {
   "cell_type": "code",
   "execution_count": 34,
   "id": "ee475905",
   "metadata": {},
   "outputs": [
    {
     "name": "stdout",
     "output_type": "stream",
     "text": [
      "gPlusPlaceId_filter.json places_sub.json          reviews_sub.json\r\n",
      "places.clean.json        places_sub_gps.json      users.clean.json\r\n",
      "places.json              reviews.clean.json       users.json\r\n",
      "places_gps.json          reviews.json             users_sub.json\r\n"
     ]
    }
   ],
   "source": [
    "!ls data"
   ]
  },
  {
   "cell_type": "code",
   "execution_count": 29,
   "id": "f7f6dfc1",
   "metadata": {},
   "outputs": [
    {
     "data": {
      "text/plain": [
       "1.081033143800042e+20"
      ]
     },
     "execution_count": 29,
     "metadata": {},
     "output_type": "execute_result"
    }
   ],
   "source": [
    "# tmp[0] # 1.081033143800042e+20"
   ]
  },
  {
   "cell_type": "code",
   "execution_count": 28,
   "id": "e3354ad1",
   "metadata": {},
   "outputs": [
    {
     "data": {
      "text/plain": [
       "['T',\n",
       " '_AXIS_LEN',\n",
       " '_AXIS_ORDERS',\n",
       " '_AXIS_REVERSED',\n",
       " '_AXIS_TO_AXIS_NUMBER',\n",
       " '_HANDLED_TYPES',\n",
       " '__abs__',\n",
       " '__add__',\n",
       " '__and__',\n",
       " '__annotations__',\n",
       " '__array__',\n",
       " '__array_priority__',\n",
       " '__array_ufunc__',\n",
       " '__array_wrap__',\n",
       " '__bool__',\n",
       " '__class__',\n",
       " '__contains__',\n",
       " '__copy__',\n",
       " '__deepcopy__',\n",
       " '__delattr__',\n",
       " '__delitem__',\n",
       " '__dict__',\n",
       " '__dir__',\n",
       " '__divmod__',\n",
       " '__doc__',\n",
       " '__eq__',\n",
       " '__finalize__',\n",
       " '__float__',\n",
       " '__floordiv__',\n",
       " '__format__',\n",
       " '__ge__',\n",
       " '__getattr__',\n",
       " '__getattribute__',\n",
       " '__getitem__',\n",
       " '__getstate__',\n",
       " '__gt__',\n",
       " '__hash__',\n",
       " '__iadd__',\n",
       " '__iand__',\n",
       " '__ifloordiv__',\n",
       " '__imod__',\n",
       " '__imul__',\n",
       " '__init__',\n",
       " '__init_subclass__',\n",
       " '__int__',\n",
       " '__invert__',\n",
       " '__ior__',\n",
       " '__ipow__',\n",
       " '__isub__',\n",
       " '__iter__',\n",
       " '__itruediv__',\n",
       " '__ixor__',\n",
       " '__le__',\n",
       " '__len__',\n",
       " '__long__',\n",
       " '__lt__',\n",
       " '__matmul__',\n",
       " '__mod__',\n",
       " '__module__',\n",
       " '__mul__',\n",
       " '__ne__',\n",
       " '__neg__',\n",
       " '__new__',\n",
       " '__nonzero__',\n",
       " '__or__',\n",
       " '__pos__',\n",
       " '__pow__',\n",
       " '__radd__',\n",
       " '__rand__',\n",
       " '__rdivmod__',\n",
       " '__reduce__',\n",
       " '__reduce_ex__',\n",
       " '__repr__',\n",
       " '__rfloordiv__',\n",
       " '__rmatmul__',\n",
       " '__rmod__',\n",
       " '__rmul__',\n",
       " '__ror__',\n",
       " '__round__',\n",
       " '__rpow__',\n",
       " '__rsub__',\n",
       " '__rtruediv__',\n",
       " '__rxor__',\n",
       " '__setattr__',\n",
       " '__setitem__',\n",
       " '__setstate__',\n",
       " '__sizeof__',\n",
       " '__str__',\n",
       " '__sub__',\n",
       " '__subclasshook__',\n",
       " '__truediv__',\n",
       " '__weakref__',\n",
       " '__xor__',\n",
       " '_accessors',\n",
       " '_accum_func',\n",
       " '_add_numeric_operations',\n",
       " '_agg_by_level',\n",
       " '_agg_examples_doc',\n",
       " '_agg_see_also_doc',\n",
       " '_align_frame',\n",
       " '_align_series',\n",
       " '_arith_method',\n",
       " '_as_manager',\n",
       " '_attrs',\n",
       " '_binop',\n",
       " '_cacher',\n",
       " '_can_hold_na',\n",
       " '_check_inplace_and_allows_duplicate_labels',\n",
       " '_check_inplace_setting',\n",
       " '_check_is_chained_assignment_possible',\n",
       " '_check_label_or_level_ambiguity',\n",
       " '_check_setitem_copy',\n",
       " '_clear_item_cache',\n",
       " '_clip_with_one_bound',\n",
       " '_clip_with_scalar',\n",
       " '_cmp_method',\n",
       " '_consolidate',\n",
       " '_consolidate_inplace',\n",
       " '_construct_axes_dict',\n",
       " '_construct_axes_from_arguments',\n",
       " '_construct_result',\n",
       " '_constructor',\n",
       " '_constructor_expanddim',\n",
       " '_convert',\n",
       " '_convert_dtypes',\n",
       " '_data',\n",
       " '_dir_additions',\n",
       " '_dir_deletions',\n",
       " '_drop_axis',\n",
       " '_drop_labels_or_levels',\n",
       " '_duplicated',\n",
       " '_find_valid_index',\n",
       " '_flags',\n",
       " '_from_mgr',\n",
       " '_get_axis',\n",
       " '_get_axis_name',\n",
       " '_get_axis_number',\n",
       " '_get_axis_resolvers',\n",
       " '_get_block_manager_axis',\n",
       " '_get_bool_data',\n",
       " '_get_cacher',\n",
       " '_get_cleaned_column_resolvers',\n",
       " '_get_index_resolvers',\n",
       " '_get_label_or_level_values',\n",
       " '_get_numeric_data',\n",
       " '_get_value',\n",
       " '_get_values',\n",
       " '_get_values_tuple',\n",
       " '_get_with',\n",
       " '_gotitem',\n",
       " '_hidden_attrs',\n",
       " '_index',\n",
       " '_indexed_same',\n",
       " '_info_axis',\n",
       " '_info_axis_name',\n",
       " '_info_axis_number',\n",
       " '_init_dict',\n",
       " '_init_mgr',\n",
       " '_inplace_method',\n",
       " '_internal_names',\n",
       " '_internal_names_set',\n",
       " '_is_cached',\n",
       " '_is_copy',\n",
       " '_is_label_or_level_reference',\n",
       " '_is_label_reference',\n",
       " '_is_level_reference',\n",
       " '_is_mixed_type',\n",
       " '_is_view',\n",
       " '_item_cache',\n",
       " '_ixs',\n",
       " '_logical_func',\n",
       " '_logical_method',\n",
       " '_map_values',\n",
       " '_maybe_update_cacher',\n",
       " '_memory_usage',\n",
       " '_metadata',\n",
       " '_mgr',\n",
       " '_min_count_stat_function',\n",
       " '_name',\n",
       " '_needs_reindex_multi',\n",
       " '_protect_consolidate',\n",
       " '_reduce',\n",
       " '_reindex_axes',\n",
       " '_reindex_indexer',\n",
       " '_reindex_multi',\n",
       " '_reindex_with_indexers',\n",
       " '_replace_single',\n",
       " '_repr_data_resource_',\n",
       " '_repr_latex_',\n",
       " '_reset_cache',\n",
       " '_reset_cacher',\n",
       " '_set_as_cached',\n",
       " '_set_axis',\n",
       " '_set_axis_name',\n",
       " '_set_axis_nocheck',\n",
       " '_set_is_copy',\n",
       " '_set_labels',\n",
       " '_set_name',\n",
       " '_set_value',\n",
       " '_set_values',\n",
       " '_set_with',\n",
       " '_set_with_engine',\n",
       " '_slice',\n",
       " '_stat_axis',\n",
       " '_stat_axis_name',\n",
       " '_stat_axis_number',\n",
       " '_stat_function',\n",
       " '_stat_function_ddof',\n",
       " '_take_with_is_copy',\n",
       " '_typ',\n",
       " '_update_inplace',\n",
       " '_validate_dtype',\n",
       " '_values',\n",
       " '_where',\n",
       " 'abs',\n",
       " 'add',\n",
       " 'add_prefix',\n",
       " 'add_suffix',\n",
       " 'agg',\n",
       " 'aggregate',\n",
       " 'align',\n",
       " 'all',\n",
       " 'any',\n",
       " 'append',\n",
       " 'apply',\n",
       " 'argmax',\n",
       " 'argmin',\n",
       " 'argsort',\n",
       " 'array',\n",
       " 'asfreq',\n",
       " 'asof',\n",
       " 'astype',\n",
       " 'at',\n",
       " 'at_time',\n",
       " 'attrs',\n",
       " 'autocorr',\n",
       " 'axes',\n",
       " 'backfill',\n",
       " 'between',\n",
       " 'between_time',\n",
       " 'bfill',\n",
       " 'bool',\n",
       " 'clip',\n",
       " 'combine',\n",
       " 'combine_first',\n",
       " 'compare',\n",
       " 'convert_dtypes',\n",
       " 'copy',\n",
       " 'corr',\n",
       " 'count',\n",
       " 'cov',\n",
       " 'cummax',\n",
       " 'cummin',\n",
       " 'cumprod',\n",
       " 'cumsum',\n",
       " 'describe',\n",
       " 'diff',\n",
       " 'div',\n",
       " 'divide',\n",
       " 'divmod',\n",
       " 'dot',\n",
       " 'drop',\n",
       " 'drop_duplicates',\n",
       " 'droplevel',\n",
       " 'dropna',\n",
       " 'dtype',\n",
       " 'dtypes',\n",
       " 'duplicated',\n",
       " 'empty',\n",
       " 'eq',\n",
       " 'equals',\n",
       " 'ewm',\n",
       " 'expanding',\n",
       " 'explode',\n",
       " 'factorize',\n",
       " 'ffill',\n",
       " 'fillna',\n",
       " 'filter',\n",
       " 'first',\n",
       " 'first_valid_index',\n",
       " 'flags',\n",
       " 'floordiv',\n",
       " 'ge',\n",
       " 'get',\n",
       " 'groupby',\n",
       " 'gt',\n",
       " 'hasnans',\n",
       " 'head',\n",
       " 'hist',\n",
       " 'iat',\n",
       " 'idxmax',\n",
       " 'idxmin',\n",
       " 'iloc',\n",
       " 'index',\n",
       " 'infer_objects',\n",
       " 'interpolate',\n",
       " 'is_monotonic',\n",
       " 'is_monotonic_decreasing',\n",
       " 'is_monotonic_increasing',\n",
       " 'is_unique',\n",
       " 'isin',\n",
       " 'isna',\n",
       " 'isnull',\n",
       " 'item',\n",
       " 'items',\n",
       " 'iteritems',\n",
       " 'keys',\n",
       " 'kurt',\n",
       " 'kurtosis',\n",
       " 'last',\n",
       " 'last_valid_index',\n",
       " 'le',\n",
       " 'loc',\n",
       " 'lt',\n",
       " 'mad',\n",
       " 'map',\n",
       " 'mask',\n",
       " 'max',\n",
       " 'mean',\n",
       " 'median',\n",
       " 'memory_usage',\n",
       " 'min',\n",
       " 'mod',\n",
       " 'mode',\n",
       " 'mul',\n",
       " 'multiply',\n",
       " 'name',\n",
       " 'nbytes',\n",
       " 'ndim',\n",
       " 'ne',\n",
       " 'nlargest',\n",
       " 'notna',\n",
       " 'notnull',\n",
       " 'nsmallest',\n",
       " 'nunique',\n",
       " 'pad',\n",
       " 'pct_change',\n",
       " 'pipe',\n",
       " 'plot',\n",
       " 'pop',\n",
       " 'pow',\n",
       " 'prod',\n",
       " 'product',\n",
       " 'quantile',\n",
       " 'radd',\n",
       " 'rank',\n",
       " 'ravel',\n",
       " 'rdiv',\n",
       " 'rdivmod',\n",
       " 'reindex',\n",
       " 'reindex_like',\n",
       " 'rename',\n",
       " 'rename_axis',\n",
       " 'reorder_levels',\n",
       " 'repeat',\n",
       " 'replace',\n",
       " 'resample',\n",
       " 'reset_index',\n",
       " 'rfloordiv',\n",
       " 'rmod',\n",
       " 'rmul',\n",
       " 'rolling',\n",
       " 'round',\n",
       " 'rpow',\n",
       " 'rsub',\n",
       " 'rtruediv',\n",
       " 'sample',\n",
       " 'searchsorted',\n",
       " 'sem',\n",
       " 'set_axis',\n",
       " 'set_flags',\n",
       " 'shape',\n",
       " 'shift',\n",
       " 'size',\n",
       " 'skew',\n",
       " 'slice_shift',\n",
       " 'sort_index',\n",
       " 'sort_values',\n",
       " 'squeeze',\n",
       " 'std',\n",
       " 'sub',\n",
       " 'subtract',\n",
       " 'sum',\n",
       " 'swapaxes',\n",
       " 'swaplevel',\n",
       " 'tail',\n",
       " 'take',\n",
       " 'to_clipboard',\n",
       " 'to_csv',\n",
       " 'to_dict',\n",
       " 'to_excel',\n",
       " 'to_frame',\n",
       " 'to_hdf',\n",
       " 'to_json',\n",
       " 'to_latex',\n",
       " 'to_list',\n",
       " 'to_markdown',\n",
       " 'to_numpy',\n",
       " 'to_period',\n",
       " 'to_pickle',\n",
       " 'to_sql',\n",
       " 'to_string',\n",
       " 'to_timestamp',\n",
       " 'to_xarray',\n",
       " 'transform',\n",
       " 'transpose',\n",
       " 'truediv',\n",
       " 'truncate',\n",
       " 'tz_convert',\n",
       " 'tz_localize',\n",
       " 'unique',\n",
       " 'unstack',\n",
       " 'update',\n",
       " 'value_counts',\n",
       " 'values',\n",
       " 'var',\n",
       " 'view',\n",
       " 'where',\n",
       " 'xs']"
      ]
     },
     "execution_count": 28,
     "metadata": {},
     "output_type": "execute_result"
    }
   ],
   "source": [
    "dir(tmp)"
   ]
  },
  {
   "cell_type": "code",
   "execution_count": 19,
   "id": "2cf72a54",
   "metadata": {},
   "outputs": [
    {
     "data": {
      "text/plain": [
       "1.0469945438582212e+20"
      ]
     },
     "execution_count": 19,
     "metadata": {},
     "output_type": "execute_result"
    }
   ],
   "source": [
    "filter = tmp = 104699454385822121984.0\n",
    "filter"
   ]
  },
  {
   "cell_type": "code",
   "execution_count": 16,
   "id": "a8c770c5",
   "metadata": {},
   "outputs": [
    {
     "ename": "NameError",
     "evalue": "name 'gPlusPlaceId' is not defined",
     "output_type": "error",
     "traceback": [
      "\u001b[0;31m---------------------------------------------------------------------------\u001b[0m",
      "\u001b[0;31mNameError\u001b[0m                                 Traceback (most recent call last)",
      "\u001b[0;32m<ipython-input-16-77f2a3a9ce80>\u001b[0m in \u001b[0;36m<module>\u001b[0;34m\u001b[0m\n\u001b[0;32m----> 1\u001b[0;31m \u001b[0mprint\u001b[0m \u001b[0;34m(\u001b[0m\u001b[0mtmp\u001b[0m\u001b[0;34m[\u001b[0m\u001b[0mgPlusPlaceId\u001b[0m\u001b[0;34m]\u001b[0m\u001b[0;34m[\u001b[0m\u001b[0mtmp\u001b[0m\u001b[0;34m[\u001b[0m\u001b[0mgPlusPlaceId\u001b[0m\u001b[0;34m]\u001b[0m \u001b[0;34m==\u001b[0m \u001b[0;36m104699454385822121984.0\u001b[0m\u001b[0;34m]\u001b[0m\u001b[0;34m)\u001b[0m\u001b[0;34m\u001b[0m\u001b[0;34m\u001b[0m\u001b[0m\n\u001b[0m",
      "\u001b[0;31mNameError\u001b[0m: name 'gPlusPlaceId' is not defined"
     ]
    }
   ],
   "source": [
    "print (tmp[gPlusPlaceId][tmp[gPlusPlaceId] == 104699454385822121984.0])"
   ]
  },
  {
   "cell_type": "code",
   "execution_count": 13,
   "id": "9f6486a9",
   "metadata": {},
   "outputs": [
    {
     "ename": "KeyError",
     "evalue": "'gPlusPlaceId'",
     "output_type": "error",
     "traceback": [
      "\u001b[0;31m---------------------------------------------------------------------------\u001b[0m",
      "\u001b[0;31mKeyError\u001b[0m                                  Traceback (most recent call last)",
      "\u001b[0;32m~/opt/anaconda3/lib/python3.8/site-packages/pandas/core/indexes/base.py\u001b[0m in \u001b[0;36mget_loc\u001b[0;34m(self, key, method, tolerance)\u001b[0m\n\u001b[1;32m   3360\u001b[0m             \u001b[0;32mtry\u001b[0m\u001b[0;34m:\u001b[0m\u001b[0;34m\u001b[0m\u001b[0;34m\u001b[0m\u001b[0m\n\u001b[0;32m-> 3361\u001b[0;31m                 \u001b[0;32mreturn\u001b[0m \u001b[0mself\u001b[0m\u001b[0;34m.\u001b[0m\u001b[0m_engine\u001b[0m\u001b[0;34m.\u001b[0m\u001b[0mget_loc\u001b[0m\u001b[0;34m(\u001b[0m\u001b[0mcasted_key\u001b[0m\u001b[0;34m)\u001b[0m\u001b[0;34m\u001b[0m\u001b[0;34m\u001b[0m\u001b[0m\n\u001b[0m\u001b[1;32m   3362\u001b[0m             \u001b[0;32mexcept\u001b[0m \u001b[0mKeyError\u001b[0m \u001b[0;32mas\u001b[0m \u001b[0merr\u001b[0m\u001b[0;34m:\u001b[0m\u001b[0;34m\u001b[0m\u001b[0;34m\u001b[0m\u001b[0m\n",
      "\u001b[0;32m~/opt/anaconda3/lib/python3.8/site-packages/pandas/_libs/index.pyx\u001b[0m in \u001b[0;36mpandas._libs.index.IndexEngine.get_loc\u001b[0;34m()\u001b[0m\n",
      "\u001b[0;32m~/opt/anaconda3/lib/python3.8/site-packages/pandas/_libs/index.pyx\u001b[0m in \u001b[0;36mpandas._libs.index.IndexEngine.get_loc\u001b[0;34m()\u001b[0m\n",
      "\u001b[0;32mpandas/_libs/index_class_helper.pxi\u001b[0m in \u001b[0;36mpandas._libs.index.Int64Engine._check_type\u001b[0;34m()\u001b[0m\n",
      "\u001b[0;31mKeyError\u001b[0m: 'gPlusPlaceId'",
      "\nThe above exception was the direct cause of the following exception:\n",
      "\u001b[0;31mKeyError\u001b[0m                                  Traceback (most recent call last)",
      "\u001b[0;32m<ipython-input-13-8dc825c20532>\u001b[0m in \u001b[0;36m<module>\u001b[0;34m\u001b[0m\n\u001b[0;32m----> 1\u001b[0;31m \u001b[0mtmp\u001b[0m\u001b[0;34m[\u001b[0m\u001b[0;34m'gPlusPlaceId'\u001b[0m\u001b[0;34m]\u001b[0m\u001b[0;34m.\u001b[0m\u001b[0misin\u001b[0m\u001b[0;34m(\u001b[0m\u001b[0;34m[\u001b[0m\u001b[0;36m104699454385822121984.0\u001b[0m\u001b[0;34m]\u001b[0m\u001b[0;34m)\u001b[0m\u001b[0;34m\u001b[0m\u001b[0;34m\u001b[0m\u001b[0m\n\u001b[0m",
      "\u001b[0;32m~/opt/anaconda3/lib/python3.8/site-packages/pandas/core/series.py\u001b[0m in \u001b[0;36m__getitem__\u001b[0;34m(self, key)\u001b[0m\n\u001b[1;32m    940\u001b[0m \u001b[0;34m\u001b[0m\u001b[0m\n\u001b[1;32m    941\u001b[0m         \u001b[0;32melif\u001b[0m \u001b[0mkey_is_scalar\u001b[0m\u001b[0;34m:\u001b[0m\u001b[0;34m\u001b[0m\u001b[0;34m\u001b[0m\u001b[0m\n\u001b[0;32m--> 942\u001b[0;31m             \u001b[0;32mreturn\u001b[0m \u001b[0mself\u001b[0m\u001b[0;34m.\u001b[0m\u001b[0m_get_value\u001b[0m\u001b[0;34m(\u001b[0m\u001b[0mkey\u001b[0m\u001b[0;34m)\u001b[0m\u001b[0;34m\u001b[0m\u001b[0;34m\u001b[0m\u001b[0m\n\u001b[0m\u001b[1;32m    943\u001b[0m \u001b[0;34m\u001b[0m\u001b[0m\n\u001b[1;32m    944\u001b[0m         \u001b[0;32mif\u001b[0m \u001b[0mis_hashable\u001b[0m\u001b[0;34m(\u001b[0m\u001b[0mkey\u001b[0m\u001b[0;34m)\u001b[0m\u001b[0;34m:\u001b[0m\u001b[0;34m\u001b[0m\u001b[0;34m\u001b[0m\u001b[0m\n",
      "\u001b[0;32m~/opt/anaconda3/lib/python3.8/site-packages/pandas/core/series.py\u001b[0m in \u001b[0;36m_get_value\u001b[0;34m(self, label, takeable)\u001b[0m\n\u001b[1;32m   1049\u001b[0m \u001b[0;34m\u001b[0m\u001b[0m\n\u001b[1;32m   1050\u001b[0m         \u001b[0;31m# Similar to Index.get_value, but we do not fall back to positional\u001b[0m\u001b[0;34m\u001b[0m\u001b[0;34m\u001b[0m\u001b[0;34m\u001b[0m\u001b[0m\n\u001b[0;32m-> 1051\u001b[0;31m         \u001b[0mloc\u001b[0m \u001b[0;34m=\u001b[0m \u001b[0mself\u001b[0m\u001b[0;34m.\u001b[0m\u001b[0mindex\u001b[0m\u001b[0;34m.\u001b[0m\u001b[0mget_loc\u001b[0m\u001b[0;34m(\u001b[0m\u001b[0mlabel\u001b[0m\u001b[0;34m)\u001b[0m\u001b[0;34m\u001b[0m\u001b[0;34m\u001b[0m\u001b[0m\n\u001b[0m\u001b[1;32m   1052\u001b[0m         \u001b[0;32mreturn\u001b[0m \u001b[0mself\u001b[0m\u001b[0;34m.\u001b[0m\u001b[0mindex\u001b[0m\u001b[0;34m.\u001b[0m\u001b[0m_get_values_for_loc\u001b[0m\u001b[0;34m(\u001b[0m\u001b[0mself\u001b[0m\u001b[0;34m,\u001b[0m \u001b[0mloc\u001b[0m\u001b[0;34m,\u001b[0m \u001b[0mlabel\u001b[0m\u001b[0;34m)\u001b[0m\u001b[0;34m\u001b[0m\u001b[0;34m\u001b[0m\u001b[0m\n\u001b[1;32m   1053\u001b[0m \u001b[0;34m\u001b[0m\u001b[0m\n",
      "\u001b[0;32m~/opt/anaconda3/lib/python3.8/site-packages/pandas/core/indexes/base.py\u001b[0m in \u001b[0;36mget_loc\u001b[0;34m(self, key, method, tolerance)\u001b[0m\n\u001b[1;32m   3361\u001b[0m                 \u001b[0;32mreturn\u001b[0m \u001b[0mself\u001b[0m\u001b[0;34m.\u001b[0m\u001b[0m_engine\u001b[0m\u001b[0;34m.\u001b[0m\u001b[0mget_loc\u001b[0m\u001b[0;34m(\u001b[0m\u001b[0mcasted_key\u001b[0m\u001b[0;34m)\u001b[0m\u001b[0;34m\u001b[0m\u001b[0;34m\u001b[0m\u001b[0m\n\u001b[1;32m   3362\u001b[0m             \u001b[0;32mexcept\u001b[0m \u001b[0mKeyError\u001b[0m \u001b[0;32mas\u001b[0m \u001b[0merr\u001b[0m\u001b[0;34m:\u001b[0m\u001b[0;34m\u001b[0m\u001b[0;34m\u001b[0m\u001b[0m\n\u001b[0;32m-> 3363\u001b[0;31m                 \u001b[0;32mraise\u001b[0m \u001b[0mKeyError\u001b[0m\u001b[0;34m(\u001b[0m\u001b[0mkey\u001b[0m\u001b[0;34m)\u001b[0m \u001b[0;32mfrom\u001b[0m \u001b[0merr\u001b[0m\u001b[0;34m\u001b[0m\u001b[0;34m\u001b[0m\u001b[0m\n\u001b[0m\u001b[1;32m   3364\u001b[0m \u001b[0;34m\u001b[0m\u001b[0m\n\u001b[1;32m   3365\u001b[0m         \u001b[0;32mif\u001b[0m \u001b[0mis_scalar\u001b[0m\u001b[0;34m(\u001b[0m\u001b[0mkey\u001b[0m\u001b[0;34m)\u001b[0m \u001b[0;32mand\u001b[0m \u001b[0misna\u001b[0m\u001b[0;34m(\u001b[0m\u001b[0mkey\u001b[0m\u001b[0;34m)\u001b[0m \u001b[0;32mand\u001b[0m \u001b[0;32mnot\u001b[0m \u001b[0mself\u001b[0m\u001b[0;34m.\u001b[0m\u001b[0mhasnans\u001b[0m\u001b[0;34m:\u001b[0m\u001b[0;34m\u001b[0m\u001b[0;34m\u001b[0m\u001b[0m\n",
      "\u001b[0;31mKeyError\u001b[0m: 'gPlusPlaceId'"
     ]
    }
   ],
   "source": [
    "tmp['gPlusPlaceId'].isin([104699454385822121984.0])"
   ]
  },
  {
   "cell_type": "code",
   "execution_count": null,
   "id": "d83e8f69",
   "metadata": {},
   "outputs": [],
   "source": [
    "len('104699454385822121984')"
   ]
  },
  {
   "cell_type": "code",
   "execution_count": null,
   "id": "95823c03",
   "metadata": {},
   "outputs": [],
   "source": [
    "%%time\n",
    "df_places = pd.DataFrame(open('data/places.clean.json')) # Wall time: 1.54 Memory: 1.5GB"
   ]
  },
  {
   "cell_type": "code",
   "execution_count": null,
   "id": "84dcf73f",
   "metadata": {},
   "outputs": [],
   "source": [
    "df_places[0][0]\n",
    "# \"{'name': u'Diamond Valley Lake Marina', \n",
    "# 'price': None, \n",
    "# 'address': [u'2615 Angler Ave', u'Hemet, CA 92545'], \n",
    "# 'hours': [[u'Monday', [[u'6:30 am--4:15 pm']]], [u'Tuesday', [[u'6:30 am--4:15 pm']]], [u'Wednesday', [[u'6:30 am--4:15 pm']], 1], [u'Thursday', [[u'6:30 am--4:15 pm']]], [u'Friday', [[u'6:30 am--4:15 pm']]], [u'Saturday', [[u'6:30 am--4:15 pm']]], [u'Sunday', [[u'6:30 am--4:15 pm']]]], \n",
    "# 'phone': u'(951) 926-7201', 'closed': False, \n",
    "# 'gPlusPlaceId': '104699454385822125632', 'gps': [33.703804, -117.003209]}\\n\""
   ]
  },
  {
   "cell_type": "code",
   "execution_count": null,
   "id": "28af8ba2",
   "metadata": {},
   "outputs": [],
   "source": [
    "%%time\n",
    "df_places = df_places[0].apply(lambda x: pd.Series(eval(x))) # , axis=1, raw=True, result_type=object\n",
    "df_places.head()\n",
    "# STEP 2 df_places\n",
    "# explode single column of dictionaries into proper columns\n",
    "\n"
   ]
  },
  {
   "cell_type": "code",
   "execution_count": null,
   "id": "d6051f8b",
   "metadata": {},
   "outputs": [],
   "source": [
    "df_places.info()"
   ]
  },
  {
   "cell_type": "code",
   "execution_count": null,
   "id": "e564cf22",
   "metadata": {},
   "outputs": [],
   "source": [
    "import sys\n",
    "sys.maxsize"
   ]
  },
  {
   "cell_type": "code",
   "execution_count": null,
   "id": "ae2ddaf0",
   "metadata": {},
   "outputs": [],
   "source": [
    "len('9223372036854775807')  # 19, len('114679857037403811721') = 21"
   ]
  },
  {
   "cell_type": "code",
   "execution_count": null,
   "id": "ace03aa3",
   "metadata": {},
   "outputs": [],
   "source": [
    "%%time\n",
    "df_places['gPlusPlaceId'] = df_places['gPlusPlaceId'].astype(str)\n",
    "df_places.info()"
   ]
  },
  {
   "cell_type": "code",
   "execution_count": null,
   "id": "cc937441",
   "metadata": {},
   "outputs": [],
   "source": [
    "df_places.iloc[3114352]"
   ]
  },
  {
   "cell_type": "code",
   "execution_count": null,
   "id": "b20a3c5f",
   "metadata": {},
   "outputs": [],
   "source": [
    "!ls data"
   ]
  },
  {
   "cell_type": "code",
   "execution_count": null,
   "id": "2a78dc31",
   "metadata": {},
   "outputs": [],
   "source": [
    "%%time\n",
    "df_reviews = pd.DataFrame(open('data/reviews.clean.json')) # Wall time: 1.54 Memory: 1.5GB"
   ]
  },
  {
   "cell_type": "code",
   "execution_count": null,
   "id": "0bfa9b47",
   "metadata": {},
   "outputs": [],
   "source": [
    "df_reviews.head()"
   ]
  },
  {
   "cell_type": "code",
   "execution_count": null,
   "id": "b2ea1cee",
   "metadata": {},
   "outputs": [],
   "source": [
    "%%time\n",
    "df_reviews = df_reviews[0].apply(lambda x: pd.Series(eval(x)))\n",
    "df_reviews.head()"
   ]
  },
  {
   "cell_type": "code",
   "execution_count": null,
   "id": "eef2749e",
   "metadata": {},
   "outputs": [],
   "source": [
    "whos"
   ]
  },
  {
   "cell_type": "code",
   "execution_count": null,
   "id": "87decc04",
   "metadata": {},
   "outputs": [],
   "source": []
  }
 ],
 "metadata": {
  "kernelspec": {
   "display_name": "Python 3",
   "language": "python",
   "name": "python3"
  },
  "language_info": {
   "codemirror_mode": {
    "name": "ipython",
    "version": 3
   },
   "file_extension": ".py",
   "mimetype": "text/x-python",
   "name": "python",
   "nbconvert_exporter": "python",
   "pygments_lexer": "ipython3",
   "version": "3.7.10"
  }
 },
 "nbformat": 4,
 "nbformat_minor": 5
}
