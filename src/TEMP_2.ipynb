{
 "cells": [
  {
   "cell_type": "code",
   "execution_count": 1,
   "id": "58409c66",
   "metadata": {},
   "outputs": [
    {
     "name": "stdout",
     "output_type": "stream",
     "text": [
      "delme.json\n",
      "dir.txt\n",
      "gPlusPlaceId_4_duplicates.json\n",
      "gPlusPlaceId_filter.json\n",
      "places.clean.json\n",
      "places.json\n",
      "places_gps.json\n",
      "places_gps_no_dup_indexed.json\n",
      "places_revs_count.json\n",
      "places_sub.json\n",
      "places_sub_gps.json\n",
      "reviews.clean.json\n",
      "reviews.json\n",
      "reviews_gPlusPlaceId_index_no_duplicates.json\n",
      "reviews_sub.json\n",
      "users.clean.json\n",
      "users.json\n",
      "users_sub.json\n"
     ]
    }
   ],
   "source": [
    "!ls data"
   ]
  },
  {
   "cell_type": "code",
   "execution_count": 2,
   "id": "e8feee3b",
   "metadata": {},
   "outputs": [],
   "source": [
    "import beepy\n",
    "beepy.beep(sound=1) # 1 : 'coin'\n",
    "# beepy.beep(sound=5) # 5 : 'ready' too noisy\n",
    "# beepy.beep(sound=4) # 4 : 'ping'"
   ]
  },
  {
   "cell_type": "code",
   "execution_count": 4,
   "id": "6af335b2",
   "metadata": {},
   "outputs": [],
   "source": [
    "import numpy as np\n",
    "import pandas as pd"
   ]
  },
  {
   "cell_type": "code",
   "execution_count": 5,
   "id": "734a1d5a",
   "metadata": {},
   "outputs": [
    {
     "name": "stdout",
     "output_type": "stream",
     "text": [
      "<class 'pandas.core.frame.DataFrame'>\n",
      "DatetimeIndex: 3061988 entries, 2003-03-06 23:49:04 to 2006-05-05 03:09:30\n",
      "Data columns (total 10 columns):\n",
      " #   Column              Dtype  \n",
      "---  ------              -----  \n",
      " 0   name                object \n",
      " 1   price               object \n",
      " 2   address             object \n",
      " 3   hours               object \n",
      " 4   phone               object \n",
      " 5   closed              bool   \n",
      " 6   gPlusPlaceId        float64\n",
      " 7   Y_NS_latitudes      float64\n",
      " 8   X_EW_longitudes     float64\n",
      " 9   gPlusPlaceId_index  int64  \n",
      "dtypes: bool(1), float64(3), int64(1), object(5)\n",
      "memory usage: 236.5+ MB\n",
      "CPU times: user 42.8 s, sys: 5.45 s, total: 48.3 s\n",
      "Wall time: 54.1 s\n"
     ]
    }
   ],
   "source": [
    "%%time\n",
    "df_places_gps = pd.read_json('data/places_gps_no_dup_indexed.json')\n",
    "df_places_gps.head()\n",
    "df_places_gps.info()\n",
    "beepy.beep(sound=4) # 4 : 'ping'"
   ]
  },
  {
   "cell_type": "code",
   "execution_count": 6,
   "id": "b6f04efe",
   "metadata": {},
   "outputs": [
    {
     "data": {
      "text/html": [
       "<div>\n",
       "<style scoped>\n",
       "    .dataframe tbody tr th:only-of-type {\n",
       "        vertical-align: middle;\n",
       "    }\n",
       "\n",
       "    .dataframe tbody tr th {\n",
       "        vertical-align: top;\n",
       "    }\n",
       "\n",
       "    .dataframe thead th {\n",
       "        text-align: right;\n",
       "    }\n",
       "</style>\n",
       "<table border=\"1\" class=\"dataframe\">\n",
       "  <thead>\n",
       "    <tr style=\"text-align: right;\">\n",
       "      <th></th>\n",
       "      <th>name</th>\n",
       "      <th>price</th>\n",
       "      <th>address</th>\n",
       "      <th>hours</th>\n",
       "      <th>phone</th>\n",
       "      <th>closed</th>\n",
       "      <th>gPlusPlaceId</th>\n",
       "      <th>Y_NS_latitudes</th>\n",
       "      <th>X_EW_longitudes</th>\n",
       "      <th>gPlusPlaceId_index</th>\n",
       "    </tr>\n",
       "  </thead>\n",
       "  <tbody>\n",
       "    <tr>\n",
       "      <th>2003-03-06 23:49:04</th>\n",
       "      <td>Diamond Valley Lake Marina</td>\n",
       "      <td>None</td>\n",
       "      <td>[2615 Angler Ave, Hemet, CA 92545]</td>\n",
       "      <td>[[Monday, [['6:30 am--4:15 pm']]], [Tuesday, [...</td>\n",
       "      <td>(951) 926-7201</td>\n",
       "      <td>False</td>\n",
       "      <td>1.046995e+20</td>\n",
       "      <td>33.703804</td>\n",
       "      <td>-117.003209</td>\n",
       "      <td>1046994544</td>\n",
       "    </tr>\n",
       "    <tr>\n",
       "      <th>2002-08-28 14:26:29</th>\n",
       "      <td>Blue Ribbon Cleaners</td>\n",
       "      <td>None</td>\n",
       "      <td>[Parole, Annapolis, MD]</td>\n",
       "      <td>None</td>\n",
       "      <td>(410) 266-6123</td>\n",
       "      <td>False</td>\n",
       "      <td>1.030545e+20</td>\n",
       "      <td>38.979759</td>\n",
       "      <td>-76.547538</td>\n",
       "      <td>1030544789</td>\n",
       "    </tr>\n",
       "    <tr>\n",
       "      <th>2004-10-18 12:35:01</th>\n",
       "      <td>Portofino</td>\n",
       "      <td>None</td>\n",
       "      <td>[ул. Тутаева, 1, Nazran, Ingushetia, Russia, 3...</td>\n",
       "      <td>[[Monday, [['9:30 am--9:00 pm']]], [Tuesday, [...</td>\n",
       "      <td>8 (963) 173-38-38</td>\n",
       "      <td>False</td>\n",
       "      <td>1.098103e+20</td>\n",
       "      <td>43.227760</td>\n",
       "      <td>44.762726</td>\n",
       "      <td>1098102901</td>\n",
       "    </tr>\n",
       "    <tr>\n",
       "      <th>2001-10-16 22:32:11</th>\n",
       "      <td>T C's Referee Sports Bar</td>\n",
       "      <td>$$</td>\n",
       "      <td>[5322 W 26th St, Sioux Falls, SD 57106]</td>\n",
       "      <td>[[Monday, [['11:00 am--10:00 pm']]], [Tuesday,...</td>\n",
       "      <td>(605) 361-2208</td>\n",
       "      <td>False</td>\n",
       "      <td>1.003272e+20</td>\n",
       "      <td>43.529494</td>\n",
       "      <td>-96.792244</td>\n",
       "      <td>1003271531</td>\n",
       "    </tr>\n",
       "    <tr>\n",
       "      <th>2002-10-03 22:41:13</th>\n",
       "      <td>Carrefour - Palembang Square</td>\n",
       "      <td>None</td>\n",
       "      <td>[Jl. Angkatan 45, Kompleks Palembang Square, S...</td>\n",
       "      <td>[[Monday, [['8:00 am--9:00 pm']]], [Tuesday, [...</td>\n",
       "      <td>(0711) 359918</td>\n",
       "      <td>False</td>\n",
       "      <td>1.033685e+20</td>\n",
       "      <td>-2.976256</td>\n",
       "      <td>104.742662</td>\n",
       "      <td>1033684873</td>\n",
       "    </tr>\n",
       "  </tbody>\n",
       "</table>\n",
       "</div>"
      ],
      "text/plain": [
       "                                             name price  \\\n",
       "2003-03-06 23:49:04    Diamond Valley Lake Marina  None   \n",
       "2002-08-28 14:26:29          Blue Ribbon Cleaners  None   \n",
       "2004-10-18 12:35:01                     Portofino  None   \n",
       "2001-10-16 22:32:11      T C's Referee Sports Bar    $$   \n",
       "2002-10-03 22:41:13  Carrefour - Palembang Square  None   \n",
       "\n",
       "                                                               address  \\\n",
       "2003-03-06 23:49:04                 [2615 Angler Ave, Hemet, CA 92545]   \n",
       "2002-08-28 14:26:29                            [Parole, Annapolis, MD]   \n",
       "2004-10-18 12:35:01  [ул. Тутаева, 1, Nazran, Ingushetia, Russia, 3...   \n",
       "2001-10-16 22:32:11            [5322 W 26th St, Sioux Falls, SD 57106]   \n",
       "2002-10-03 22:41:13  [Jl. Angkatan 45, Kompleks Palembang Square, S...   \n",
       "\n",
       "                                                                 hours  \\\n",
       "2003-03-06 23:49:04  [[Monday, [['6:30 am--4:15 pm']]], [Tuesday, [...   \n",
       "2002-08-28 14:26:29                                               None   \n",
       "2004-10-18 12:35:01  [[Monday, [['9:30 am--9:00 pm']]], [Tuesday, [...   \n",
       "2001-10-16 22:32:11  [[Monday, [['11:00 am--10:00 pm']]], [Tuesday,...   \n",
       "2002-10-03 22:41:13  [[Monday, [['8:00 am--9:00 pm']]], [Tuesday, [...   \n",
       "\n",
       "                                 phone  closed  gPlusPlaceId  Y_NS_latitudes  \\\n",
       "2003-03-06 23:49:04     (951) 926-7201   False  1.046995e+20       33.703804   \n",
       "2002-08-28 14:26:29     (410) 266-6123   False  1.030545e+20       38.979759   \n",
       "2004-10-18 12:35:01  8 (963) 173-38-38   False  1.098103e+20       43.227760   \n",
       "2001-10-16 22:32:11     (605) 361-2208   False  1.003272e+20       43.529494   \n",
       "2002-10-03 22:41:13      (0711) 359918   False  1.033685e+20       -2.976256   \n",
       "\n",
       "                     X_EW_longitudes  gPlusPlaceId_index  \n",
       "2003-03-06 23:49:04      -117.003209          1046994544  \n",
       "2002-08-28 14:26:29       -76.547538          1030544789  \n",
       "2004-10-18 12:35:01        44.762726          1098102901  \n",
       "2001-10-16 22:32:11       -96.792244          1003271531  \n",
       "2002-10-03 22:41:13       104.742662          1033684873  "
      ]
     },
     "execution_count": 6,
     "metadata": {},
     "output_type": "execute_result"
    }
   ],
   "source": [
    "df_places_gps.head()"
   ]
  },
  {
   "cell_type": "code",
   "execution_count": 7,
   "id": "870d875e",
   "metadata": {},
   "outputs": [],
   "source": [
    "# Create list of gPlusPlaceId_index column for gps box\n",
    "# From Alexey.ipynb\n",
    "\n",
    "# https://en.wikipedia.org/wiki/Earth_radius\n",
    "# R_avg = 3,959 miles (3950~3963)\n",
    "# GPS local search subsample\n",
    "# given local coordinates, and radius, subsample df_places\n",
    "local = [47.85408756055844, -122.21958066838837] # Alexey's local USPS GPS from google maps 98012\n",
    "# [latitude North-South, longitude East-West]; opposite order x(EW), y(NS) for geopandas\n",
    "radius = 5 # miles\n",
    "\n",
    "import math  # for # math.pi, math.cos()\n",
    "\n",
    "def check_gps(gps_list, radius):\n",
    "    '''\n",
    "    gps_list = [NS_gps, EW_gps] in decimal degrees (Google map right-click output)\n",
    "    exampe: [47.85408756055844, -122.21958066838837] - 98012 USPS\n",
    "    radius - desired radius of interest im miles\n",
    "    \n",
    "    https://en.wikipedia.org/wiki/Earth_radius\n",
    "    R_avg = 3,959 miles (3950~3963)\n",
    "\n",
    "    gps column in places.gps is in the form ['NS_latitudes','EW_longitudes']\n",
    "    Valid gps coordinates are NS +- 90.0, EW +- 180.0\n",
    "    There are incorrect NS 75755 (2.45%), EW 75369 (2.44%) of all data\n",
    "    let's do square first\n",
    "    IGNORE (BUG) flip through poles EW at exactly +-90.0, and +- at exactly 180.0\n",
    "    R_avg = 3959 miles, 1/4 equator-> pole 2*PI*R/4 = 90.0, or \n",
    "    PI*R/(180) = 1.0 in NS in miles\n",
    "    \n",
    "    Y_miles_NS_one_WAY_in_GPS_degrees = Y * 180/(PI * R_earth)\n",
    "    \n",
    "    R_ew = R_earth * cos(PI/180*NS_gps); R_earth at NS_gps = 0, 0 at NS_gps = +- 90.0\n",
    "    \n",
    "    X_miles_EW_one_WAY_in_GPS_degrees = X * 180/(PI * R_ew)\n",
    "    \n",
    "    import math\n",
    "    math.pi\n",
    "    3.141592653589793\n",
    "\n",
    "    '''\n",
    "    PI = math.pi  # 3.141592653589793\n",
    "    R_earth = 3959  # Average Earth radius\n",
    "    # Not GPS dependent going NS\n",
    "    Y_miles_NS_one_WAY_in_GPS_degrees = radius * 180/(PI * R_earth)\n",
    "    # GPS dependent on NS_gps - smaller EW circle\n",
    "    R_ew = R_earth * math.cos(PI/180*gps_list[0])\n",
    "    X_miles_EW_one_WAY_in_GPS_degrees = radius * 180/(PI * R_ew)\n",
    "    \n",
    "    return Y_miles_NS_one_WAY_in_GPS_degrees, X_miles_EW_one_WAY_in_GPS_degrees\n"
   ]
  },
  {
   "cell_type": "code",
   "execution_count": 9,
   "id": "4e499210",
   "metadata": {},
   "outputs": [],
   "source": [
    "# example of usage\n",
    "Y_NS_deg, X_EW_deg = check_gps([47.85408756055844, -122.21958066838837], 1.0)  # Google map 1.609344 km"
   ]
  },
  {
   "cell_type": "code",
   "execution_count": 13,
   "id": "8b50e899",
   "metadata": {},
   "outputs": [],
   "source": [
    "# create subsample using current gps, save as subsample db for the model \n",
    "# use def \n",
    "curr_gps = [47.85408756055844, -122.21958066838837]\n",
    "radius = 50.0\n",
    "Y_NS_deg, X_EW_deg = check_gps(curr_gps, radius)  # Google map 1.609344 km\n",
    "Y_NS_deg, X_EW_deg\n",
    "# construct a filter based on given GPS +- box\n",
    "# AND notation as & https://pythoninoffice.com/filter-a-pandas-dataframe-or-and-not/\n",
    "gps_box_filter = ((df_places_gps.Y_NS_latitudes < curr_gps[0] + Y_NS_deg) & \\\n",
    "           (df_places_gps.Y_NS_latitudes > curr_gps[0] - Y_NS_deg)) & \\\n",
    "          ((df_places_gps.X_EW_longitudes < curr_gps[1] + X_EW_deg) & \\\n",
    "           (df_places_gps.X_EW_longitudes > curr_gps[1] - X_EW_deg))"
   ]
  },
  {
   "cell_type": "code",
   "execution_count": 14,
   "id": "9bb2c742",
   "metadata": {},
   "outputs": [
    {
     "data": {
      "text/plain": [
       "23780"
      ]
     },
     "execution_count": 14,
     "metadata": {},
     "output_type": "execute_result"
    }
   ],
   "source": [
    "gps_box_filter.sum() # 23780 places records found at 50 miles radius of zip 98012"
   ]
  },
  {
   "cell_type": "code",
   "execution_count": 15,
   "id": "077d00ff",
   "metadata": {},
   "outputs": [
    {
     "data": {
      "text/html": [
       "<div>\n",
       "<style scoped>\n",
       "    .dataframe tbody tr th:only-of-type {\n",
       "        vertical-align: middle;\n",
       "    }\n",
       "\n",
       "    .dataframe tbody tr th {\n",
       "        vertical-align: top;\n",
       "    }\n",
       "\n",
       "    .dataframe thead th {\n",
       "        text-align: right;\n",
       "    }\n",
       "</style>\n",
       "<table border=\"1\" class=\"dataframe\">\n",
       "  <thead>\n",
       "    <tr style=\"text-align: right;\">\n",
       "      <th></th>\n",
       "      <th>name</th>\n",
       "      <th>price</th>\n",
       "      <th>address</th>\n",
       "      <th>hours</th>\n",
       "      <th>phone</th>\n",
       "      <th>closed</th>\n",
       "      <th>gPlusPlaceId</th>\n",
       "      <th>Y_NS_latitudes</th>\n",
       "      <th>X_EW_longitudes</th>\n",
       "      <th>gPlusPlaceId_index</th>\n",
       "    </tr>\n",
       "  </thead>\n",
       "  <tbody>\n",
       "    <tr>\n",
       "      <th>2007-02-10 14:28:17</th>\n",
       "      <td>Sumner's Topgun Muffler Brake</td>\n",
       "      <td>None</td>\n",
       "      <td>[15608 Main St E, Sumner, WA 98390]</td>\n",
       "      <td>None</td>\n",
       "      <td>(253) 863-3011</td>\n",
       "      <td>False</td>\n",
       "      <td>1.171118e+20</td>\n",
       "      <td>47.202430</td>\n",
       "      <td>-122.221043</td>\n",
       "      <td>1171117697</td>\n",
       "    </tr>\n",
       "    <tr>\n",
       "      <th>2004-02-26 09:23:23</th>\n",
       "      <td>Walt's Auto Care Center</td>\n",
       "      <td>None</td>\n",
       "      <td>[1702 SW Roxbury St, Seattle, WA 98106]</td>\n",
       "      <td>[[Monday, [['8:00 am--5:30 pm']]], [Tuesday, [...</td>\n",
       "      <td>(206) 764-0108</td>\n",
       "      <td>True</td>\n",
       "      <td>1.077787e+20</td>\n",
       "      <td>47.517611</td>\n",
       "      <td>-122.356875</td>\n",
       "      <td>1077787403</td>\n",
       "    </tr>\n",
       "    <tr>\n",
       "      <th>2002-07-15 04:57:31</th>\n",
       "      <td>Bishop's Alehouse</td>\n",
       "      <td>None</td>\n",
       "      <td>[11848 98th Pl NE, Kirkland, WA 98034]</td>\n",
       "      <td>[[Monday, [['3:00 pm--2:00 am']]], [Tuesday, [...</td>\n",
       "      <td>(425) 629-3742</td>\n",
       "      <td>False</td>\n",
       "      <td>1.026709e+20</td>\n",
       "      <td>47.706644</td>\n",
       "      <td>-122.210230</td>\n",
       "      <td>1026709051</td>\n",
       "    </tr>\n",
       "    <tr>\n",
       "      <th>2006-10-02 16:41:47</th>\n",
       "      <td>Auburn Avenue Dental Clinic: Walia Jyotsana MD</td>\n",
       "      <td>None</td>\n",
       "      <td>[130 3rd St NE, Auburn, WA 98002]</td>\n",
       "      <td>None</td>\n",
       "      <td>(253) 833-3680</td>\n",
       "      <td>True</td>\n",
       "      <td>1.159807e+20</td>\n",
       "      <td>47.310139</td>\n",
       "      <td>-122.227524</td>\n",
       "      <td>1159807307</td>\n",
       "    </tr>\n",
       "    <tr>\n",
       "      <th>2003-10-15 23:21:29</th>\n",
       "      <td>Community Bible Fellowship</td>\n",
       "      <td>None</td>\n",
       "      <td>[11227 Renton Ave S, Seattle, WA 98178]</td>\n",
       "      <td>None</td>\n",
       "      <td>(206) 772-1620</td>\n",
       "      <td>False</td>\n",
       "      <td>1.066260e+20</td>\n",
       "      <td>47.502029</td>\n",
       "      <td>-122.250980</td>\n",
       "      <td>1066260089</td>\n",
       "    </tr>\n",
       "  </tbody>\n",
       "</table>\n",
       "</div>"
      ],
      "text/plain": [
       "                                                               name price  \\\n",
       "2007-02-10 14:28:17                   Sumner's Topgun Muffler Brake  None   \n",
       "2004-02-26 09:23:23                         Walt's Auto Care Center  None   \n",
       "2002-07-15 04:57:31                               Bishop's Alehouse  None   \n",
       "2006-10-02 16:41:47  Auburn Avenue Dental Clinic: Walia Jyotsana MD  None   \n",
       "2003-10-15 23:21:29                      Community Bible Fellowship  None   \n",
       "\n",
       "                                                     address  \\\n",
       "2007-02-10 14:28:17      [15608 Main St E, Sumner, WA 98390]   \n",
       "2004-02-26 09:23:23  [1702 SW Roxbury St, Seattle, WA 98106]   \n",
       "2002-07-15 04:57:31   [11848 98th Pl NE, Kirkland, WA 98034]   \n",
       "2006-10-02 16:41:47        [130 3rd St NE, Auburn, WA 98002]   \n",
       "2003-10-15 23:21:29  [11227 Renton Ave S, Seattle, WA 98178]   \n",
       "\n",
       "                                                                 hours  \\\n",
       "2007-02-10 14:28:17                                               None   \n",
       "2004-02-26 09:23:23  [[Monday, [['8:00 am--5:30 pm']]], [Tuesday, [...   \n",
       "2002-07-15 04:57:31  [[Monday, [['3:00 pm--2:00 am']]], [Tuesday, [...   \n",
       "2006-10-02 16:41:47                                               None   \n",
       "2003-10-15 23:21:29                                               None   \n",
       "\n",
       "                              phone  closed  gPlusPlaceId  Y_NS_latitudes  \\\n",
       "2007-02-10 14:28:17  (253) 863-3011   False  1.171118e+20       47.202430   \n",
       "2004-02-26 09:23:23  (206) 764-0108    True  1.077787e+20       47.517611   \n",
       "2002-07-15 04:57:31  (425) 629-3742   False  1.026709e+20       47.706644   \n",
       "2006-10-02 16:41:47  (253) 833-3680    True  1.159807e+20       47.310139   \n",
       "2003-10-15 23:21:29  (206) 772-1620   False  1.066260e+20       47.502029   \n",
       "\n",
       "                     X_EW_longitudes  gPlusPlaceId_index  \n",
       "2007-02-10 14:28:17      -122.221043          1171117697  \n",
       "2004-02-26 09:23:23      -122.356875          1077787403  \n",
       "2002-07-15 04:57:31      -122.210230          1026709051  \n",
       "2006-10-02 16:41:47      -122.227524          1159807307  \n",
       "2003-10-15 23:21:29      -122.250980          1066260089  "
      ]
     },
     "execution_count": 15,
     "metadata": {},
     "output_type": "execute_result"
    }
   ],
   "source": [
    "gps_box = df_places_gps[gps_box_filter]\n",
    "gps_box.head() # Seattle, Kirkland, Auburn WA"
   ]
  },
  {
   "cell_type": "code",
   "execution_count": 16,
   "id": "309ef378",
   "metadata": {},
   "outputs": [
    {
     "data": {
      "text/plain": [
       "2007-02-10 14:28:17    1171117697\n",
       "2004-02-26 09:23:23    1077787403\n",
       "2002-07-15 04:57:31    1026709051\n",
       "2006-10-02 16:41:47    1159807307\n",
       "2003-10-15 23:21:29    1066260089\n",
       "                          ...    \n",
       "2006-04-19 10:18:22    1145441902\n",
       "2002-02-15 09:59:07    1013767147\n",
       "2007-01-12 23:53:09    1168645989\n",
       "2002-04-09 15:20:21    1018365621\n",
       "2003-04-29 07:07:23    1051600043\n",
       "Name: gPlusPlaceId_index, Length: 23780, dtype: int64"
      ]
     },
     "execution_count": 16,
     "metadata": {},
     "output_type": "execute_result"
    }
   ],
   "source": [
    "# extract index similar to duplicates\n",
    "gps_box['gPlusPlaceId_index'] # gPlusPlaceId_index values to use to filter reviews"
   ]
  },
  {
   "cell_type": "code",
   "execution_count": 19,
   "id": "e8b42d1f",
   "metadata": {},
   "outputs": [
    {
     "data": {
      "text/plain": [
       "pandas.core.series.Series"
      ]
     },
     "execution_count": 19,
     "metadata": {},
     "output_type": "execute_result"
    }
   ],
   "source": [
    "type(gps_box['gPlusPlaceId_index'])"
   ]
  },
  {
   "cell_type": "code",
   "execution_count": 21,
   "id": "1f7debca",
   "metadata": {},
   "outputs": [],
   "source": [
    "# gPlusPlaceId_index_gps_box = pd.read_json('data/gPlusPlaceId_4_gps_box.json')\n",
    "gps_box['gPlusPlaceId_index'].to_json('data/gPlusPlaceId_4_gps_box.json', index=True)"
   ]
  },
  {
   "cell_type": "code",
   "execution_count": 23,
   "id": "6ffdfccd",
   "metadata": {},
   "outputs": [],
   "source": [
    "gps_box.to_json('data/places_gps_box.json')"
   ]
  },
  {
   "cell_type": "code",
   "execution_count": 24,
   "id": "7b327f6c",
   "metadata": {},
   "outputs": [
    {
     "name": "stdout",
     "output_type": "stream",
     "text": [
      "delme.json\n",
      "dir.txt\n",
      "gPlusPlaceId_4_duplicates.json\n",
      "gPlusPlaceId_4_gps_box.json\n",
      "gPlusPlaceId_filter.json\n",
      "places.clean.json\n",
      "places.json\n",
      "places_gps.json\n",
      "places_gps_box.json\n",
      "places_gps_no_dup_indexed.json\n",
      "places_revs_count.json\n",
      "places_sub.json\n",
      "places_sub_gps.json\n",
      "reviews.clean.json\n",
      "reviews.json\n",
      "reviews_gPlusPlaceId_index_no_duplicates.json\n",
      "reviews_sub.json\n",
      "users.clean.json\n",
      "users.json\n",
      "users_sub.json\n"
     ]
    }
   ],
   "source": [
    "!ls data\n"
   ]
  },
  {
   "cell_type": "code",
   "execution_count": null,
   "id": "10db981f",
   "metadata": {},
   "outputs": [],
   "source": [
    "# Eiffel Tower (real, not in Australia) index = 1112632\n",
    "df_places_gps.loc[1112632] # !!! loc[1112632], NOT iloc[1112632]\n",
    "# gPlusPlaceId 118197036100000006144.0\n",
    "# NOW check against df_reviews "
   ]
  },
  {
   "cell_type": "code",
   "execution_count": null,
   "id": "df10144e",
   "metadata": {},
   "outputs": [],
   "source": [
    "# review from TEMP_3 reviews.json\n",
    "# df.iloc[359117] French review of Eiffel Tower  query 1662 reviews # 1\n",
    "# gPlusPlaceId 118197036100848205824.0 vs\n",
    "# gPlusPlaceId 118197036100000006144.0 from places_gps.json\n",
    "# how to extract nice format from places_gps.json df.loc[~]\n",
    "# 12 left symbols/digits match\n",
    "#  Now check 2nd most reviewed Kaaba"
   ]
  },
  {
   "cell_type": "code",
   "execution_count": null,
   "id": "1e51d03d",
   "metadata": {},
   "outputs": [],
   "source": [
    "conv_coeff = 1e11\n",
    "duplicate_1 = 118197036100848205824.0\n",
    "duplicate_2 = 118197036100000006144.0\n",
    "print(duplicate_1/conv_coeff, duplicate_2/conv_coeff)\n",
    "# int() rounds down to 0, round to the nearest integer; \n",
    "# The great question is would round mess up say Eiffel Tower paces/reviews match\n",
    "print(round(duplicate_1/conv_coeff), round(duplicate_2/conv_coeff)) # different 1116019360 1116019359"
   ]
  },
  {
   "cell_type": "code",
   "execution_count": null,
   "id": "bb1079e1",
   "metadata": {},
   "outputs": [],
   "source": [
    "# Kaaba query 982 reviews\n",
    "# df_places_gps.loc[1470841] # The real Kaaba 1470841\n",
    "# gPlusPlaceId 113708963000000004096.0\n",
    "# gPlusPlaceId 113708963026857000960.0 from places_gps.json\n",
    "# how to extract nice format from places_gps.json df.loc[~]\n",
    "# 10 left symbols/digits match\n"
   ]
  },
  {
   "cell_type": "code",
   "execution_count": null,
   "id": "b3abda60",
   "metadata": {},
   "outputs": [],
   "source": [
    "conv_coeff = 1e11\n",
    "duplicate_1 = 113708963000000004096.0\n",
    "duplicate_2 = 113708963026857000960.0\n",
    "print(duplicate_1/conv_coeff, duplicate_2/conv_coeff)\n",
    "# int() rounds down to 0, round to the nearest integer; \n",
    "# The great question is would round mess up say Eiffel Tower paces/reviews match\n",
    "print(round(duplicate_1/conv_coeff), round(duplicate_2/conv_coeff)) # different 1116019360 1116019359"
   ]
  },
  {
   "cell_type": "code",
   "execution_count": null,
   "id": "938f7b81",
   "metadata": {},
   "outputs": [],
   "source": [
    "# Santiago Bernabéu Stadium Madrid 790 reviews\n",
    "# df_places_gps.loc[1470841] # \n",
    "# gPlusPlaceId 107_836_749_011706691584.0 df.loc[602954] from reviews\n",
    "# gPlusPlaceId 107_836_748_999999995904.0 from df_places_gps.loc[2368404]\n",
    "# how to extract nice format from places_gps.json df.loc[~]\n",
    "# 8 left symbols/digits match\n",
    "\n"
   ]
  },
  {
   "cell_type": "code",
   "execution_count": null,
   "id": "589e1602",
   "metadata": {},
   "outputs": [],
   "source": [
    "conv_coeff = 1e11\n",
    "duplicate_1 = 107_836_749_011706691584.0\n",
    "duplicate_2 = 107_836_748_999999995904.0\n",
    "print(duplicate_1/conv_coeff, duplicate_2/conv_coeff)\n",
    "# int() rounds down to 0, round to the nearest integer; \n",
    "# The great question is would round mess up say Eiffel Tower paces/reviews match\n",
    "print(round(duplicate_1/conv_coeff), round(duplicate_2/conv_coeff)) # different 1116019360 1116019359"
   ]
  },
  {
   "cell_type": "code",
   "execution_count": null,
   "id": "7e510af4",
   "metadata": {},
   "outputs": [],
   "source": [
    "# Santiago Bernabéu Stadium Madrid 790 reviews\n",
    "# gPlusPlaceId 107_836_749_011706691584.0 df.loc[602954] from reviews\n",
    "# gPlusPlaceId 107_836_748_999999995904.0 from df_places_gps.loc[2368404]\n",
    "# int(1.99999999999) = 1, but 107836748999999995904.0/1e11 = 1078367490.0\n",
    "z = int(107836748999999995904.0/1e11)  # from df_places_gps.loc[2368404\n",
    "z # 107_836_749_0"
   ]
  },
  {
   "cell_type": "code",
   "execution_count": null,
   "id": "9fc12025",
   "metadata": {},
   "outputs": [],
   "source": [
    "# Kaaba\n",
    "# 113708963000000004096.0  /1e11 ~ 1137089630.0\n",
    "# 113708963026857000960.0 /1e11 ~  1137089630.26857\n",
    "# 113708963026857000960.0/1e11\n",
    "113708963026857000960.0/1e10"
   ]
  },
  {
   "cell_type": "code",
   "execution_count": null,
   "id": "da8a8c93",
   "metadata": {},
   "outputs": [],
   "source": [
    "# Taj Mahal 790 reviews\n",
    "# df_places_gps.loc[220396] # 1e11 box\n",
    "# gPlusPlaceId 114_299_893_800000012288.0  df_places_gps.loc[220396]\n",
    "# gPlusPlaceId 114_299_893_842663636992.0 from places_gps.json df.loc[789985]\n",
    "# how to extract nice format from places_gps.json df.loc[~]\n",
    "# 10 left symbols/digits match\n",
    "\n"
   ]
  },
  {
   "cell_type": "code",
   "execution_count": null,
   "id": "736bd5f0",
   "metadata": {},
   "outputs": [],
   "source": [
    "conv_coeff = 1e11\n",
    "duplicate_1 = 114_299_893_800000012288.0\n",
    "duplicate_2 = 14_299_893_842663636992.0\n",
    "print(duplicate_1/conv_coeff, duplicate_2/conv_coeff)\n",
    "# int() rounds down to 0, round to the nearest integer; \n",
    "# The great question is would round mess up say Eiffel Tower paces/reviews match\n",
    "print(round(duplicate_1/conv_coeff), round(duplicate_2/conv_coeff)) # different 1116019360 1116019359"
   ]
  },
  {
   "cell_type": "code",
   "execution_count": null,
   "id": "51750bad",
   "metadata": {},
   "outputs": [],
   "source": [
    "# # Add column as a string of gPlusPlaceId\n",
    "# df_places_gps['tmp'] = f\"{df_places_gps['gPlusPlaceId']: .0f}\""
   ]
  },
  {
   "cell_type": "code",
   "execution_count": null,
   "id": "16a7c02a",
   "metadata": {},
   "outputs": [],
   "source": [
    "df_places_gps.head()"
   ]
  },
  {
   "cell_type": "code",
   "execution_count": null,
   "id": "8a42afaa",
   "metadata": {},
   "outputs": [],
   "source": [
    "# !!!!!!!!!!!!!! int() rounds to 0 => duplicates, round() to the nearest int\n",
    "# df_places_gps['gPlusPlaceId_index'] = df_places_gps['gPlusPlaceId'].transform(lambda x: int(x/1e11))\n",
    "df_places_gps['gPlusPlaceId_index'] = df_places_gps['gPlusPlaceId'].transform(lambda x: round(x/1e11))\n",
    "df_places_gps.head()"
   ]
  },
  {
   "cell_type": "code",
   "execution_count": null,
   "id": "39779514",
   "metadata": {},
   "outputs": [],
   "source": [
    "df_places_gps.set_index('gPlusPlaceId_index', inplace=True)"
   ]
  },
  {
   "cell_type": "code",
   "execution_count": null,
   "id": "6d0eba49",
   "metadata": {},
   "outputs": [],
   "source": [
    "# Eiffel Tower\n",
    "# df_places_gps.loc[1181970361] # use loc - actual index, not sequential\n",
    "# Kaaba\n",
    "# df_places_gps.loc[1137089630] # use loc - actual index, not sequential\n",
    "# Santiago Bernabéu Stadium\n",
    "# df_places_gps.loc[107_836_749_0] # use loc - actual index, not sequential\n",
    "# \n",
    "df_places_gps.loc[107_836_749_0] # use loc - actual index, not sequential"
   ]
  },
  {
   "cell_type": "code",
   "execution_count": null,
   "id": "cebd5cf3",
   "metadata": {},
   "outputs": [],
   "source": [
    "!ls data"
   ]
  },
  {
   "cell_type": "code",
   "execution_count": null,
   "id": "7b509c11",
   "metadata": {},
   "outputs": [],
   "source": [
    "whos"
   ]
  },
  {
   "cell_type": "code",
   "execution_count": null,
   "id": "9b34031a",
   "metadata": {},
   "outputs": [],
   "source": [
    "backup = df_places_gps.copy(deep=True)"
   ]
  },
  {
   "cell_type": "code",
   "execution_count": null,
   "id": "31462714",
   "metadata": {},
   "outputs": [],
   "source": [
    "df_places_gps['gPlusPlaceId_index'] = df_places_gps.index"
   ]
  },
  {
   "cell_type": "code",
   "execution_count": null,
   "id": "ced2a37e",
   "metadata": {},
   "outputs": [],
   "source": [
    "df_places_gps.head()"
   ]
  },
  {
   "cell_type": "code",
   "execution_count": null,
   "id": "19df1014",
   "metadata": {},
   "outputs": [],
   "source": [
    "# boolean = not df_places_gps[\"gPlusPlaceId_index\"].is_unique      # True (credit to @Carsten)\n",
    "boolean = df_places_gps[\"gPlusPlaceId_index\"].duplicated().any()\n",
    "boolean"
   ]
  },
  {
   "cell_type": "code",
   "execution_count": null,
   "id": "d066cce1",
   "metadata": {},
   "outputs": [],
   "source": [
    "conv_coeff = 1e11\n",
    "duplicate_1 = 1.1160193599999998e+20\n",
    "duplicate_2 = 1.1160193590000001e+20\n",
    "print(duplicate_1/conv_coeff, duplicate_2/conv_coeff)\n",
    "# int() rounds down to 0, round to the nearest integer; \n",
    "# The great question is would round mess up say EIffel Tower paces/reviews match\n",
    "print(round(duplicate_1/conv_coeff), round(duplicate_2/conv_coeff)) # different 1116019360 1116019359"
   ]
  },
  {
   "cell_type": "code",
   "execution_count": null,
   "id": "7a18721a",
   "metadata": {},
   "outputs": [],
   "source": [
    "# iloc[0] gPlusPlaceId 104991888599999987712.0 name: Osteria \"Libertaria\", address ['Calata Matteotti, 12', '57037 Portoferraio Livorno', 'Italy']\n",
    "# iloc[1] gPlusPlaceId 104991888599999987712.0 name Kiosk am ZOB Reinhold Schöttke, address [Mölln, Germany]\n",
    "df_places_gps.loc[1049918886].iloc[0]['address']"
   ]
  },
  {
   "cell_type": "code",
   "execution_count": null,
   "id": "2134e6cf",
   "metadata": {},
   "outputs": [],
   "source": [
    "df_places_gps.shape # (3087402, 10)\n",
    "#  duplicates [25414 rows x 10 columns]\n",
    "25_414*100/3_087_402  # 0.8231516336388977 0.8% with messed up gPlusPlaceId's\n"
   ]
  },
  {
   "cell_type": "code",
   "execution_count": null,
   "id": "32eaaa23",
   "metadata": {},
   "outputs": [],
   "source": [
    "df_places_gps.duplicated(subset=['gPlusPlaceId_index']).sum() # 25414 duplicate indices\n",
    "# How many places overall ?"
   ]
  },
  {
   "cell_type": "code",
   "execution_count": null,
   "id": "49f9c01c",
   "metadata": {},
   "outputs": [],
   "source": [
    "duplicate_in_gPlusPlaceId_index.shape"
   ]
  },
  {
   "cell_type": "code",
   "execution_count": null,
   "id": "0594108f",
   "metadata": {},
   "outputs": [],
   "source": [
    "duplicate_Ids = duplicate_Ids.to_frame()\n",
    "duplicate_Ids['gPlusPlaceId_index'] = duplicate_Ids.index\n",
    "# duplicate_Ids.reindex()\n",
    "# duplicate_Ids.columns()\n",
    "duplicate_Ids.head()"
   ]
  },
  {
   "cell_type": "code",
   "execution_count": null,
   "id": "64480cf9",
   "metadata": {},
   "outputs": [],
   "source": [
    "duplicate_Ids.head()"
   ]
  },
  {
   "cell_type": "code",
   "execution_count": null,
   "id": "6dbb5d5a",
   "metadata": {},
   "outputs": [],
   "source": [
    "duplicate_Ids = duplicate_in_gPlusPlaceId_index[duplicate_in_gPlusPlaceId_index == True]\n",
    "duplicate_Ids.shape # (25414,) pandas.core.series.Series duplicate ids\n",
    "#  are there duplicates in duplicates ?!\n",
    "\n",
    "duplicate_Ids = duplicate_Ids.to_frame()\n",
    "duplicate_Ids['gPlusPlaceId_index'] = duplicate_Ids.index\n",
    "\n",
    "# Approach 2: First store boolean array, check then remove\n",
    "DD_index = duplicate_Ids.duplicated(subset=['gPlusPlaceId_index'])\n",
    "if DD_index.any():\n",
    "    print(duplicate_Ids.loc[DD_index], end='\\n\\n')"
   ]
  },
  {
   "cell_type": "code",
   "execution_count": null,
   "id": "905b6379",
   "metadata": {},
   "outputs": [],
   "source": [
    " # len() = 25278-25414 = -136(some appered several times)\n",
    "unique_duplicates_gPlusPlaceId_index = pd.DataFrame(\n",
    "    pd.unique(duplicate_Ids['gPlusPlaceId_index']))\n",
    "unique_duplicates_gPlusPlaceId_index.rename(columns = {'0':'gPlusPlaceId_index'}, inplace = True)\n",
    "unique_duplicates_gPlusPlaceId_index.head()\n",
    "unique_duplicates_gPlusPlaceId_index.to_json('data/gPlusPlaceId_4_duplicates.json')"
   ]
  },
  {
   "cell_type": "code",
   "execution_count": null,
   "id": "47a26495",
   "metadata": {},
   "outputs": [],
   "source": [
    "z=pd.read_json('data/gPlusPlaceId_4_duplicates.json')\n",
    "z.head(), z.shape\n",
    "z.loc[25277]"
   ]
  },
  {
   "cell_type": "code",
   "execution_count": null,
   "id": "b8be4142",
   "metadata": {},
   "outputs": [],
   "source": [
    "type(unique_duplicates_gPlusPlaceId_index)"
   ]
  },
  {
   "cell_type": "code",
   "execution_count": null,
   "id": "a92d2613",
   "metadata": {},
   "outputs": [],
   "source": [
    "# type(df_places_gps.loc[duplicate_in_gPlusPlaceId_index])\n",
    "duplicate_Ids = duplicate_in_gPlusPlaceId_index[duplicate_in_gPlusPlaceId_index == True]\n",
    "duplicate_Ids.shape # (25414,) pandas.core.series.Series duplicate ids\n",
    "duplicate_Ids.to_json('data/gPlusPlaceId_4_duplicates.json')"
   ]
  },
  {
   "cell_type": "code",
   "execution_count": null,
   "id": "6b34af95",
   "metadata": {},
   "outputs": [],
   "source": [
    "df_places_gps.loc[~duplicate_in_gPlusPlaceId_index].shape # (25414, 10) duplicates 0.82 %; ~(NOT dupl)(3061988, 10)"
   ]
  },
  {
   "cell_type": "code",
   "execution_count": null,
   "id": "71b89d2c",
   "metadata": {},
   "outputs": [],
   "source": [
    "# Approach 2: First store boolean array, check then remove\n",
    "duplicate_in_gPlusPlaceId_index = df_places_gps.duplicated(subset=['gPlusPlaceId_index'])\n",
    "if duplicate_in_gPlusPlaceId_index.any():\n",
    "    print(df_places_gps.loc[duplicate_in_gPlusPlaceId_index], end='\\n\\n')\n"
   ]
  },
  {
   "cell_type": "code",
   "execution_count": null,
   "id": "7ec8446d",
   "metadata": {},
   "outputs": [],
   "source": [
    "# iloc[0] 104991888599999987712.0\n",
    "# iloc[1] 104991888599999987712.0\n",
    "df_places_gps.loc[1049918886].iloc[1]"
   ]
  },
  {
   "cell_type": "code",
   "execution_count": null,
   "id": "d749a026",
   "metadata": {},
   "outputs": [],
   "source": [
    "%%time\n",
    "# Attempt to save non-duplicates with corrected gPlusPlaceId_index from int(to 0) to round (to nearest)\n",
    "df_places_gps.loc[~duplicate_in_gPlusPlaceId_index].to_json('data/places_gps_no_dup_indexed.json', index=True)\n",
    "beepy.beep(sound=4) # 4 : 'ping'"
   ]
  },
  {
   "cell_type": "code",
   "execution_count": null,
   "id": "c33bc261",
   "metadata": {},
   "outputs": [],
   "source": [
    "%%time\n",
    "read_places_indexed = pd.read_json('data/places_gps_no_dup_indexed.json')\n",
    "read_places_indexed.set_index('gPlusPlaceId_index', inplace=True)\n",
    "beepy.beep(sound=4) # 4 : 'ping'\n",
    "read_places_indexed.head()"
   ]
  },
  {
   "cell_type": "code",
   "execution_count": null,
   "id": "05fa29de",
   "metadata": {},
   "outputs": [],
   "source": [
    "junk = pd.DataFrame({'A': range(3), 'B': range(1, 4)})\n",
    "junk"
   ]
  },
  {
   "cell_type": "code",
   "execution_count": null,
   "id": "6fa15289",
   "metadata": {},
   "outputs": [],
   "source": [
    "junk['C'] = junk['A'].transform(lambda x: int(100*x/5.3))\n",
    "junk"
   ]
  },
  {
   "cell_type": "code",
   "execution_count": null,
   "id": "b28cc9ab",
   "metadata": {},
   "outputs": [],
   "source": [
    "df_places_gps = df_places_gps.set_index(['gPlusPlaceId'])"
   ]
  },
  {
   "cell_type": "code",
   "execution_count": null,
   "id": "79c30874",
   "metadata": {},
   "outputs": [],
   "source": [
    "%%time\n",
    "# search_list = df_places_gps[df_places_gps['address'].str.contains(\"Madrid\")]\n",
    "search_list = df_places_gps[df_places_gps['name'].str.contains(\"Taj Mahal\")] #df\n",
    "len(search_list)\n",
    "# beepy.beep(sound=4) # 4 : 'ping'"
   ]
  },
  {
   "cell_type": "code",
   "execution_count": null,
   "id": "533be290",
   "metadata": {},
   "outputs": [],
   "source": [
    "search_list[:5]"
   ]
  },
  {
   "cell_type": "code",
   "execution_count": null,
   "id": "eadc73f3",
   "metadata": {},
   "outputs": [],
   "source": [
    "df_places_gps.loc[search_list[:5]]"
   ]
  },
  {
   "cell_type": "code",
   "execution_count": null,
   "id": "0c1ed5e4",
   "metadata": {},
   "outputs": [],
   "source": [
    "%%time\n",
    "search_list = df_places_gps[df_places_gps['address'].str.contains(\"Madrid\")]\n",
    "beepy.beep(sound=4) # 4 : 'ping'\n",
    "print(f'len(search_list) = {len(search_list)}')"
   ]
  },
  {
   "cell_type": "code",
   "execution_count": null,
   "id": "63d02bf9",
   "metadata": {},
   "outputs": [],
   "source": [
    "# df_places_gps[df_places_gps['name'].isin(['Eiffel Tower'])].index\n",
    "search_list = df_places_gps[df_places_gps['name'].isin(['Stadium'])].index.to_list()"
   ]
  },
  {
   "cell_type": "code",
   "execution_count": null,
   "id": "bd58304e",
   "metadata": {},
   "outputs": [],
   "source": [
    "# df_places_gps.loc[118197036100848205824.0]\n",
    "df_places_gps.loc[1.181970361e+20]  #  Eiffel Tower"
   ]
  },
  {
   "cell_type": "code",
   "execution_count": null,
   "id": "2c0ef770",
   "metadata": {},
   "outputs": [],
   "source": [
    "# df_places_gps.loc[[169796, 1470841, 1826505]] # The real Kaaba 1470841\n",
    "# df_places_gps.loc[1470841] # The real Kaaba 1470841\n",
    "df_places_gps.loc[search_list] # The real Kaaba 1470841"
   ]
  },
  {
   "cell_type": "code",
   "execution_count": null,
   "id": "1f5062a8",
   "metadata": {},
   "outputs": [],
   "source": [
    "df_places_gps.loc[1.0469945439999998e+20]"
   ]
  },
  {
   "cell_type": "code",
   "execution_count": null,
   "id": "f5396327",
   "metadata": {},
   "outputs": [],
   "source": [
    "# df_places_gps.loc[118197036100848205824.0]"
   ]
  },
  {
   "cell_type": "code",
   "execution_count": null,
   "id": "19326d13",
   "metadata": {},
   "outputs": [],
   "source": [
    "#  from reviews len('118197036100848205824') Eiffel tower TEMP3\n",
    "df_places_gps['gPlusPlaceId']"
   ]
  },
  {
   "cell_type": "code",
   "execution_count": null,
   "id": "d6e7ae3c",
   "metadata": {},
   "outputs": [],
   "source": []
  },
  {
   "cell_type": "code",
   "execution_count": null,
   "id": "7af0175e",
   "metadata": {},
   "outputs": [],
   "source": [
    "tmp = df_places_gps['gPlusPlaceId'].iloc[0]\n",
    "tmp = format(tmp, 'f') # '104699454399999983616.000000'\n",
    "tmp"
   ]
  },
  {
   "cell_type": "code",
   "execution_count": null,
   "id": "fb546529",
   "metadata": {},
   "outputs": [],
   "source": [
    "tmp = df_places_gps['gPlusPlaceId'].iloc[0]\n",
    "tmp=f\"{tmp:.0f}\"\n",
    "tmp # ============================================== can it be done on the whole series/column?\n",
    "len(tmp), tmp  # 21 characters"
   ]
  },
  {
   "cell_type": "code",
   "execution_count": null,
   "id": "226f034c",
   "metadata": {},
   "outputs": [],
   "source": [
    "len('1.181970361008482') # 17 characters Eiffel Tower from TEMP3 "
   ]
  },
  {
   "cell_type": "code",
   "execution_count": null,
   "id": "6e4593db",
   "metadata": {},
   "outputs": [],
   "source": [
    "tmp = df_places_gps['gPlusPlaceId'].iloc[0]\n",
    "tmp = repr(tmp) # '1.0469945439999998e+20'\n",
    "tmp"
   ]
  },
  {
   "cell_type": "code",
   "execution_count": null,
   "id": "4aba3695",
   "metadata": {},
   "outputs": [],
   "source": [
    "tmp = df_places_gps['gPlusPlaceId'].iloc[0]\n",
    "tmp = np.format_float_positional(tmp) # '104699454399999980000.'\n",
    "tmp"
   ]
  },
  {
   "cell_type": "code",
   "execution_count": null,
   "id": "fde48b1f",
   "metadata": {},
   "outputs": [],
   "source": [
    "%%time\n",
    "df_places = pd.DataFrame(open('data/places.clean.json'))\n",
    "df_places = df_places[0].apply(lambda x: pd.Series(eval(x)))\n",
    "df_places.head()"
   ]
  },
  {
   "cell_type": "code",
   "execution_count": null,
   "id": "00c7a232",
   "metadata": {},
   "outputs": [],
   "source": [
    "df_places.head()"
   ]
  },
  {
   "cell_type": "code",
   "execution_count": null,
   "id": "b7f45758",
   "metadata": {},
   "outputs": [],
   "source": [
    "df_places.info()"
   ]
  },
  {
   "cell_type": "code",
   "execution_count": null,
   "id": "591e4741",
   "metadata": {},
   "outputs": [],
   "source": [
    "df_columns_list = df_places.columns.to_list()\n",
    "type(df_columns_list), df_columns_list"
   ]
  },
  {
   "cell_type": "code",
   "execution_count": null,
   "id": "42b6ae68",
   "metadata": {},
   "outputs": [],
   "source": [
    "tmp = df_places.loc[:2].copy(deep=True)\n",
    "tmp"
   ]
  },
  {
   "cell_type": "code",
   "execution_count": null,
   "id": "553463f8",
   "metadata": {},
   "outputs": [],
   "source": [
    "tmp = tmp[0].apply(lambda x: pd.Series(eval(x)))\n",
    "tmp.head()"
   ]
  },
  {
   "cell_type": "code",
   "execution_count": null,
   "id": "8b4e9393",
   "metadata": {},
   "outputs": [],
   "source": [
    "tmp.info()"
   ]
  },
  {
   "cell_type": "code",
   "execution_count": null,
   "id": "91099446",
   "metadata": {},
   "outputs": [],
   "source": [
    "df_places.loc[:2].to_json('data/delme.json')"
   ]
  },
  {
   "cell_type": "code",
   "execution_count": null,
   "id": "3f6352df",
   "metadata": {},
   "outputs": [],
   "source": [
    "tmp_df = pd.read_json('data/delme.json')\n",
    "tmp_df.info()"
   ]
  },
  {
   "cell_type": "code",
   "execution_count": null,
   "id": "b860e400",
   "metadata": {},
   "outputs": [],
   "source": [
    "!ls data"
   ]
  },
  {
   "cell_type": "code",
   "execution_count": null,
   "id": "a9fa0df2",
   "metadata": {},
   "outputs": [],
   "source": [
    "%%time\n",
    "df=pd.read_json('data/places_gps.json')  # Wall time: 2min 25s Wall time: 5min 17s\n",
    "df.head()"
   ]
  },
  {
   "cell_type": "code",
   "execution_count": null,
   "id": "540ee93b",
   "metadata": {},
   "outputs": [],
   "source": [
    "backup = df.copy(deep=True)"
   ]
  },
  {
   "cell_type": "code",
   "execution_count": null,
   "id": "5c7ce182",
   "metadata": {},
   "outputs": [],
   "source": [
    "df['junk']=\"\"\n",
    "df.head()"
   ]
  },
  {
   "cell_type": "code",
   "execution_count": null,
   "id": "995188cb",
   "metadata": {},
   "outputs": [],
   "source": [
    "gPlusPlaceId_filter = df['gPlusPlaceId'].loc[:1].to_list()\n",
    "gPlusPlaceId_filter"
   ]
  },
  {
   "cell_type": "code",
   "execution_count": null,
   "id": "893a4c8b",
   "metadata": {},
   "outputs": [],
   "source": [
    "whos"
   ]
  },
  {
   "cell_type": "code",
   "execution_count": null,
   "id": "1522355b",
   "metadata": {},
   "outputs": [],
   "source": [
    "df.loc[df['gPlusPlaceId'].isin(gPlusPlaceId_filter), 'junk'] = 7\n",
    "df.head()"
   ]
  },
  {
   "cell_type": "code",
   "execution_count": null,
   "id": "d7c607cf",
   "metadata": {},
   "outputs": [],
   "source": [
    "%%time\n",
    "places_revs_count=pd.read_json('data/places_revs_count.json', typ='series')\n",
    "places_revs_count\n",
    "# use index (should have saved name \"gPlusPlaceId\")"
   ]
  },
  {
   "cell_type": "code",
   "execution_count": null,
   "id": "c109826d",
   "metadata": {},
   "outputs": [],
   "source": [
    "places_revs_count.index"
   ]
  },
  {
   "cell_type": "code",
   "execution_count": null,
   "id": "e114fa85",
   "metadata": {},
   "outputs": [],
   "source": [
    "whos"
   ]
  },
  {
   "cell_type": "code",
   "execution_count": null,
   "id": "332db65b",
   "metadata": {},
   "outputs": [],
   "source": [
    "df.head()"
   ]
  },
  {
   "cell_type": "code",
   "execution_count": null,
   "id": "b6695f7b",
   "metadata": {},
   "outputs": [],
   "source": [
    "#  3rd most reviewed place 790 ratings\n",
    "id_box = 1e11\n",
    "gPlusPlaceId =  107836749011706691584.0 # from reviews\n",
    "# gPlusPlaceId  107836748999999995904.0 # from places\n",
    "(df_places_gps.loc[(df_places_gps['gPlusPlaceId']>=gPlusPlaceId - id_box) & \n",
    "        (df_places_gps['gPlusPlaceId']<=gPlusPlaceId + id_box),:])"
   ]
  },
  {
   "cell_type": "code",
   "execution_count": null,
   "id": "97fe42eb",
   "metadata": {},
   "outputs": [],
   "source": [
    "df_places_gps.loc[2368404]"
   ]
  },
  {
   "cell_type": "code",
   "execution_count": null,
   "id": "098f7d32",
   "metadata": {},
   "outputs": [],
   "source": [
    "len('1181970361008482')"
   ]
  },
  {
   "cell_type": "code",
   "execution_count": null,
   "id": "83eb5df2",
   "metadata": {},
   "outputs": [],
   "source": [
    "df['gPlusPlaceId'].isin(places_revs_count.index)"
   ]
  },
  {
   "cell_type": "code",
   "execution_count": null,
   "id": "de73ef70",
   "metadata": {},
   "outputs": [],
   "source": [
    "filter_have_ratings = df.loc[df['gPlusPlaceId'].isin(places_revs_count.index), 'gPlusPlaceId']\n",
    "filter_have_ratings"
   ]
  },
  {
   "cell_type": "code",
   "execution_count": null,
   "id": "2f686ea4",
   "metadata": {},
   "outputs": [],
   "source": [
    "gPlusPlaceId_filter.head()"
   ]
  },
  {
   "cell_type": "code",
   "execution_count": null,
   "id": "0e217bfb",
   "metadata": {},
   "outputs": [],
   "source": [
    "df = backup.copy(deep=True)\n",
    "df.head()"
   ]
  },
  {
   "cell_type": "code",
   "execution_count": null,
   "id": "b16f12a6",
   "metadata": {},
   "outputs": [],
   "source": [
    "df.info()"
   ]
  },
  {
   "cell_type": "code",
   "execution_count": null,
   "id": "f68998f4",
   "metadata": {},
   "outputs": [],
   "source": [
    "gPlusPlaceId_filter.info()"
   ]
  },
  {
   "cell_type": "code",
   "execution_count": null,
   "id": "8125f864",
   "metadata": {},
   "outputs": [],
   "source": [
    "# https://developers.google.com/maps/documentation/places/web-service/place-id\n",
    "# A place ID is a textual identifier that uniquely identifies a place. \n",
    "# The length of the identifier may vary (there is no maximum length for Place IDs). Examples:\n",
    "\n",
    "# ChIJgUbEo8cfqokR5lP9_Wh_DaM\n",
    "# GhIJQWDl0CIeQUARxks3icF8U8A\n",
    "# EicxMyBNYXJrZXQgU3QsIFdpbG1pbmd0b24sIE5DIDI4NDAxLCBVU0EiGhIYChQKEgnRTo6ixx-qiRHo_bbmkCm7ZRAN\n",
    "# EicxMyBNYXJrZXQgU3QsIFdpbG1pbmd0b24sIE5DIDI4NDAxLCBVU0E\n",
    "# IhoSGAoUChIJ0U6OoscfqokR6P225pApu2UQDQ\n",
    "\n",
    "\n",
    "\n",
    "# gPlusPlaceId_filter['gPlusPlaceId'].to_list() # type: float\n",
    "gPlusPlaceId_filter['gPlusPlaceId'] = gPlusPlaceId_filter['gPlusPlaceId'].astype(int)\n",
    "gPlusPlaceId_filter.head()\n",
    "# [1.083788035e+20,\n",
    "#  1.0069647129999999e+20,\n",
    "#  1.154916021e+20,\n",
    "#  1.1421892040000001e+20,\n",
    "#  1.0968482829999999e+20,\n",
    "#  1.0080166800000002e+20,\n",
    "#  1.1671256190000002e+20,\n",
    "#  1.092820277e+20,\n",
    "#  1.114975692e+20,\n",
    "#  1.01969087e+20,\n",
    "#  1.084170551e+20,\n",
    "#  1.043224385e+20,\n",
    "#  1.1130349049999999e+20,\n",
    "#  1.09901333e+20,"
   ]
  },
  {
   "cell_type": "code",
   "execution_count": null,
   "id": "f0ca8d6c",
   "metadata": {},
   "outputs": [],
   "source": []
  },
  {
   "cell_type": "code",
   "execution_count": null,
   "id": "b8a41c51",
   "metadata": {},
   "outputs": [],
   "source": []
  },
  {
   "cell_type": "code",
   "execution_count": null,
   "id": "728e547f",
   "metadata": {},
   "outputs": [],
   "source": [
    "backup.head()"
   ]
  },
  {
   "cell_type": "code",
   "execution_count": null,
   "id": "35b1e94e",
   "metadata": {},
   "outputs": [],
   "source": [
    "# tmp_filter = df['gPlusPlaceId'] > gPlusPlaceId_filter['gPlusPlaceId'].to_list()[0] # > 10 works 11,453,845 all True\n",
    "# tmp_filter\n",
    "gps_filter = df['gPlusPlaceId'].isin(gPlusPlaceId_filter['gPlusPlaceId'].to_list()[0:2])\n",
    "# df[gps_filter]\n",
    "gps_filter.unique()"
   ]
  },
  {
   "cell_type": "code",
   "execution_count": null,
   "id": "4f59f9e4",
   "metadata": {},
   "outputs": [],
   "source": [
    "tmp_filter = df[df['gPlusPlaceId'] = 10] # gPlusPlaceId_filter.iloc[0]\n",
    "tmp_filter"
   ]
  },
  {
   "cell_type": "code",
   "execution_count": null,
   "id": "12845ce3",
   "metadata": {},
   "outputs": [],
   "source": [
    "gPlusPlaceId_filter.iloc[0]"
   ]
  },
  {
   "cell_type": "code",
   "execution_count": null,
   "id": "64d12c9b",
   "metadata": {},
   "outputs": [],
   "source": [
    "df.gPlusPlaceId.loc[gPlusPlaceId_filter.gPlusPlaceId].head()"
   ]
  },
  {
   "cell_type": "code",
   "execution_count": null,
   "id": "0e04cd8f",
   "metadata": {},
   "outputs": [],
   "source": [
    "df[gps_filter].head()"
   ]
  },
  {
   "cell_type": "code",
   "execution_count": null,
   "id": "eb7b015d",
   "metadata": {},
   "outputs": [],
   "source": [
    "gps_filter"
   ]
  },
  {
   "cell_type": "code",
   "execution_count": null,
   "id": "497005e0",
   "metadata": {},
   "outputs": [],
   "source": [
    "df.head()"
   ]
  },
  {
   "cell_type": "code",
   "execution_count": null,
   "id": "84a6f601",
   "metadata": {},
   "outputs": [],
   "source": []
  }
 ],
 "metadata": {
  "kernelspec": {
   "display_name": "Python 3",
   "language": "python",
   "name": "python3"
  },
  "language_info": {
   "codemirror_mode": {
    "name": "ipython",
    "version": 3
   },
   "file_extension": ".py",
   "mimetype": "text/x-python",
   "name": "python",
   "nbconvert_exporter": "python",
   "pygments_lexer": "ipython3",
   "version": "3.7.11"
  }
 },
 "nbformat": 4,
 "nbformat_minor": 5
}
